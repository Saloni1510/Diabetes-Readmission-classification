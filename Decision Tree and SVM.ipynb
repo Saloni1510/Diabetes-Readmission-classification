{
 "cells": [
  {
   "cell_type": "code",
   "execution_count": 1,
   "metadata": {},
   "outputs": [],
   "source": [
    "labels=[\"NO\",\"YES\"]"
   ]
  },
  {
   "cell_type": "code",
   "execution_count": 2,
   "metadata": {},
   "outputs": [],
   "source": [
    "import pandas as pd\n",
    "a = pd.read_csv('diabetic1.csv',converters={49:lambda s: labels.index(s)})"
   ]
  },
  {
   "cell_type": "code",
   "execution_count": 3,
   "metadata": {},
   "outputs": [],
   "source": [
    "\n",
    "import numpy as np\n",
    "import matplotlib.pyplot as plt"
   ]
  },
  {
   "cell_type": "code",
   "execution_count": 4,
   "metadata": {},
   "outputs": [
    {
     "name": "stdout",
     "output_type": "stream",
     "text": [
      "race\n",
      "weight\n",
      "payer_code\n",
      "medical_specialty\n",
      "diag_1\n",
      "diag_2\n",
      "diag_3\n"
     ]
    }
   ],
   "source": [
    "for i in a.columns:\n",
    "    if(isinstance(a.iloc[0][i],str)):\n",
    "        b2 = a.loc[a[i] == '?']\n",
    "        if((b2.shape[0])>0):\n",
    "            print(i)\n",
    "            "
   ]
  },
  {
   "cell_type": "code",
   "execution_count": 5,
   "metadata": {},
   "outputs": [],
   "source": [
    "a = a.drop(columns=['weight'])\n",
    "    \n",
    "    "
   ]
  },
  {
   "cell_type": "code",
   "execution_count": 6,
   "metadata": {},
   "outputs": [],
   "source": [
    "a['race']= a['race'].replace('?','Others')"
   ]
  },
  {
   "cell_type": "code",
   "execution_count": 7,
   "metadata": {},
   "outputs": [],
   "source": [
    "a = a.drop(columns=['payer_code'])"
   ]
  },
  {
   "cell_type": "code",
   "execution_count": 8,
   "metadata": {},
   "outputs": [],
   "source": [
    "new_a = a "
   ]
  },
  {
   "cell_type": "code",
   "execution_count": 9,
   "metadata": {},
   "outputs": [],
   "source": [
    "new_a = new_a.replace(\"?\",np.nan)"
   ]
  },
  {
   "cell_type": "code",
   "execution_count": 10,
   "metadata": {},
   "outputs": [],
   "source": [
    "new_a = new_a.dropna()"
   ]
  },
  {
   "cell_type": "code",
   "execution_count": 11,
   "metadata": {},
   "outputs": [
    {
     "data": {
      "text/plain": [
       "(38482, 48)"
      ]
     },
     "execution_count": 11,
     "metadata": {},
     "output_type": "execute_result"
    }
   ],
   "source": [
    "new_a.shape"
   ]
  },
  {
   "cell_type": "code",
   "execution_count": 12,
   "metadata": {},
   "outputs": [],
   "source": [
    "for i in new_a.columns:\n",
    "    if(isinstance(new_a.iloc[0][i],str)):\n",
    "        b2 = new_a.loc[new_a[i] == '?']\n",
    "        if((b2.shape[0])>0):\n",
    "            print(i)\n",
    "       "
   ]
  },
  {
   "cell_type": "code",
   "execution_count": 13,
   "metadata": {},
   "outputs": [],
   "source": [
    "new_a2 = new_a['diag_2']\n",
    "count = 0\n",
    "list1 = list()\n",
    "for i in new_a2:\n",
    "    if(i.startswith('V')):\n",
    "        list1.append(i)\n",
    "    count = count + 1\n",
    "for i in list1:\n",
    "    new_a2 = new_a2.replace(i,\"?\")     \n",
    "new_a['diag_2'] = new_a2"
   ]
  },
  {
   "cell_type": "code",
   "execution_count": 14,
   "metadata": {},
   "outputs": [],
   "source": [
    "new_a2 = new_a['diag_2']\n",
    "count = 0\n",
    "list1 = list()\n",
    "for i in new_a2:\n",
    "    if(i.startswith('E')):\n",
    "        list1.append(i)\n",
    "    count = count + 1\n",
    "for i in list1:\n",
    "    new_a2 = new_a2.replace(i,\"?\")     \n",
    "new_a['diag_2'] = new_a2"
   ]
  },
  {
   "cell_type": "code",
   "execution_count": 15,
   "metadata": {},
   "outputs": [],
   "source": [
    "new_a2 = new_a['diag_1']\n",
    "count = 0\n",
    "list1 = list()\n",
    "for i in new_a2:\n",
    "    if(i.startswith('V')):\n",
    "        list1.append(i)\n",
    "    count = count + 1\n",
    "for i in list1:\n",
    "    new_a2 = new_a2.replace(i,\"?\")     \n",
    "new_a['diag_1'] = new_a2"
   ]
  },
  {
   "cell_type": "code",
   "execution_count": 16,
   "metadata": {},
   "outputs": [],
   "source": [
    "new_a2 = new_a['diag_1']\n",
    "count = 0\n",
    "list1 = list()\n",
    "for i in new_a2:\n",
    "    if(i.startswith('E')):\n",
    "        list1.append(i)\n",
    "    count = count + 1\n",
    "for i in list1:\n",
    "    new_a2 = new_a2.replace(i,\"?\")     \n",
    "new_a['diag_1'] = new_a2"
   ]
  },
  {
   "cell_type": "code",
   "execution_count": 17,
   "metadata": {},
   "outputs": [],
   "source": [
    "new_a2 = new_a['diag_3']\n",
    "count = 0\n",
    "list1 = list()\n",
    "for i in new_a2:\n",
    "    if(i.startswith('V')):\n",
    "        list1.append(i)\n",
    "    count = count + 1\n",
    "for i in list1:\n",
    "    new_a2 = new_a2.replace(i,\"?\")     \n",
    "new_a['diag_3'] = new_a2"
   ]
  },
  {
   "cell_type": "code",
   "execution_count": 18,
   "metadata": {},
   "outputs": [],
   "source": [
    "new_a2 = new_a['diag_3']\n",
    "count = 0\n",
    "list1 = list()\n",
    "for i in new_a2:\n",
    "    if(i.startswith('E')):\n",
    "        list1.append(i)\n",
    "    count = count + 1\n",
    "for i in list1:\n",
    "    new_a2 = new_a2.replace(i,\"?\")     \n",
    "new_a['diag_3'] = new_a2"
   ]
  },
  {
   "cell_type": "code",
   "execution_count": 19,
   "metadata": {},
   "outputs": [
    {
     "data": {
      "text/plain": [
       "(35215, 48)"
      ]
     },
     "execution_count": 19,
     "metadata": {},
     "output_type": "execute_result"
    }
   ],
   "source": [
    "new_a = new_a.replace(\"?\",np.nan)\n",
    "new_a = new_a.dropna()\n",
    "new_a.shape"
   ]
  },
  {
   "cell_type": "code",
   "execution_count": 20,
   "metadata": {},
   "outputs": [
    {
     "data": {
      "text/plain": [
       "Index(['encounter_id', 'patient_nbr', 'race', 'gender', 'age',\n",
       "       'admission_type_id', 'discharge_disposition_id', 'admission_source_id',\n",
       "       'time_in_hospital', 'medical_specialty', 'num_lab_procedures',\n",
       "       'num_procedures', 'num_medications', 'number_outpatient',\n",
       "       'number_emergency', 'number_inpatient', 'diag_1', 'diag_2', 'diag_3',\n",
       "       'number_diagnoses', 'max_glu_serum', 'A1Cresult', 'metformin',\n",
       "       'repaglinide', 'nateglinide', 'chlorpropamide', 'glimepiride',\n",
       "       'acetohexamide', 'glipizide', 'glyburide', 'tolbutamide',\n",
       "       'pioglitazone', 'rosiglitazone', 'acarbose', 'miglitol', 'troglitazone',\n",
       "       'tolazamide', 'examide', 'citoglipton', 'insulin',\n",
       "       'glyburide-metformin', 'glipizide-metformin',\n",
       "       'glimepiride-pioglitazone', 'metformin-rosiglitazone',\n",
       "       'metformin-pioglitazone', 'change', 'diabetesMed', 'readmitted'],\n",
       "      dtype='object')"
      ]
     },
     "execution_count": 20,
     "metadata": {},
     "output_type": "execute_result"
    }
   ],
   "source": [
    "new_a.columns"
   ]
  },
  {
   "cell_type": "code",
   "execution_count": 21,
   "metadata": {},
   "outputs": [],
   "source": [
    "from sklearn import preprocessing\n",
    "le = preprocessing.LabelEncoder()\n",
    "le.fit(['Caucasian', 'AfricanAmerican', 'Hispanic', 'Others', 'Asian','Other'])\n",
    "new_a['race']=le.transform(new_a['race']) \n",
    "#testx['race']=le.transform(testx['race'])"
   ]
  },
  {
   "cell_type": "code",
   "execution_count": 22,
   "metadata": {},
   "outputs": [],
   "source": [
    "le = preprocessing.LabelEncoder()\n",
    "le.fit([\"Male\" ,\"Female\", \"Unknown/Invalid\"])\n",
    "new_a['gender']=le.transform(new_a['gender']) \n",
    "#testx['gender']=le.transform(testx['gender'])"
   ]
  },
  {
   "cell_type": "code",
   "execution_count": 23,
   "metadata": {},
   "outputs": [],
   "source": [
    "le = preprocessing.LabelEncoder()\n",
    "le.fit(['[70-80)', '[30-40)' ,'[50-60)', '[80-90)', '[60-70)' ,'[40-50)' ,'[90-100)',\n",
    " '[20-30)', '[10-20)', '[0-10)'])\n",
    "new_a['age']=le.transform(new_a['age']) \n",
    "#testx['age']=le.transform(testx['age'])"
   ]
  },
  {
   "cell_type": "code",
   "execution_count": 24,
   "metadata": {},
   "outputs": [],
   "source": [
    "le = preprocessing.LabelEncoder()\n",
    "le.fit(['No','Steady','Down','Up'])\n",
    "new_a['insulin']=le.transform(new_a['insulin']) \n",
    "#testx['insulin']=le.transform(testx['insulin'])"
   ]
  },
  {
   "cell_type": "code",
   "execution_count": 25,
   "metadata": {
    "scrolled": true
   },
   "outputs": [
    {
     "data": {
      "text/html": [
       "<div>\n",
       "<style scoped>\n",
       "    .dataframe tbody tr th:only-of-type {\n",
       "        vertical-align: middle;\n",
       "    }\n",
       "\n",
       "    .dataframe tbody tr th {\n",
       "        vertical-align: top;\n",
       "    }\n",
       "\n",
       "    .dataframe thead th {\n",
       "        text-align: right;\n",
       "    }\n",
       "</style>\n",
       "<table border=\"1\" class=\"dataframe\">\n",
       "  <thead>\n",
       "    <tr style=\"text-align: right;\">\n",
       "      <th></th>\n",
       "      <th>encounter_id</th>\n",
       "      <th>patient_nbr</th>\n",
       "      <th>race</th>\n",
       "      <th>gender</th>\n",
       "      <th>age</th>\n",
       "      <th>admission_type_id</th>\n",
       "      <th>discharge_disposition_id</th>\n",
       "      <th>admission_source_id</th>\n",
       "      <th>time_in_hospital</th>\n",
       "      <th>medical_specialty</th>\n",
       "      <th>...</th>\n",
       "      <th>citoglipton</th>\n",
       "      <th>insulin</th>\n",
       "      <th>glyburide-metformin</th>\n",
       "      <th>glipizide-metformin</th>\n",
       "      <th>glimepiride-pioglitazone</th>\n",
       "      <th>metformin-rosiglitazone</th>\n",
       "      <th>metformin-pioglitazone</th>\n",
       "      <th>change</th>\n",
       "      <th>diabetesMed</th>\n",
       "      <th>readmitted</th>\n",
       "    </tr>\n",
       "  </thead>\n",
       "  <tbody>\n",
       "    <tr>\n",
       "      <th>9</th>\n",
       "      <td>15738</td>\n",
       "      <td>63555939</td>\n",
       "      <td>2</td>\n",
       "      <td>0</td>\n",
       "      <td>9</td>\n",
       "      <td>3</td>\n",
       "      <td>3</td>\n",
       "      <td>4</td>\n",
       "      <td>12</td>\n",
       "      <td>InternalMedicine</td>\n",
       "      <td>...</td>\n",
       "      <td>No</td>\n",
       "      <td>2</td>\n",
       "      <td>No</td>\n",
       "      <td>No</td>\n",
       "      <td>No</td>\n",
       "      <td>No</td>\n",
       "      <td>No</td>\n",
       "      <td>Ch</td>\n",
       "      <td>Yes</td>\n",
       "      <td>0</td>\n",
       "    </tr>\n",
       "    <tr>\n",
       "      <th>12</th>\n",
       "      <td>40926</td>\n",
       "      <td>85504905</td>\n",
       "      <td>2</td>\n",
       "      <td>0</td>\n",
       "      <td>4</td>\n",
       "      <td>1</td>\n",
       "      <td>3</td>\n",
       "      <td>7</td>\n",
       "      <td>7</td>\n",
       "      <td>Family/GeneralPractice</td>\n",
       "      <td>...</td>\n",
       "      <td>No</td>\n",
       "      <td>0</td>\n",
       "      <td>No</td>\n",
       "      <td>No</td>\n",
       "      <td>No</td>\n",
       "      <td>No</td>\n",
       "      <td>No</td>\n",
       "      <td>Ch</td>\n",
       "      <td>Yes</td>\n",
       "      <td>1</td>\n",
       "    </tr>\n",
       "    <tr>\n",
       "      <th>13</th>\n",
       "      <td>42570</td>\n",
       "      <td>77586282</td>\n",
       "      <td>2</td>\n",
       "      <td>1</td>\n",
       "      <td>8</td>\n",
       "      <td>1</td>\n",
       "      <td>6</td>\n",
       "      <td>7</td>\n",
       "      <td>10</td>\n",
       "      <td>Family/GeneralPractice</td>\n",
       "      <td>...</td>\n",
       "      <td>No</td>\n",
       "      <td>2</td>\n",
       "      <td>No</td>\n",
       "      <td>No</td>\n",
       "      <td>No</td>\n",
       "      <td>No</td>\n",
       "      <td>No</td>\n",
       "      <td>No</td>\n",
       "      <td>Yes</td>\n",
       "      <td>0</td>\n",
       "    </tr>\n",
       "    <tr>\n",
       "      <th>17</th>\n",
       "      <td>84222</td>\n",
       "      <td>108662661</td>\n",
       "      <td>2</td>\n",
       "      <td>0</td>\n",
       "      <td>5</td>\n",
       "      <td>1</td>\n",
       "      <td>1</td>\n",
       "      <td>7</td>\n",
       "      <td>3</td>\n",
       "      <td>Cardiology</td>\n",
       "      <td>...</td>\n",
       "      <td>No</td>\n",
       "      <td>1</td>\n",
       "      <td>No</td>\n",
       "      <td>No</td>\n",
       "      <td>No</td>\n",
       "      <td>No</td>\n",
       "      <td>No</td>\n",
       "      <td>No</td>\n",
       "      <td>Yes</td>\n",
       "      <td>0</td>\n",
       "    </tr>\n",
       "    <tr>\n",
       "      <th>26</th>\n",
       "      <td>236316</td>\n",
       "      <td>40523301</td>\n",
       "      <td>2</td>\n",
       "      <td>1</td>\n",
       "      <td>8</td>\n",
       "      <td>1</td>\n",
       "      <td>3</td>\n",
       "      <td>7</td>\n",
       "      <td>6</td>\n",
       "      <td>Cardiology</td>\n",
       "      <td>...</td>\n",
       "      <td>No</td>\n",
       "      <td>1</td>\n",
       "      <td>No</td>\n",
       "      <td>No</td>\n",
       "      <td>No</td>\n",
       "      <td>No</td>\n",
       "      <td>No</td>\n",
       "      <td>Ch</td>\n",
       "      <td>Yes</td>\n",
       "      <td>0</td>\n",
       "    </tr>\n",
       "  </tbody>\n",
       "</table>\n",
       "<p>5 rows × 48 columns</p>\n",
       "</div>"
      ],
      "text/plain": [
       "    encounter_id  patient_nbr  race  gender  age  admission_type_id  \\\n",
       "9          15738     63555939     2       0    9                  3   \n",
       "12         40926     85504905     2       0    4                  1   \n",
       "13         42570     77586282     2       1    8                  1   \n",
       "17         84222    108662661     2       0    5                  1   \n",
       "26        236316     40523301     2       1    8                  1   \n",
       "\n",
       "    discharge_disposition_id  admission_source_id  time_in_hospital  \\\n",
       "9                          3                    4                12   \n",
       "12                         3                    7                 7   \n",
       "13                         6                    7                10   \n",
       "17                         1                    7                 3   \n",
       "26                         3                    7                 6   \n",
       "\n",
       "         medical_specialty     ...      citoglipton  insulin  \\\n",
       "9         InternalMedicine     ...               No        2   \n",
       "12  Family/GeneralPractice     ...               No        0   \n",
       "13  Family/GeneralPractice     ...               No        2   \n",
       "17              Cardiology     ...               No        1   \n",
       "26              Cardiology     ...               No        1   \n",
       "\n",
       "    glyburide-metformin  glipizide-metformin  glimepiride-pioglitazone  \\\n",
       "9                    No                   No                        No   \n",
       "12                   No                   No                        No   \n",
       "13                   No                   No                        No   \n",
       "17                   No                   No                        No   \n",
       "26                   No                   No                        No   \n",
       "\n",
       "    metformin-rosiglitazone metformin-pioglitazone change diabetesMed  \\\n",
       "9                        No                     No     Ch         Yes   \n",
       "12                       No                     No     Ch         Yes   \n",
       "13                       No                     No     No         Yes   \n",
       "17                       No                     No     No         Yes   \n",
       "26                       No                     No     Ch         Yes   \n",
       "\n",
       "    readmitted  \n",
       "9            0  \n",
       "12           1  \n",
       "13           0  \n",
       "17           0  \n",
       "26           0  \n",
       "\n",
       "[5 rows x 48 columns]"
      ]
     },
     "execution_count": 25,
     "metadata": {},
     "output_type": "execute_result"
    }
   ],
   "source": [
    "new_a.head()"
   ]
  },
  {
   "cell_type": "code",
   "execution_count": 26,
   "metadata": {},
   "outputs": [],
   "source": [
    "#from sklearn import preprocessing\n",
    "#le = preprocessing.LabelEncoder()\n",
    "#le.fit(['None' ,'Norm', '>300', '>200'])\n",
    "#new_a['max_glu_serum']=le.transform(new_a['max_glu_serum']) \n",
    "#trainx['max_glu_serum']=le.transform(trainx['max_glu_serum']) \n",
    "#testx['max_glu_serum']=le.transform(testx['max_glu_serum'])\n",
    "le = preprocessing.LabelEncoder()\n",
    "le.fit(['Norm' ,'None', '>8', '>7'])\n",
    "new_a['A1Cresult']=le.transform(new_a['A1Cresult']) \n",
    "#trainx['A1Cresult']=le.transform(trainx['A1Cresult']) \n",
    "#testx['A1Cresult']=le.transform(testx['A1Cresult'])\n",
    "le = preprocessing.LabelEncoder()\n",
    "le.fit(['No' ,'Steady', 'Down' ,'Up'])\n",
    "new_a['metformin']=le.transform(new_a['metformin']) \n",
    "#trainx['metformin']=le.transform(trainx['metformin']) \n",
    "#testx['metformin']=le.transform(testx['metformin'])\n",
    "le = preprocessing.LabelEncoder()\n",
    "le.fit(['No' ,'Steady', 'Down' ,'Up'])\n",
    "new_a['repaglinide']=le.transform(new_a['repaglinide']) \n",
    "#trainx['repaglinide']=le.transform(trainx['repaglinide']) \n",
    "#testx['repaglinide']=le.transform(testx['repaglinide'])\n",
    "le = preprocessing.LabelEncoder()\n",
    "le.fit(['No' ,'Steady', 'Down' ,'Up'])\n",
    "new_a['nateglinide']=le.transform(new_a['nateglinide']) \n",
    "#trainx['nateglinide']=le.transform(trainx['nateglinide']) \n",
    "#testx['nateglinide']=le.transform(testx['nateglinide'])\n",
    "le = preprocessing.LabelEncoder()\n",
    "le.fit(['No','Steady','Down','Up'])\n",
    "new_a['chlorpropamide']=le.transform(new_a['chlorpropamide']) \n",
    "#trainx['chlorpropamide']=le.transform(trainx['chlorpropamide']) \n",
    "#testx['chlorpropamide']=le.transform(testx['chlorpropamide'])"
   ]
  },
  {
   "cell_type": "code",
   "execution_count": 27,
   "metadata": {},
   "outputs": [],
   "source": [
    "le = preprocessing.LabelEncoder()\n",
    "le.fit(['No','Steady','Down','Up'])\n",
    "new_a['glimepiride']=le.transform(new_a['glimepiride']) \n",
    "#trainx['glimepiride']=le.transform(trainx['glimepiride']) \n",
    "#testx['glimepiride']=le.transform(testx['glimepiride'])\n",
    "le = preprocessing.LabelEncoder()\n",
    "le.fit(['No','Steady','Down','Up'])\n",
    "new_a['glipizide']=le.transform(new_a['glipizide']) \n",
    "#trainx['glipizide']=le.transform(trainx['glipizide']) \n",
    "#testx['glipizide']=le.transform(testx['glipizide'])\n",
    "le = preprocessing.LabelEncoder()\n",
    "le.fit(['No','Steady','Down','Up'])\n",
    "new_a['glyburide']=le.transform(new_a['glyburide'])\n",
    "#trainx['glyburide']=le.transform(trainx['glyburide']) \n",
    "#testx['glyburide']=le.transform(testx['glyburide'])\n",
    "le = preprocessing.LabelEncoder()\n",
    "le.fit(['No','Steady'])\n",
    "new_a['tolbutamide']=le.transform(new_a['tolbutamide']) \n",
    "#trainx['tolbutamide']=le.transform(trainx['tolbutamide']) \n",
    "#testx['tolbutamide']=le.transform(testx['tolbutamide'])\n",
    "le = preprocessing.LabelEncoder()\n",
    "le.fit(['No','Steady','Down','Up'])\n",
    "new_a['pioglitazone']=le.transform(new_a['pioglitazone']) \n",
    "#trainx['pioglitazone']=le.transform(trainx['pioglitazone']) \n",
    "#testx['pioglitazone']=le.transform(testx['pioglitazone'])\n",
    "le = preprocessing.LabelEncoder()\n",
    "le.fit(['No','Steady','Down','Up'])\n",
    "new_a['rosiglitazone']=le.transform(new_a['rosiglitazone']) \n",
    "#trainx['rosiglitazone']=le.transform(trainx['rosiglitazone']) \n",
    "#testx['rosiglitazone']=le.transform(testx['rosiglitazone'])\n",
    "le = preprocessing.LabelEncoder()\n",
    "le.fit(['No','Steady','Down','Up'])\n",
    "new_a['acarbose']=le.transform(new_a['acarbose']) \n",
    "#trainx['acarbose']=le.transform(trainx['acarbose']) \n",
    "#testx['acarbose']=le.transform(testx['acarbose'])\n",
    "le = preprocessing.LabelEncoder()\n",
    "le.fit(['No','Steady','Down','Up'])\n",
    "new_a['miglitol']=le.transform(new_a['miglitol']) \n",
    "#trainx['miglitol']=le.transform(trainx['miglitol']) \n",
    "#testx['miglitol']=le.transform(testx['miglitol'])\n",
    "le = preprocessing.LabelEncoder()\n",
    "le.fit(['No','Steady'])\n",
    "new_a['troglitazone']=le.transform(new_a['troglitazone']) \n",
    "#trainx['troglitazone']=le.transform(trainx['troglitazone']) \n",
    "#testx['troglitazone']=le.transform(testx['troglitazone'])\n",
    "le = preprocessing.LabelEncoder()\n",
    "le.fit(['No','Steady'])\n",
    "new_a['tolazamide']=le.transform(new_a['tolazamide']) \n",
    "#trainx['tolazamide']=le.transform(trainx['tolazamide']) \n",
    "#testx['tolazamide']=le.transform(testx['tolazamide'])"
   ]
  },
  {
   "cell_type": "code",
   "execution_count": 28,
   "metadata": {},
   "outputs": [],
   "source": [
    "le = preprocessing.LabelEncoder()\n",
    "le.fit(['No','Steady','Down','Up'])\n",
    "new_a['glyburide-metformin']=le.transform(new_a['glyburide-metformin']) \n",
    "#trainx['glyburide-metformin']=le.transform(trainx['glyburide-metformin']) \n",
    "#testx['glyburide-metformin']=le.transform(testx['glyburide-metformin'])\n",
    "le = preprocessing.LabelEncoder()\n",
    "le.fit(['No','Steady'])\n",
    "new_a['glipizide-metformin']=le.transform(new_a['glipizide-metformin']) \n",
    "#trainx['glipizide-metformin']=le.transform(trainx['glipizide-metformin']) \n",
    "#testx['glipizide-metformin']=le.transform(testx['glipizide-metformin'])\n",
    "le = preprocessing.LabelEncoder()\n",
    "le.fit(['No', 'Ch'])\n",
    "new_a['change']=le.transform(new_a['change']) \n",
    "#trainx['change']=le.transform(trainx['change']) \n",
    "#testx['change']=le.transform(testx['change'])\n",
    "le = preprocessing.LabelEncoder()\n",
    "le.fit(['Yes', 'No'])\n",
    "new_a['diabetesMed']=le.transform(new_a['diabetesMed']) \n",
    "#trainx['diabetesMed']=le.transform(trainx['diabetesMed']) \n",
    "#testx['diabetesMed']=le.transform(testx['diabetesMed'])"
   ]
  },
  {
   "cell_type": "code",
   "execution_count": 29,
   "metadata": {},
   "outputs": [
    {
     "data": {
      "text/html": [
       "<div>\n",
       "<style scoped>\n",
       "    .dataframe tbody tr th:only-of-type {\n",
       "        vertical-align: middle;\n",
       "    }\n",
       "\n",
       "    .dataframe tbody tr th {\n",
       "        vertical-align: top;\n",
       "    }\n",
       "\n",
       "    .dataframe thead th {\n",
       "        text-align: right;\n",
       "    }\n",
       "</style>\n",
       "<table border=\"1\" class=\"dataframe\">\n",
       "  <thead>\n",
       "    <tr style=\"text-align: right;\">\n",
       "      <th></th>\n",
       "      <th>encounter_id</th>\n",
       "      <th>patient_nbr</th>\n",
       "      <th>race</th>\n",
       "      <th>gender</th>\n",
       "      <th>age</th>\n",
       "      <th>admission_type_id</th>\n",
       "      <th>discharge_disposition_id</th>\n",
       "      <th>admission_source_id</th>\n",
       "      <th>time_in_hospital</th>\n",
       "      <th>medical_specialty</th>\n",
       "      <th>...</th>\n",
       "      <th>citoglipton</th>\n",
       "      <th>insulin</th>\n",
       "      <th>glyburide-metformin</th>\n",
       "      <th>glipizide-metformin</th>\n",
       "      <th>glimepiride-pioglitazone</th>\n",
       "      <th>metformin-rosiglitazone</th>\n",
       "      <th>metformin-pioglitazone</th>\n",
       "      <th>change</th>\n",
       "      <th>diabetesMed</th>\n",
       "      <th>readmitted</th>\n",
       "    </tr>\n",
       "  </thead>\n",
       "  <tbody>\n",
       "    <tr>\n",
       "      <th>9</th>\n",
       "      <td>15738</td>\n",
       "      <td>63555939</td>\n",
       "      <td>2</td>\n",
       "      <td>0</td>\n",
       "      <td>9</td>\n",
       "      <td>3</td>\n",
       "      <td>3</td>\n",
       "      <td>4</td>\n",
       "      <td>12</td>\n",
       "      <td>InternalMedicine</td>\n",
       "      <td>...</td>\n",
       "      <td>No</td>\n",
       "      <td>2</td>\n",
       "      <td>1</td>\n",
       "      <td>0</td>\n",
       "      <td>No</td>\n",
       "      <td>No</td>\n",
       "      <td>No</td>\n",
       "      <td>0</td>\n",
       "      <td>1</td>\n",
       "      <td>0</td>\n",
       "    </tr>\n",
       "    <tr>\n",
       "      <th>12</th>\n",
       "      <td>40926</td>\n",
       "      <td>85504905</td>\n",
       "      <td>2</td>\n",
       "      <td>0</td>\n",
       "      <td>4</td>\n",
       "      <td>1</td>\n",
       "      <td>3</td>\n",
       "      <td>7</td>\n",
       "      <td>7</td>\n",
       "      <td>Family/GeneralPractice</td>\n",
       "      <td>...</td>\n",
       "      <td>No</td>\n",
       "      <td>0</td>\n",
       "      <td>1</td>\n",
       "      <td>0</td>\n",
       "      <td>No</td>\n",
       "      <td>No</td>\n",
       "      <td>No</td>\n",
       "      <td>0</td>\n",
       "      <td>1</td>\n",
       "      <td>1</td>\n",
       "    </tr>\n",
       "    <tr>\n",
       "      <th>13</th>\n",
       "      <td>42570</td>\n",
       "      <td>77586282</td>\n",
       "      <td>2</td>\n",
       "      <td>1</td>\n",
       "      <td>8</td>\n",
       "      <td>1</td>\n",
       "      <td>6</td>\n",
       "      <td>7</td>\n",
       "      <td>10</td>\n",
       "      <td>Family/GeneralPractice</td>\n",
       "      <td>...</td>\n",
       "      <td>No</td>\n",
       "      <td>2</td>\n",
       "      <td>1</td>\n",
       "      <td>0</td>\n",
       "      <td>No</td>\n",
       "      <td>No</td>\n",
       "      <td>No</td>\n",
       "      <td>1</td>\n",
       "      <td>1</td>\n",
       "      <td>0</td>\n",
       "    </tr>\n",
       "    <tr>\n",
       "      <th>17</th>\n",
       "      <td>84222</td>\n",
       "      <td>108662661</td>\n",
       "      <td>2</td>\n",
       "      <td>0</td>\n",
       "      <td>5</td>\n",
       "      <td>1</td>\n",
       "      <td>1</td>\n",
       "      <td>7</td>\n",
       "      <td>3</td>\n",
       "      <td>Cardiology</td>\n",
       "      <td>...</td>\n",
       "      <td>No</td>\n",
       "      <td>1</td>\n",
       "      <td>1</td>\n",
       "      <td>0</td>\n",
       "      <td>No</td>\n",
       "      <td>No</td>\n",
       "      <td>No</td>\n",
       "      <td>1</td>\n",
       "      <td>1</td>\n",
       "      <td>0</td>\n",
       "    </tr>\n",
       "    <tr>\n",
       "      <th>26</th>\n",
       "      <td>236316</td>\n",
       "      <td>40523301</td>\n",
       "      <td>2</td>\n",
       "      <td>1</td>\n",
       "      <td>8</td>\n",
       "      <td>1</td>\n",
       "      <td>3</td>\n",
       "      <td>7</td>\n",
       "      <td>6</td>\n",
       "      <td>Cardiology</td>\n",
       "      <td>...</td>\n",
       "      <td>No</td>\n",
       "      <td>1</td>\n",
       "      <td>1</td>\n",
       "      <td>0</td>\n",
       "      <td>No</td>\n",
       "      <td>No</td>\n",
       "      <td>No</td>\n",
       "      <td>0</td>\n",
       "      <td>1</td>\n",
       "      <td>0</td>\n",
       "    </tr>\n",
       "  </tbody>\n",
       "</table>\n",
       "<p>5 rows × 48 columns</p>\n",
       "</div>"
      ],
      "text/plain": [
       "    encounter_id  patient_nbr  race  gender  age  admission_type_id  \\\n",
       "9          15738     63555939     2       0    9                  3   \n",
       "12         40926     85504905     2       0    4                  1   \n",
       "13         42570     77586282     2       1    8                  1   \n",
       "17         84222    108662661     2       0    5                  1   \n",
       "26        236316     40523301     2       1    8                  1   \n",
       "\n",
       "    discharge_disposition_id  admission_source_id  time_in_hospital  \\\n",
       "9                          3                    4                12   \n",
       "12                         3                    7                 7   \n",
       "13                         6                    7                10   \n",
       "17                         1                    7                 3   \n",
       "26                         3                    7                 6   \n",
       "\n",
       "         medical_specialty     ...      citoglipton  insulin  \\\n",
       "9         InternalMedicine     ...               No        2   \n",
       "12  Family/GeneralPractice     ...               No        0   \n",
       "13  Family/GeneralPractice     ...               No        2   \n",
       "17              Cardiology     ...               No        1   \n",
       "26              Cardiology     ...               No        1   \n",
       "\n",
       "    glyburide-metformin  glipizide-metformin  glimepiride-pioglitazone  \\\n",
       "9                     1                    0                        No   \n",
       "12                    1                    0                        No   \n",
       "13                    1                    0                        No   \n",
       "17                    1                    0                        No   \n",
       "26                    1                    0                        No   \n",
       "\n",
       "    metformin-rosiglitazone metformin-pioglitazone change diabetesMed  \\\n",
       "9                        No                     No      0           1   \n",
       "12                       No                     No      0           1   \n",
       "13                       No                     No      1           1   \n",
       "17                       No                     No      1           1   \n",
       "26                       No                     No      0           1   \n",
       "\n",
       "    readmitted  \n",
       "9            0  \n",
       "12           1  \n",
       "13           0  \n",
       "17           0  \n",
       "26           0  \n",
       "\n",
       "[5 rows x 48 columns]"
      ]
     },
     "execution_count": 29,
     "metadata": {},
     "output_type": "execute_result"
    }
   ],
   "source": [
    "new_a.head()\n"
   ]
  },
  {
   "cell_type": "code",
   "execution_count": 30,
   "metadata": {},
   "outputs": [],
   "source": [
    "le.fit(['Yes', 'No','Steady'])\n",
    "new_a['metformin-pioglitazone']=le.transform(new_a['metformin-pioglitazone']) \n",
    "#trainx['diabetesMed']=le.transform(trainx['diabetesMed']) \n",
    "#testx['diabetesMed']=le.transform(testx['diabetesMed'])"
   ]
  },
  {
   "cell_type": "code",
   "execution_count": 31,
   "metadata": {},
   "outputs": [],
   "source": [
    "le.fit(['Yes', 'No','Steady'])\n",
    "new_a['metformin-rosiglitazone']=le.transform(new_a['metformin-rosiglitazone']) "
   ]
  },
  {
   "cell_type": "code",
   "execution_count": 32,
   "metadata": {},
   "outputs": [],
   "source": [
    "le.fit(['Yes', 'No','Steady'])\n",
    "new_a['glimepiride-pioglitazone']=le.transform(new_a['glimepiride-pioglitazone']) "
   ]
  },
  {
   "cell_type": "code",
   "execution_count": 33,
   "metadata": {},
   "outputs": [],
   "source": [
    "le.fit(['Yes', 'No','Steady'])\n",
    "new_a['citoglipton']=le.transform(new_a['citoglipton']) "
   ]
  },
  {
   "cell_type": "code",
   "execution_count": 34,
   "metadata": {},
   "outputs": [],
   "source": [
    "le.fit(['Yes', 'No','Steady'])\n",
    "new_a['examide']=le.transform(new_a['examide']) "
   ]
  },
  {
   "cell_type": "code",
   "execution_count": 35,
   "metadata": {},
   "outputs": [],
   "source": [
    "le.fit(['Yes', 'No','Steady'])\n",
    "new_a['acetohexamide']=le.transform(new_a['acetohexamide']) "
   ]
  },
  {
   "cell_type": "code",
   "execution_count": 36,
   "metadata": {},
   "outputs": [],
   "source": [
    "new_a = new_a.drop(columns=['encounter_id', 'patient_nbr'])"
   ]
  },
  {
   "cell_type": "code",
   "execution_count": 37,
   "metadata": {},
   "outputs": [
    {
     "data": {
      "text/plain": [
       "Index(['race', 'gender', 'age', 'admission_type_id',\n",
       "       'discharge_disposition_id', 'admission_source_id', 'time_in_hospital',\n",
       "       'medical_specialty', 'num_lab_procedures', 'num_procedures',\n",
       "       'num_medications', 'number_outpatient', 'number_emergency',\n",
       "       'number_inpatient', 'diag_1', 'diag_2', 'diag_3', 'number_diagnoses',\n",
       "       'max_glu_serum', 'A1Cresult', 'metformin', 'repaglinide', 'nateglinide',\n",
       "       'chlorpropamide', 'glimepiride', 'acetohexamide', 'glipizide',\n",
       "       'glyburide', 'tolbutamide', 'pioglitazone', 'rosiglitazone', 'acarbose',\n",
       "       'miglitol', 'troglitazone', 'tolazamide', 'examide', 'citoglipton',\n",
       "       'insulin', 'glyburide-metformin', 'glipizide-metformin',\n",
       "       'glimepiride-pioglitazone', 'metformin-rosiglitazone',\n",
       "       'metformin-pioglitazone', 'change', 'diabetesMed', 'readmitted'],\n",
       "      dtype='object')"
      ]
     },
     "execution_count": 37,
     "metadata": {},
     "output_type": "execute_result"
    }
   ],
   "source": [
    "new_a.columns"
   ]
  },
  {
   "cell_type": "code",
   "execution_count": 38,
   "metadata": {},
   "outputs": [
    {
     "data": {
      "text/html": [
       "<div>\n",
       "<style scoped>\n",
       "    .dataframe tbody tr th:only-of-type {\n",
       "        vertical-align: middle;\n",
       "    }\n",
       "\n",
       "    .dataframe tbody tr th {\n",
       "        vertical-align: top;\n",
       "    }\n",
       "\n",
       "    .dataframe thead th {\n",
       "        text-align: right;\n",
       "    }\n",
       "</style>\n",
       "<table border=\"1\" class=\"dataframe\">\n",
       "  <thead>\n",
       "    <tr style=\"text-align: right;\">\n",
       "      <th></th>\n",
       "      <th>race</th>\n",
       "      <th>gender</th>\n",
       "      <th>age</th>\n",
       "      <th>admission_type_id</th>\n",
       "      <th>discharge_disposition_id</th>\n",
       "      <th>admission_source_id</th>\n",
       "      <th>time_in_hospital</th>\n",
       "      <th>medical_specialty</th>\n",
       "      <th>num_lab_procedures</th>\n",
       "      <th>num_procedures</th>\n",
       "      <th>...</th>\n",
       "      <th>citoglipton</th>\n",
       "      <th>insulin</th>\n",
       "      <th>glyburide-metformin</th>\n",
       "      <th>glipizide-metformin</th>\n",
       "      <th>glimepiride-pioglitazone</th>\n",
       "      <th>metformin-rosiglitazone</th>\n",
       "      <th>metformin-pioglitazone</th>\n",
       "      <th>change</th>\n",
       "      <th>diabetesMed</th>\n",
       "      <th>readmitted</th>\n",
       "    </tr>\n",
       "  </thead>\n",
       "  <tbody>\n",
       "    <tr>\n",
       "      <th>9</th>\n",
       "      <td>2</td>\n",
       "      <td>0</td>\n",
       "      <td>9</td>\n",
       "      <td>3</td>\n",
       "      <td>3</td>\n",
       "      <td>4</td>\n",
       "      <td>12</td>\n",
       "      <td>InternalMedicine</td>\n",
       "      <td>33</td>\n",
       "      <td>3</td>\n",
       "      <td>...</td>\n",
       "      <td>0</td>\n",
       "      <td>2</td>\n",
       "      <td>1</td>\n",
       "      <td>0</td>\n",
       "      <td>0</td>\n",
       "      <td>0</td>\n",
       "      <td>0</td>\n",
       "      <td>0</td>\n",
       "      <td>1</td>\n",
       "      <td>0</td>\n",
       "    </tr>\n",
       "    <tr>\n",
       "      <th>12</th>\n",
       "      <td>2</td>\n",
       "      <td>0</td>\n",
       "      <td>4</td>\n",
       "      <td>1</td>\n",
       "      <td>3</td>\n",
       "      <td>7</td>\n",
       "      <td>7</td>\n",
       "      <td>Family/GeneralPractice</td>\n",
       "      <td>60</td>\n",
       "      <td>0</td>\n",
       "      <td>...</td>\n",
       "      <td>0</td>\n",
       "      <td>0</td>\n",
       "      <td>1</td>\n",
       "      <td>0</td>\n",
       "      <td>0</td>\n",
       "      <td>0</td>\n",
       "      <td>0</td>\n",
       "      <td>0</td>\n",
       "      <td>1</td>\n",
       "      <td>1</td>\n",
       "    </tr>\n",
       "    <tr>\n",
       "      <th>13</th>\n",
       "      <td>2</td>\n",
       "      <td>1</td>\n",
       "      <td>8</td>\n",
       "      <td>1</td>\n",
       "      <td>6</td>\n",
       "      <td>7</td>\n",
       "      <td>10</td>\n",
       "      <td>Family/GeneralPractice</td>\n",
       "      <td>55</td>\n",
       "      <td>1</td>\n",
       "      <td>...</td>\n",
       "      <td>0</td>\n",
       "      <td>2</td>\n",
       "      <td>1</td>\n",
       "      <td>0</td>\n",
       "      <td>0</td>\n",
       "      <td>0</td>\n",
       "      <td>0</td>\n",
       "      <td>1</td>\n",
       "      <td>1</td>\n",
       "      <td>0</td>\n",
       "    </tr>\n",
       "    <tr>\n",
       "      <th>17</th>\n",
       "      <td>2</td>\n",
       "      <td>0</td>\n",
       "      <td>5</td>\n",
       "      <td>1</td>\n",
       "      <td>1</td>\n",
       "      <td>7</td>\n",
       "      <td>3</td>\n",
       "      <td>Cardiology</td>\n",
       "      <td>29</td>\n",
       "      <td>0</td>\n",
       "      <td>...</td>\n",
       "      <td>0</td>\n",
       "      <td>1</td>\n",
       "      <td>1</td>\n",
       "      <td>0</td>\n",
       "      <td>0</td>\n",
       "      <td>0</td>\n",
       "      <td>0</td>\n",
       "      <td>1</td>\n",
       "      <td>1</td>\n",
       "      <td>0</td>\n",
       "    </tr>\n",
       "    <tr>\n",
       "      <th>26</th>\n",
       "      <td>2</td>\n",
       "      <td>1</td>\n",
       "      <td>8</td>\n",
       "      <td>1</td>\n",
       "      <td>3</td>\n",
       "      <td>7</td>\n",
       "      <td>6</td>\n",
       "      <td>Cardiology</td>\n",
       "      <td>64</td>\n",
       "      <td>3</td>\n",
       "      <td>...</td>\n",
       "      <td>0</td>\n",
       "      <td>1</td>\n",
       "      <td>1</td>\n",
       "      <td>0</td>\n",
       "      <td>0</td>\n",
       "      <td>0</td>\n",
       "      <td>0</td>\n",
       "      <td>0</td>\n",
       "      <td>1</td>\n",
       "      <td>0</td>\n",
       "    </tr>\n",
       "  </tbody>\n",
       "</table>\n",
       "<p>5 rows × 46 columns</p>\n",
       "</div>"
      ],
      "text/plain": [
       "    race  gender  age  admission_type_id  discharge_disposition_id  \\\n",
       "9      2       0    9                  3                         3   \n",
       "12     2       0    4                  1                         3   \n",
       "13     2       1    8                  1                         6   \n",
       "17     2       0    5                  1                         1   \n",
       "26     2       1    8                  1                         3   \n",
       "\n",
       "    admission_source_id  time_in_hospital       medical_specialty  \\\n",
       "9                     4                12        InternalMedicine   \n",
       "12                    7                 7  Family/GeneralPractice   \n",
       "13                    7                10  Family/GeneralPractice   \n",
       "17                    7                 3              Cardiology   \n",
       "26                    7                 6              Cardiology   \n",
       "\n",
       "    num_lab_procedures  num_procedures     ...      citoglipton  insulin  \\\n",
       "9                   33               3     ...                0        2   \n",
       "12                  60               0     ...                0        0   \n",
       "13                  55               1     ...                0        2   \n",
       "17                  29               0     ...                0        1   \n",
       "26                  64               3     ...                0        1   \n",
       "\n",
       "    glyburide-metformin  glipizide-metformin glimepiride-pioglitazone  \\\n",
       "9                     1                    0                        0   \n",
       "12                    1                    0                        0   \n",
       "13                    1                    0                        0   \n",
       "17                    1                    0                        0   \n",
       "26                    1                    0                        0   \n",
       "\n",
       "   metformin-rosiglitazone metformin-pioglitazone  change diabetesMed  \\\n",
       "9                        0                      0       0           1   \n",
       "12                       0                      0       0           1   \n",
       "13                       0                      0       1           1   \n",
       "17                       0                      0       1           1   \n",
       "26                       0                      0       0           1   \n",
       "\n",
       "    readmitted  \n",
       "9            0  \n",
       "12           1  \n",
       "13           0  \n",
       "17           0  \n",
       "26           0  \n",
       "\n",
       "[5 rows x 46 columns]"
      ]
     },
     "execution_count": 38,
     "metadata": {},
     "output_type": "execute_result"
    }
   ],
   "source": [
    "new_a.head()"
   ]
  },
  {
   "cell_type": "code",
   "execution_count": 39,
   "metadata": {},
   "outputs": [],
   "source": [
    "new_a = new_a.drop(columns=['medical_specialty'])"
   ]
  },
  {
   "cell_type": "code",
   "execution_count": 40,
   "metadata": {},
   "outputs": [],
   "source": [
    "new_a = new_a.drop(columns=['acetohexamide','examide','citoglipton','glimepiride-pioglitazone', 'metformin-rosiglitazone'])"
   ]
  },
  {
   "cell_type": "code",
   "execution_count": 41,
   "metadata": {},
   "outputs": [],
   "source": [
    "new_a = new_a.drop(columns=['max_glu_serum'])"
   ]
  },
  {
   "cell_type": "code",
   "execution_count": 42,
   "metadata": {},
   "outputs": [
    {
     "data": {
      "text/html": [
       "<div>\n",
       "<style scoped>\n",
       "    .dataframe tbody tr th:only-of-type {\n",
       "        vertical-align: middle;\n",
       "    }\n",
       "\n",
       "    .dataframe tbody tr th {\n",
       "        vertical-align: top;\n",
       "    }\n",
       "\n",
       "    .dataframe thead th {\n",
       "        text-align: right;\n",
       "    }\n",
       "</style>\n",
       "<table border=\"1\" class=\"dataframe\">\n",
       "  <thead>\n",
       "    <tr style=\"text-align: right;\">\n",
       "      <th></th>\n",
       "      <th>race</th>\n",
       "      <th>gender</th>\n",
       "      <th>age</th>\n",
       "      <th>admission_type_id</th>\n",
       "      <th>discharge_disposition_id</th>\n",
       "      <th>admission_source_id</th>\n",
       "      <th>time_in_hospital</th>\n",
       "      <th>num_lab_procedures</th>\n",
       "      <th>num_procedures</th>\n",
       "      <th>num_medications</th>\n",
       "      <th>...</th>\n",
       "      <th>miglitol</th>\n",
       "      <th>troglitazone</th>\n",
       "      <th>tolazamide</th>\n",
       "      <th>insulin</th>\n",
       "      <th>glyburide-metformin</th>\n",
       "      <th>glipizide-metformin</th>\n",
       "      <th>metformin-pioglitazone</th>\n",
       "      <th>change</th>\n",
       "      <th>diabetesMed</th>\n",
       "      <th>readmitted</th>\n",
       "    </tr>\n",
       "  </thead>\n",
       "  <tbody>\n",
       "    <tr>\n",
       "      <th>9</th>\n",
       "      <td>2</td>\n",
       "      <td>0</td>\n",
       "      <td>9</td>\n",
       "      <td>3</td>\n",
       "      <td>3</td>\n",
       "      <td>4</td>\n",
       "      <td>12</td>\n",
       "      <td>33</td>\n",
       "      <td>3</td>\n",
       "      <td>18</td>\n",
       "      <td>...</td>\n",
       "      <td>1</td>\n",
       "      <td>0</td>\n",
       "      <td>0</td>\n",
       "      <td>2</td>\n",
       "      <td>1</td>\n",
       "      <td>0</td>\n",
       "      <td>0</td>\n",
       "      <td>0</td>\n",
       "      <td>1</td>\n",
       "      <td>0</td>\n",
       "    </tr>\n",
       "    <tr>\n",
       "      <th>12</th>\n",
       "      <td>2</td>\n",
       "      <td>0</td>\n",
       "      <td>4</td>\n",
       "      <td>1</td>\n",
       "      <td>3</td>\n",
       "      <td>7</td>\n",
       "      <td>7</td>\n",
       "      <td>60</td>\n",
       "      <td>0</td>\n",
       "      <td>15</td>\n",
       "      <td>...</td>\n",
       "      <td>1</td>\n",
       "      <td>0</td>\n",
       "      <td>0</td>\n",
       "      <td>0</td>\n",
       "      <td>1</td>\n",
       "      <td>0</td>\n",
       "      <td>0</td>\n",
       "      <td>0</td>\n",
       "      <td>1</td>\n",
       "      <td>1</td>\n",
       "    </tr>\n",
       "    <tr>\n",
       "      <th>13</th>\n",
       "      <td>2</td>\n",
       "      <td>1</td>\n",
       "      <td>8</td>\n",
       "      <td>1</td>\n",
       "      <td>6</td>\n",
       "      <td>7</td>\n",
       "      <td>10</td>\n",
       "      <td>55</td>\n",
       "      <td>1</td>\n",
       "      <td>31</td>\n",
       "      <td>...</td>\n",
       "      <td>1</td>\n",
       "      <td>0</td>\n",
       "      <td>0</td>\n",
       "      <td>2</td>\n",
       "      <td>1</td>\n",
       "      <td>0</td>\n",
       "      <td>0</td>\n",
       "      <td>1</td>\n",
       "      <td>1</td>\n",
       "      <td>0</td>\n",
       "    </tr>\n",
       "    <tr>\n",
       "      <th>17</th>\n",
       "      <td>2</td>\n",
       "      <td>0</td>\n",
       "      <td>5</td>\n",
       "      <td>1</td>\n",
       "      <td>1</td>\n",
       "      <td>7</td>\n",
       "      <td>3</td>\n",
       "      <td>29</td>\n",
       "      <td>0</td>\n",
       "      <td>11</td>\n",
       "      <td>...</td>\n",
       "      <td>1</td>\n",
       "      <td>0</td>\n",
       "      <td>0</td>\n",
       "      <td>1</td>\n",
       "      <td>1</td>\n",
       "      <td>0</td>\n",
       "      <td>0</td>\n",
       "      <td>1</td>\n",
       "      <td>1</td>\n",
       "      <td>0</td>\n",
       "    </tr>\n",
       "    <tr>\n",
       "      <th>26</th>\n",
       "      <td>2</td>\n",
       "      <td>1</td>\n",
       "      <td>8</td>\n",
       "      <td>1</td>\n",
       "      <td>3</td>\n",
       "      <td>7</td>\n",
       "      <td>6</td>\n",
       "      <td>64</td>\n",
       "      <td>3</td>\n",
       "      <td>18</td>\n",
       "      <td>...</td>\n",
       "      <td>1</td>\n",
       "      <td>0</td>\n",
       "      <td>0</td>\n",
       "      <td>1</td>\n",
       "      <td>1</td>\n",
       "      <td>0</td>\n",
       "      <td>0</td>\n",
       "      <td>0</td>\n",
       "      <td>1</td>\n",
       "      <td>0</td>\n",
       "    </tr>\n",
       "  </tbody>\n",
       "</table>\n",
       "<p>5 rows × 39 columns</p>\n",
       "</div>"
      ],
      "text/plain": [
       "    race  gender  age  admission_type_id  discharge_disposition_id  \\\n",
       "9      2       0    9                  3                         3   \n",
       "12     2       0    4                  1                         3   \n",
       "13     2       1    8                  1                         6   \n",
       "17     2       0    5                  1                         1   \n",
       "26     2       1    8                  1                         3   \n",
       "\n",
       "    admission_source_id  time_in_hospital  num_lab_procedures  num_procedures  \\\n",
       "9                     4                12                  33               3   \n",
       "12                    7                 7                  60               0   \n",
       "13                    7                10                  55               1   \n",
       "17                    7                 3                  29               0   \n",
       "26                    7                 6                  64               3   \n",
       "\n",
       "    num_medications     ...      miglitol  troglitazone  tolazamide insulin  \\\n",
       "9                18     ...             1             0           0       2   \n",
       "12               15     ...             1             0           0       0   \n",
       "13               31     ...             1             0           0       2   \n",
       "17               11     ...             1             0           0       1   \n",
       "26               18     ...             1             0           0       1   \n",
       "\n",
       "   glyburide-metformin glipizide-metformin  metformin-pioglitazone  change  \\\n",
       "9                    1                   0                       0       0   \n",
       "12                   1                   0                       0       0   \n",
       "13                   1                   0                       0       1   \n",
       "17                   1                   0                       0       1   \n",
       "26                   1                   0                       0       0   \n",
       "\n",
       "    diabetesMed  readmitted  \n",
       "9             1           0  \n",
       "12            1           1  \n",
       "13            1           0  \n",
       "17            1           0  \n",
       "26            1           0  \n",
       "\n",
       "[5 rows x 39 columns]"
      ]
     },
     "execution_count": 42,
     "metadata": {},
     "output_type": "execute_result"
    }
   ],
   "source": [
    "new_a.head()"
   ]
  },
  {
   "cell_type": "code",
   "execution_count": 43,
   "metadata": {},
   "outputs": [
    {
     "data": {
      "text/plain": [
       "(35215, 39)"
      ]
     },
     "execution_count": 43,
     "metadata": {},
     "output_type": "execute_result"
    }
   ],
   "source": [
    "new_a.shape"
   ]
  },
  {
   "cell_type": "code",
   "execution_count": 44,
   "metadata": {},
   "outputs": [
    {
     "data": {
      "text/plain": [
       "0"
      ]
     },
     "execution_count": 44,
     "metadata": {},
     "output_type": "execute_result"
    }
   ],
   "source": [
    "dupes=new_a.duplicated()\n",
    "sum(dupes)"
   ]
  },
  {
   "cell_type": "markdown",
   "metadata": {},
   "source": [
    "<h2>VARIANCE THRESHOLD </h2>"
   ]
  },
  {
   "cell_type": "code",
   "execution_count": 45,
   "metadata": {},
   "outputs": [],
   "source": [
    "from sklearn.feature_selection import VarianceThreshold\n",
    "sel = VarianceThreshold(threshold=(.8 * (1 - .8)))\n",
    "result = sel.fit_transform(new_a)"
   ]
  },
  {
   "cell_type": "code",
   "execution_count": 46,
   "metadata": {},
   "outputs": [],
   "source": [
    "idxs_selected = sel.get_support(indices=True)\n",
    "# Create new dataframe with only desired columns, or overwrite existing\n",
    "features_dataframe_new = new_a.columns[idxs_selected]"
   ]
  },
  {
   "cell_type": "code",
   "execution_count": 47,
   "metadata": {},
   "outputs": [
    {
     "data": {
      "text/plain": [
       "Index(['race', 'gender', 'age', 'admission_type_id',\n",
       "       'discharge_disposition_id', 'admission_source_id', 'time_in_hospital',\n",
       "       'num_lab_procedures', 'num_procedures', 'num_medications',\n",
       "       'number_outpatient', 'number_emergency', 'number_inpatient', 'diag_1',\n",
       "       'diag_2', 'diag_3', 'number_diagnoses', 'A1Cresult', 'metformin',\n",
       "       'insulin', 'change', 'diabetesMed', 'readmitted'],\n",
       "      dtype='object')"
      ]
     },
     "execution_count": 47,
     "metadata": {},
     "output_type": "execute_result"
    }
   ],
   "source": [
    "features_dataframe_new"
   ]
  },
  {
   "cell_type": "code",
   "execution_count": 48,
   "metadata": {},
   "outputs": [
    {
     "data": {
      "text/plain": [
       "23"
      ]
     },
     "execution_count": 48,
     "metadata": {},
     "output_type": "execute_result"
    }
   ],
   "source": [
    "len(features_dataframe_new)"
   ]
  },
  {
   "cell_type": "code",
   "execution_count": 49,
   "metadata": {},
   "outputs": [],
   "source": [
    "store = new_a"
   ]
  },
  {
   "cell_type": "code",
   "execution_count": 50,
   "metadata": {},
   "outputs": [],
   "source": [
    "new_a = new_a[features_dataframe_new]"
   ]
  },
  {
   "cell_type": "markdown",
   "metadata": {},
   "source": [
    "<h2>SELECTKBEST<h2>"
   ]
  },
  {
   "cell_type": "code",
   "execution_count": 52,
   "metadata": {},
   "outputs": [
    {
     "name": "stdout",
     "output_type": "stream",
     "text": [
      "[5.458e+00 3.935e+00 8.153e+00 8.664e+01 3.300e+01 4.571e+02 2.332e+02\n",
      " 7.833e+01 6.116e+01 2.083e+02 7.925e+02 1.256e+03 3.884e+03 2.637e+01\n",
      " 3.215e+00 1.801e+03 3.421e+02 4.383e-01 3.039e+00 5.953e-01 3.648e+01\n",
      " 3.492e+01]\n",
      "[[  0.     0.     0.   486.  ]\n",
      " [  0.     1.     0.   250.6 ]\n",
      " [  0.     0.     0.   427.  ]\n",
      " [  0.     0.     0.   250.  ]\n",
      " [  0.     0.     0.   414.  ]\n",
      " [  0.     0.     0.   250.01]]\n"
     ]
    }
   ],
   "source": [
    "from sklearn.feature_selection import SelectKBest\n",
    "from sklearn.feature_selection import chi2\n",
    "# load data\n",
    "array1 = new_a.values\n",
    "X = array1[:,0:22]\n",
    "Y = array1[:,22]\n",
    "Y = Y.astype('int')\n",
    "# feature extraction\n",
    "test = SelectKBest(score_func=chi2, k=4)\n",
    "fit = test.fit(X, Y)\n",
    "# summarize scores\n",
    "np.set_printoptions(precision=3)\n",
    "print(fit.scores_)\n",
    "features = fit.transform(X)\n",
    "# summarize selected features\n",
    "print(features[0:6,:])"
   ]
  },
  {
   "cell_type": "code",
   "execution_count": 53,
   "metadata": {},
   "outputs": [],
   "source": [
    "idxs_selected = test.get_support(indices=True)\n",
    "# Create new dataframe with only desired columns, or overwrite existing\n",
    "features_dataframe_new = new_a.columns[idxs_selected]"
   ]
  },
  {
   "cell_type": "code",
   "execution_count": 54,
   "metadata": {},
   "outputs": [
    {
     "data": {
      "text/plain": [
       "Index(['number_outpatient', 'number_emergency', 'number_inpatient', 'diag_3'], dtype='object')"
      ]
     },
     "execution_count": 54,
     "metadata": {},
     "output_type": "execute_result"
    }
   ],
   "source": [
    "features_dataframe_new"
   ]
  },
  {
   "cell_type": "code",
   "execution_count": 55,
   "metadata": {},
   "outputs": [],
   "source": [
    "df = pd.DataFrame(features)"
   ]
  },
  {
   "cell_type": "code",
   "execution_count": 56,
   "metadata": {},
   "outputs": [
    {
     "data": {
      "text/html": [
       "<div>\n",
       "<style scoped>\n",
       "    .dataframe tbody tr th:only-of-type {\n",
       "        vertical-align: middle;\n",
       "    }\n",
       "\n",
       "    .dataframe tbody tr th {\n",
       "        vertical-align: top;\n",
       "    }\n",
       "\n",
       "    .dataframe thead th {\n",
       "        text-align: right;\n",
       "    }\n",
       "</style>\n",
       "<table border=\"1\" class=\"dataframe\">\n",
       "  <thead>\n",
       "    <tr style=\"text-align: right;\">\n",
       "      <th></th>\n",
       "      <th>0</th>\n",
       "      <th>1</th>\n",
       "      <th>2</th>\n",
       "      <th>3</th>\n",
       "    </tr>\n",
       "  </thead>\n",
       "  <tbody>\n",
       "    <tr>\n",
       "      <th>0</th>\n",
       "      <td>0.0</td>\n",
       "      <td>0.0</td>\n",
       "      <td>0.0</td>\n",
       "      <td>486.0</td>\n",
       "    </tr>\n",
       "    <tr>\n",
       "      <th>1</th>\n",
       "      <td>0.0</td>\n",
       "      <td>1.0</td>\n",
       "      <td>0.0</td>\n",
       "      <td>250.6</td>\n",
       "    </tr>\n",
       "    <tr>\n",
       "      <th>2</th>\n",
       "      <td>0.0</td>\n",
       "      <td>0.0</td>\n",
       "      <td>0.0</td>\n",
       "      <td>427.0</td>\n",
       "    </tr>\n",
       "    <tr>\n",
       "      <th>3</th>\n",
       "      <td>0.0</td>\n",
       "      <td>0.0</td>\n",
       "      <td>0.0</td>\n",
       "      <td>250.0</td>\n",
       "    </tr>\n",
       "    <tr>\n",
       "      <th>4</th>\n",
       "      <td>0.0</td>\n",
       "      <td>0.0</td>\n",
       "      <td>0.0</td>\n",
       "      <td>414.0</td>\n",
       "    </tr>\n",
       "  </tbody>\n",
       "</table>\n",
       "</div>"
      ],
      "text/plain": [
       "     0    1    2      3\n",
       "0  0.0  0.0  0.0  486.0\n",
       "1  0.0  1.0  0.0  250.6\n",
       "2  0.0  0.0  0.0  427.0\n",
       "3  0.0  0.0  0.0  250.0\n",
       "4  0.0  0.0  0.0  414.0"
      ]
     },
     "execution_count": 56,
     "metadata": {},
     "output_type": "execute_result"
    }
   ],
   "source": [
    "df.head()"
   ]
  },
  {
   "cell_type": "code",
   "execution_count": 57,
   "metadata": {},
   "outputs": [],
   "source": [
    "df1 = pd.DataFrame(Y)"
   ]
  },
  {
   "cell_type": "code",
   "execution_count": 58,
   "metadata": {},
   "outputs": [],
   "source": [
    "df['10'] = df1"
   ]
  },
  {
   "cell_type": "code",
   "execution_count": 59,
   "metadata": {
    "scrolled": true
   },
   "outputs": [
    {
     "name": "stdout",
     "output_type": "stream",
     "text": [
      "(28172, 4) (28172,) (7043, 4) (7043,)\n"
     ]
    }
   ],
   "source": [
    "from sklearn.model_selection import train_test_split\n",
    "train,test = train_test_split(df,test_size=0.2)\n",
    "trainx = train.iloc[:,0:4]\n",
    "trainy = train['10']\n",
    "testx = test.iloc[:,0:4]\n",
    "testy = test['10']\n",
    "print(trainx.shape,trainy.shape,testx.shape,testy.shape)"
   ]
  },
  {
   "cell_type": "markdown",
   "metadata": {},
   "source": [
    "<h1>DECISION TREE </h1>"
   ]
  },
  {
   "cell_type": "code",
   "execution_count": 60,
   "metadata": {},
   "outputs": [
    {
     "name": "stdout",
     "output_type": "stream",
     "text": [
      "Accuracy 1 0.6085474939656397\n",
      "Accuracy 2 0.6088314638648303\n",
      "Accuracy 3 0.6123810876047139\n",
      "Accuracy 4 0.6133749822518813\n",
      "Accuracy 5 0.6118131478063326\n",
      "Accuracy 6 0.6103932983103791\n",
      "Accuracy 7 0.6092574187136164\n",
      "Accuracy 8 0.6069856595200909\n",
      "Accuracy 9 0.6112452080079511\n",
      "Accuracy 10 0.6044299304273747\n",
      "Accuracy 11 0.6051398551753514\n",
      "Accuracy 12 0.6013062615362772\n",
      "Accuracy 13 0.6011642765866818\n",
      "Accuracy 14 0.5993184722419423\n",
      "Accuracy 15 0.5966207581996308\n",
      "Accuracy 16 0.5902314354678404\n",
      "Accuracy 17 0.5875337214255288\n",
      "Accuracy 18 0.5879596762743149\n",
      "Accuracy 19 0.5856879170807895\n"
     ]
    }
   ],
   "source": [
    "from sklearn import tree\n",
    "for k in range(1,20,1):\n",
    "    clf = tree.DecisionTreeClassifier(max_depth=k)\n",
    "    clf = clf.fit(trainx, trainy)\n",
    "    dummy_result = clf.predict(testx)\n",
    "    count = 0\n",
    "    for i in range(0,testy.shape[0]):\n",
    "        if(dummy_result[i]==testy.iloc[i]):\n",
    "            count = count + 1\n",
    "    print(\"Accuracy\",k,count/testx.shape[0])"
   ]
  },
  {
   "cell_type": "code",
   "execution_count": 61,
   "metadata": {},
   "outputs": [
    {
     "name": "stdout",
     "output_type": "stream",
     "text": [
      "Accuracy 0.6103932983103791\n"
     ]
    }
   ],
   "source": [
    "from sklearn import tree\n",
    "clf = tree.DecisionTreeClassifier(max_depth=6)\n",
    "clf = clf.fit(trainx, trainy)\n",
    "dummy_result = clf.predict(testx)\n",
    "count = 0\n",
    "for i in range(0,testy.shape[0]):\n",
    "    if(dummy_result[i]==testy.iloc[i]):\n",
    "        count = count + 1\n",
    "print(\"Accuracy\",count/testx.shape[0])"
   ]
  },
  {
   "cell_type": "code",
   "execution_count": 62,
   "metadata": {},
   "outputs": [
    {
     "ename": "InvocationException",
     "evalue": "GraphViz's executables not found",
     "output_type": "error",
     "traceback": [
      "\u001b[1;31m---------------------------------------------------------------------------\u001b[0m",
      "\u001b[1;31mInvocationException\u001b[0m                       Traceback (most recent call last)",
      "\u001b[1;32m<ipython-input-62-301a91b38718>\u001b[0m in \u001b[0;36m<module>\u001b[1;34m()\u001b[0m\n\u001b[0;32m      8\u001b[0m                 special_characters=True)\n\u001b[0;32m      9\u001b[0m \u001b[0mgraph\u001b[0m \u001b[1;33m=\u001b[0m \u001b[0mpydotplus\u001b[0m\u001b[1;33m.\u001b[0m\u001b[0mgraph_from_dot_data\u001b[0m\u001b[1;33m(\u001b[0m\u001b[0mdot_data\u001b[0m\u001b[1;33m.\u001b[0m\u001b[0mgetvalue\u001b[0m\u001b[1;33m(\u001b[0m\u001b[1;33m)\u001b[0m\u001b[1;33m)\u001b[0m\u001b[1;33m\u001b[0m\u001b[0m\n\u001b[1;32m---> 10\u001b[1;33m \u001b[0mImage\u001b[0m\u001b[1;33m(\u001b[0m\u001b[0mgraph\u001b[0m\u001b[1;33m.\u001b[0m\u001b[0mcreate_png\u001b[0m\u001b[1;33m(\u001b[0m\u001b[1;33m)\u001b[0m\u001b[1;33m)\u001b[0m\u001b[1;33m\u001b[0m\u001b[0m\n\u001b[0m",
      "\u001b[1;32mc:\\users\\hp\\appdata\\local\\programs\\python\\python35\\lib\\site-packages\\pydotplus\\graphviz.py\u001b[0m in \u001b[0;36m<lambda>\u001b[1;34m(f, prog)\u001b[0m\n\u001b[0;32m   1795\u001b[0m             self.__setattr__(\n\u001b[0;32m   1796\u001b[0m                 \u001b[1;34m'create_'\u001b[0m \u001b[1;33m+\u001b[0m \u001b[0mfrmt\u001b[0m\u001b[1;33m,\u001b[0m\u001b[1;33m\u001b[0m\u001b[0m\n\u001b[1;32m-> 1797\u001b[1;33m                 \u001b[1;32mlambda\u001b[0m \u001b[0mf\u001b[0m\u001b[1;33m=\u001b[0m\u001b[0mfrmt\u001b[0m\u001b[1;33m,\u001b[0m \u001b[0mprog\u001b[0m\u001b[1;33m=\u001b[0m\u001b[0mself\u001b[0m\u001b[1;33m.\u001b[0m\u001b[0mprog\u001b[0m\u001b[1;33m:\u001b[0m \u001b[0mself\u001b[0m\u001b[1;33m.\u001b[0m\u001b[0mcreate\u001b[0m\u001b[1;33m(\u001b[0m\u001b[0mformat\u001b[0m\u001b[1;33m=\u001b[0m\u001b[0mf\u001b[0m\u001b[1;33m,\u001b[0m \u001b[0mprog\u001b[0m\u001b[1;33m=\u001b[0m\u001b[0mprog\u001b[0m\u001b[1;33m)\u001b[0m\u001b[1;33m\u001b[0m\u001b[0m\n\u001b[0m\u001b[0;32m   1798\u001b[0m             )\n\u001b[0;32m   1799\u001b[0m             \u001b[0mf\u001b[0m \u001b[1;33m=\u001b[0m \u001b[0mself\u001b[0m\u001b[1;33m.\u001b[0m\u001b[0m__dict__\u001b[0m\u001b[1;33m[\u001b[0m\u001b[1;34m'create_'\u001b[0m \u001b[1;33m+\u001b[0m \u001b[0mfrmt\u001b[0m\u001b[1;33m]\u001b[0m\u001b[1;33m\u001b[0m\u001b[0m\n",
      "\u001b[1;32mc:\\users\\hp\\appdata\\local\\programs\\python\\python35\\lib\\site-packages\\pydotplus\\graphviz.py\u001b[0m in \u001b[0;36mcreate\u001b[1;34m(self, prog, format)\u001b[0m\n\u001b[0;32m   1958\u001b[0m             \u001b[1;32mif\u001b[0m \u001b[0mself\u001b[0m\u001b[1;33m.\u001b[0m\u001b[0mprogs\u001b[0m \u001b[1;32mis\u001b[0m \u001b[1;32mNone\u001b[0m\u001b[1;33m:\u001b[0m\u001b[1;33m\u001b[0m\u001b[0m\n\u001b[0;32m   1959\u001b[0m                 raise InvocationException(\n\u001b[1;32m-> 1960\u001b[1;33m                     'GraphViz\\'s executables not found')\n\u001b[0m\u001b[0;32m   1961\u001b[0m \u001b[1;33m\u001b[0m\u001b[0m\n\u001b[0;32m   1962\u001b[0m         \u001b[1;32mif\u001b[0m \u001b[0mprog\u001b[0m \u001b[1;32mnot\u001b[0m \u001b[1;32min\u001b[0m \u001b[0mself\u001b[0m\u001b[1;33m.\u001b[0m\u001b[0mprogs\u001b[0m\u001b[1;33m:\u001b[0m\u001b[1;33m\u001b[0m\u001b[0m\n",
      "\u001b[1;31mInvocationException\u001b[0m: GraphViz's executables not found"
     ]
    }
   ],
   "source": [
    "from sklearn.externals.six import StringIO  \n",
    "from IPython.display import Image  \n",
    "from sklearn.tree import export_graphviz\n",
    "import pydotplus\n",
    "dot_data = StringIO()\n",
    "export_graphviz(clf, out_file=dot_data,  \n",
    "                filled=True, rounded=True,\n",
    "                special_characters=True)\n",
    "graph = pydotplus.graph_from_dot_data(dot_data.getvalue())  \n",
    "Image(graph.create_png())"
   ]
  },
  {
   "cell_type": "markdown",
   "metadata": {},
   "source": [
    "##### <h1>SVM </h1>"
   ]
  },
  {
   "cell_type": "code",
   "execution_count": null,
   "metadata": {},
   "outputs": [],
   "source": [
    "from sklearn import svm  \n",
    "C = 20.0  # SVM regularization parameter\n",
    " # SVC with linear kernel\n",
    "svc = svm.SVC(kernel='linear', C=C).fit(trainx, trainy)\n",
    "# LinearSVC (linear kernel)\n",
    "lin_svc = svm.LinearSVC(C=C).fit(trainx, trainy)\n",
    "# SVC with RBF kernel\n",
    "rbf_svc = svm.SVC(kernel='rbf', gamma=0.7, C=C).fit(trainx, trainy)\n",
    "# SVC with polynomial (degree 3) kernel\n",
    "poly_svc = svm.SVC(kernel='poly', degree=3, C=C).fit(trainx, trainy)"
   ]
  },
  {
   "cell_type": "code",
   "execution_count": null,
   "metadata": {},
   "outputs": [],
   "source": [
    "predictions = svc.predict(testx)\n",
    "count = 0\n",
    "for i,j in zip(predictions,testy):\n",
    "    if(i==j):\n",
    "        count = count + 1\n",
    "print(count)\n",
    "print(\"Correct Result\",count)\n",
    "print(\"Incorrect Result\",testx.shape[0]-count)\n",
    "print(\"Accuracy\",count/testx.shape[0])\n",
    "from sklearn.metrics import average_precision_score\n",
    "average_precision = average_precision_score(testy, predictions)\n",
    "print('Average precision-recall score: {0:0.2f}'.format(\n",
    "      average_precision))"
   ]
  },
  {
   "cell_type": "code",
   "execution_count": null,
   "metadata": {},
   "outputs": [],
   "source": [
    "predictions = lin_svc.predict(testx)\n",
    "count = 0\n",
    "for i,j in zip(predictions,testy):\n",
    "    if(i==j):\n",
    "        count = count + 1\n",
    "print(count)\n",
    "print(\"Correct Result\",count)\n",
    "print(\"Incorrect Result\",testx.shape[0]-count)\n",
    "print(\"Accuracy\",count/testx.shape[0])\n",
    "from sklearn.metrics import average_precision_score\n",
    "average_precision = average_precision_score(testy, predictions)\n",
    "print('Average precision-recall score: {0:0.2f}'.format(\n",
    "      average_precision))"
   ]
  },
  {
   "cell_type": "code",
   "execution_count": null,
   "metadata": {},
   "outputs": [],
   "source": [
    "predictions = rbf_svc.predict(testx)\n",
    "count = 0\n",
    "for i,j in zip(predictions,testy):\n",
    "    if(i==j):\n",
    "        count = count + 1\n",
    "print(count)\n",
    "print(\"Correct Result\",count)\n",
    "print(\"Incorrect Result\",testx.shape[0]-count)\n",
    "print(\"Accuracy\",count/testx.shape[0])\n",
    "from sklearn.metrics import average_precision_score\n",
    "average_precision = average_precision_score(testy, predictions)\n",
    "print('Average precision-recall score: {0:0.2f}'.format(\n",
    "      average_precision))"
   ]
  },
  {
   "cell_type": "code",
   "execution_count": null,
   "metadata": {},
   "outputs": [],
   "source": [
    "predictions = poly_svc.predict(testx)\n",
    "count = 0\n",
    "for i,j in zip(predictions,testy):\n",
    "    if(i==j):\n",
    "        count = count + 1\n",
    "print(count)\n",
    "print(\"Correct Result\",count)\n",
    "print(\"Incorrect Result\",testx.shape[0]-count)\n",
    "print(\"Accuracy\",count/testx.shape[0])\n",
    "from sklearn.metrics import average_precision_score\n",
    "average_precision = average_precision_score(testy, predictions)\n",
    "print('Average precision-recall score: {0:0.2f}'.format(\n",
    "      average_precision))"
   ]
  },
  {
   "cell_type": "markdown",
   "metadata": {},
   "source": [
    "<h1>A1Cresult</h1>"
   ]
  },
  {
   "cell_type": "code",
   "execution_count": null,
   "metadata": {},
   "outputs": [],
   "source": [
    "from sklearn.model_selection import train_test_split\n",
    "train,test = train_test_split(new_a,test_size=0.2)\n",
    "trainx = pd.DataFrame(train[['A1Cresult','number_emergency', 'number_inpatient', 'diag_3','number_outpatient']])\n",
    "trainy = train['readmitted']                           \n",
    "testx = pd.DataFrame(test[['A1Cresult','number_emergency', 'number_inpatient', 'diag_3','number_outpatient']])\n",
    "testy = test['readmitted']\n",
    "print(trainx.shape,trainy.shape,testx.shape,testy.shape)"
   ]
  },
  {
   "cell_type": "code",
   "execution_count": 174,
   "metadata": {},
   "outputs": [
    {
     "name": "stdout",
     "output_type": "stream",
     "text": [
      "3802\n",
      "Correct Result 3802\n",
      "Incorrect Result 3241\n",
      "Accuracy 0.5398267783614937\n"
     ]
    }
   ],
   "source": [
    "from sklearn.ensemble import RandomForestRegressor\n",
    "rf = RandomForestRegressor(n_estimators = 1)\n",
    "rf.fit(trainx, trainy)\n",
    "from sklearn.metrics import accuracy_score\n",
    "predictions = rf.predict(testx)\n",
    "predictions\n",
    "#accuracy = accuracy_score(testy, predictions)\n",
    "#print(\"Accuracy\",accuracy)\n",
    "count = 0\n",
    "for i,j in zip(predictions,testy):\n",
    "    if(i==j):\n",
    "        count = count + 1\n",
    "print(count)\n",
    "print(\"Correct Result\",count)\n",
    "print(\"Incorrect Result\",testx.shape[0]-count)\n",
    "print(\"Accuracy\",count/testx.shape[0])\n",
    "#mape = 100 * (errors / testx2)\n",
    "#accuracy = 100 - np.mean(mape)\n",
    "#print('Accuracy:', round(accuracy, 2), '%.')"
   ]
  },
  {
   "cell_type": "code",
   "execution_count": 157,
   "metadata": {},
   "outputs": [
    {
     "name": "stdout",
     "output_type": "stream",
     "text": [
      "Correct Result 3836\n",
      "Incorrect Result 3207\n",
      "Accuracy 0.5446542666477353\n"
     ]
    }
   ],
   "source": [
    "from sklearn import tree\n",
    "clf = tree.DecisionTreeClassifier()\n",
    "clf = clf.fit(trainx, trainy)\n",
    "dummy_result = clf.predict(testx)\n",
    "count = 0\n",
    "for i in range(0,testy.shape[0]):\n",
    "    if(dummy_result[i]==testy.iloc[i]):\n",
    "        count = count + 1\n",
    "print(\"Correct Result\",count)\n",
    "print(\"Incorrect Result\",testx.shape[0]-count)\n",
    "print(\"Accuracy\",count/testx.shape[0])\n",
    "\n"
   ]
  },
  {
   "cell_type": "code",
   "execution_count": 158,
   "metadata": {},
   "outputs": [
    {
     "name": "stdout",
     "output_type": "stream",
     "text": [
      "3792\n",
      "Correct Result 3792\n",
      "Incorrect Result 3251\n",
      "Accuracy 0.5384069288655402\n"
     ]
    }
   ],
   "source": [
    "from sklearn.neighbors import KNeighborsRegressor\n",
    "knn = KNeighborsRegressor(n_neighbors=1)\n",
    "knn.fit(trainx, trainy)\n",
    "predictions = knn.predict(testx)\n",
    "count = 0\n",
    "for i,j in zip(predictions,testy):\n",
    "    if(i==j):\n",
    "        count = count + 1\n",
    "print(count)\n",
    "print(\"Correct Result\",count)\n",
    "print(\"Incorrect Result\",testx.shape[0]-count)\n",
    "print(\"Accuracy\",count/testx.shape[0])"
   ]
  },
  {
   "cell_type": "code",
   "execution_count": 159,
   "metadata": {},
   "outputs": [],
   "source": [
    "from sklearn import svm  \n",
    "C = 25.0  # SVM regularization parameter\n",
    " # SVC with linear kernel\n",
    "svc = svm.SVC(kernel='linear', C=C).fit(trainx, trainy)\n",
    "# LinearSVC (linear kernel)\n",
    "lin_svc = svm.LinearSVC(C=C).fit(trainx, trainy)\n",
    "# SVC with RBF kernel\n",
    "rbf_svc = svm.SVC(kernel='rbf', gamma=0.7, C=C).fit(trainx, trainy)\n",
    "# SVC with polynomial (degree 3) kernel\n",
    "poly_svc = svm.SVC(kernel='poly', degree=3, C=C).fit(trainx, trainy)"
   ]
  },
  {
   "cell_type": "code",
   "execution_count": 160,
   "metadata": {},
   "outputs": [
    {
     "name": "stdout",
     "output_type": "stream",
     "text": [
      "3956\n",
      "Correct Result 3956\n",
      "Incorrect Result 3087\n",
      "Accuracy 0.5616924605991764\n"
     ]
    }
   ],
   "source": [
    "predictions = svc.predict(testx)\n",
    "count = 0\n",
    "for i,j in zip(predictions,testy):\n",
    "    if(i==j):\n",
    "        count = count + 1\n",
    "print(count)\n",
    "print(\"Correct Result\",count)\n",
    "print(\"Incorrect Result\",testx.shape[0]-count)\n",
    "print(\"Accuracy\",count/testx.shape[0])"
   ]
  },
  {
   "cell_type": "code",
   "execution_count": 161,
   "metadata": {},
   "outputs": [
    {
     "name": "stdout",
     "output_type": "stream",
     "text": [
      "4265\n",
      "Correct Result 4265\n",
      "Incorrect Result 2778\n",
      "Accuracy 0.6055658100241375\n"
     ]
    }
   ],
   "source": [
    "predictions = lin_svc.predict(testx)\n",
    "count = 0\n",
    "for i,j in zip(predictions,testy):\n",
    "    if(i==j):\n",
    "        count = count + 1\n",
    "print(count)\n",
    "print(\"Correct Result\",count)\n",
    "print(\"Incorrect Result\",testx.shape[0]-count)\n",
    "print(\"Accuracy\",count/testx.shape[0])"
   ]
  },
  {
   "cell_type": "code",
   "execution_count": 162,
   "metadata": {},
   "outputs": [
    {
     "name": "stdout",
     "output_type": "stream",
     "text": [
      "4000\n",
      "Correct Result 4000\n",
      "Incorrect Result 3043\n",
      "Accuracy 0.5679397983813715\n"
     ]
    }
   ],
   "source": [
    "predictions = rbf_svc.predict(testx)\n",
    "count = 0\n",
    "for i,j in zip(predictions,testy):\n",
    "    if(i==j):\n",
    "        count = count + 1\n",
    "print(count)\n",
    "print(\"Correct Result\",count)\n",
    "print(\"Incorrect Result\",testx.shape[0]-count)\n",
    "print(\"Accuracy\",count/testx.shape[0])"
   ]
  },
  {
   "cell_type": "code",
   "execution_count": 163,
   "metadata": {},
   "outputs": [
    {
     "name": "stdout",
     "output_type": "stream",
     "text": [
      "3864\n",
      "Correct Result 3864\n",
      "Incorrect Result 3179\n",
      "Accuracy 0.5486298452364049\n"
     ]
    }
   ],
   "source": [
    "predictions = poly_svc.predict(testx)\n",
    "count = 0\n",
    "for i,j in zip(predictions,testy):\n",
    "    if(i==j):\n",
    "        count = count + 1\n",
    "print(count)\n",
    "print(\"Correct Result\",count)\n",
    "print(\"Incorrect Result\",testx.shape[0]-count)\n",
    "print(\"Accuracy\",count/testx.shape[0])"
   ]
  },
  {
   "cell_type": "markdown",
   "metadata": {},
   "source": [
    "The objective of the research is to apply various Classification Algorithms like SVM, Random Forest, KNN, Decision Tree and to find which Algorithm gives the best result.In this research we have also find the attributes which plays a significant role in detecting whether the person will be readmitted again or not in the hospital."
   ]
  }
 ],
 "metadata": {
  "kernelspec": {
   "display_name": "Python 3",
   "language": "python",
   "name": "python3"
  },
  "language_info": {
   "codemirror_mode": {
    "name": "ipython",
    "version": 3
   },
   "file_extension": ".py",
   "mimetype": "text/x-python",
   "name": "python",
   "nbconvert_exporter": "python",
   "pygments_lexer": "ipython3",
   "version": "3.5.3"
  }
 },
 "nbformat": 4,
 "nbformat_minor": 2
}

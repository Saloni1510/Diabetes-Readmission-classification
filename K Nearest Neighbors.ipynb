{
 "cells": [
  {
   "cell_type": "code",
   "execution_count": 1,
   "metadata": {},
   "outputs": [],
   "source": [
    "from sklearn import preprocessing\n",
    "import matplotlib.pyplot as plt; plt.rcdefaults()\n",
    "import numpy as np\n",
    "import matplotlib.pyplot as plt\n",
    " "
   ]
  },
  {
   "cell_type": "code",
   "execution_count": 2,
   "metadata": {},
   "outputs": [
    {
     "name": "stdout",
     "output_type": "stream",
     "text": [
      "(65499, 50)\n",
      "Index(['encounter_id', 'patient_nbr', 'race', 'gender', 'age', 'weight',\n",
      "       'admission_type_id', 'discharge_disposition_id', 'admission_source_id',\n",
      "       'time_in_hospital', 'payer_code', 'medical_specialty',\n",
      "       'num_lab_procedures', 'num_procedures', 'num_medications',\n",
      "       'number_outpatient', 'number_emergency', 'number_inpatient', 'diag_1',\n",
      "       'diag_2', 'diag_3', 'number_diagnoses', 'max_glu_serum', 'A1Cresult',\n",
      "       'metformin', 'repaglinide', 'nateglinide', 'chlorpropamide',\n",
      "       'glimepiride', 'acetohexamide', 'glipizide', 'glyburide', 'tolbutamide',\n",
      "       'pioglitazone', 'rosiglitazone', 'acarbose', 'miglitol', 'troglitazone',\n",
      "       'tolazamide', 'examide', 'citoglipton', 'insulin',\n",
      "       'glyburide-metformin', 'glipizide-metformin',\n",
      "       'glimepiride-pioglitazone', 'metformin-rosiglitazone',\n",
      "       'metformin-pioglitazone', 'change', 'diabetesMed', 'readmitted'],\n",
      "      dtype='object')\n"
     ]
    }
   ],
   "source": [
    "labels=[\"NO\",\"YES\"]\n",
    "import pandas as pd\n",
    "data = pd.read_csv('diabetic1.csv',converters={49:lambda s: labels.index(s)})\n",
    "print(data.shape)\n",
    "print(data.columns)"
   ]
  },
  {
   "cell_type": "code",
   "execution_count": 3,
   "metadata": {},
   "outputs": [],
   "source": [
    "data1 = data\n",
    "data1 = data1.drop(columns=['admission_type_id','discharge_disposition_id','admission_source_id','weight','payer_code','medical_specialty','acetohexamide','examide','citoglipton','glimepiride-pioglitazone', 'metformin-rosiglitazone','max_glu_serum','glyburide-metformin','glipizide-metformin','metformin-pioglitazone','encounter_id', 'patient_nbr'])"
   ]
  },
  {
   "cell_type": "code",
   "execution_count": 4,
   "metadata": {},
   "outputs": [
    {
     "data": {
      "text/plain": [
       "(62945, 33)"
      ]
     },
     "execution_count": 4,
     "metadata": {},
     "output_type": "execute_result"
    }
   ],
   "source": [
    "data1 = data1.replace(\"?\",np.nan) \n",
    "data1 = data1.dropna() \n",
    "data1.shape"
   ]
  },
  {
   "cell_type": "code",
   "execution_count": 5,
   "metadata": {},
   "outputs": [
    {
     "data": {
      "text/html": [
       "<div>\n",
       "<style scoped>\n",
       "    .dataframe tbody tr th:only-of-type {\n",
       "        vertical-align: middle;\n",
       "    }\n",
       "\n",
       "    .dataframe tbody tr th {\n",
       "        vertical-align: top;\n",
       "    }\n",
       "\n",
       "    .dataframe thead th {\n",
       "        text-align: right;\n",
       "    }\n",
       "</style>\n",
       "<table border=\"1\" class=\"dataframe\">\n",
       "  <thead>\n",
       "    <tr style=\"text-align: right;\">\n",
       "      <th></th>\n",
       "      <th>time_in_hospital</th>\n",
       "      <th>num_lab_procedures</th>\n",
       "      <th>num_procedures</th>\n",
       "      <th>num_medications</th>\n",
       "      <th>number_outpatient</th>\n",
       "      <th>number_emergency</th>\n",
       "      <th>number_inpatient</th>\n",
       "      <th>number_diagnoses</th>\n",
       "      <th>readmitted</th>\n",
       "    </tr>\n",
       "  </thead>\n",
       "  <tbody>\n",
       "    <tr>\n",
       "      <th>count</th>\n",
       "      <td>62945.000000</td>\n",
       "      <td>62945.000000</td>\n",
       "      <td>62945.000000</td>\n",
       "      <td>62945.000000</td>\n",
       "      <td>62945.000000</td>\n",
       "      <td>62945.000000</td>\n",
       "      <td>62945.000000</td>\n",
       "      <td>62945.000000</td>\n",
       "      <td>62945.000000</td>\n",
       "    </tr>\n",
       "    <tr>\n",
       "      <th>mean</th>\n",
       "      <td>4.558615</td>\n",
       "      <td>42.780094</td>\n",
       "      <td>1.358345</td>\n",
       "      <td>15.740186</td>\n",
       "      <td>0.281118</td>\n",
       "      <td>0.149877</td>\n",
       "      <td>0.616506</td>\n",
       "      <td>7.208309</td>\n",
       "      <td>0.478878</td>\n",
       "    </tr>\n",
       "    <tr>\n",
       "      <th>std</th>\n",
       "      <td>3.068419</td>\n",
       "      <td>19.123392</td>\n",
       "      <td>1.682986</td>\n",
       "      <td>8.185239</td>\n",
       "      <td>1.034566</td>\n",
       "      <td>0.666082</td>\n",
       "      <td>1.228668</td>\n",
       "      <td>1.892782</td>\n",
       "      <td>0.499558</td>\n",
       "    </tr>\n",
       "    <tr>\n",
       "      <th>min</th>\n",
       "      <td>1.000000</td>\n",
       "      <td>1.000000</td>\n",
       "      <td>0.000000</td>\n",
       "      <td>1.000000</td>\n",
       "      <td>0.000000</td>\n",
       "      <td>0.000000</td>\n",
       "      <td>0.000000</td>\n",
       "      <td>3.000000</td>\n",
       "      <td>0.000000</td>\n",
       "    </tr>\n",
       "    <tr>\n",
       "      <th>25%</th>\n",
       "      <td>2.000000</td>\n",
       "      <td>31.000000</td>\n",
       "      <td>0.000000</td>\n",
       "      <td>10.000000</td>\n",
       "      <td>0.000000</td>\n",
       "      <td>0.000000</td>\n",
       "      <td>0.000000</td>\n",
       "      <td>6.000000</td>\n",
       "      <td>0.000000</td>\n",
       "    </tr>\n",
       "    <tr>\n",
       "      <th>50%</th>\n",
       "      <td>4.000000</td>\n",
       "      <td>44.000000</td>\n",
       "      <td>1.000000</td>\n",
       "      <td>14.000000</td>\n",
       "      <td>0.000000</td>\n",
       "      <td>0.000000</td>\n",
       "      <td>0.000000</td>\n",
       "      <td>8.000000</td>\n",
       "      <td>0.000000</td>\n",
       "    </tr>\n",
       "    <tr>\n",
       "      <th>75%</th>\n",
       "      <td>6.000000</td>\n",
       "      <td>56.000000</td>\n",
       "      <td>2.000000</td>\n",
       "      <td>20.000000</td>\n",
       "      <td>0.000000</td>\n",
       "      <td>0.000000</td>\n",
       "      <td>1.000000</td>\n",
       "      <td>9.000000</td>\n",
       "      <td>1.000000</td>\n",
       "    </tr>\n",
       "    <tr>\n",
       "      <th>max</th>\n",
       "      <td>14.000000</td>\n",
       "      <td>129.000000</td>\n",
       "      <td>6.000000</td>\n",
       "      <td>81.000000</td>\n",
       "      <td>42.000000</td>\n",
       "      <td>42.000000</td>\n",
       "      <td>21.000000</td>\n",
       "      <td>9.000000</td>\n",
       "      <td>1.000000</td>\n",
       "    </tr>\n",
       "  </tbody>\n",
       "</table>\n",
       "</div>"
      ],
      "text/plain": [
       "       time_in_hospital  num_lab_procedures  num_procedures  num_medications  \\\n",
       "count      62945.000000        62945.000000    62945.000000     62945.000000   \n",
       "mean           4.558615           42.780094        1.358345        15.740186   \n",
       "std            3.068419           19.123392        1.682986         8.185239   \n",
       "min            1.000000            1.000000        0.000000         1.000000   \n",
       "25%            2.000000           31.000000        0.000000        10.000000   \n",
       "50%            4.000000           44.000000        1.000000        14.000000   \n",
       "75%            6.000000           56.000000        2.000000        20.000000   \n",
       "max           14.000000          129.000000        6.000000        81.000000   \n",
       "\n",
       "       number_outpatient  number_emergency  number_inpatient  \\\n",
       "count       62945.000000      62945.000000      62945.000000   \n",
       "mean            0.281118          0.149877          0.616506   \n",
       "std             1.034566          0.666082          1.228668   \n",
       "min             0.000000          0.000000          0.000000   \n",
       "25%             0.000000          0.000000          0.000000   \n",
       "50%             0.000000          0.000000          0.000000   \n",
       "75%             0.000000          0.000000          1.000000   \n",
       "max            42.000000         42.000000         21.000000   \n",
       "\n",
       "       number_diagnoses    readmitted  \n",
       "count      62945.000000  62945.000000  \n",
       "mean           7.208309      0.478878  \n",
       "std            1.892782      0.499558  \n",
       "min            3.000000      0.000000  \n",
       "25%            6.000000      0.000000  \n",
       "50%            8.000000      0.000000  \n",
       "75%            9.000000      1.000000  \n",
       "max            9.000000      1.000000  "
      ]
     },
     "execution_count": 5,
     "metadata": {},
     "output_type": "execute_result"
    }
   ],
   "source": [
    "data1.describe()"
   ]
  },
  {
   "cell_type": "markdown",
   "metadata": {},
   "source": [
    "data1 = data1.replace(\"?\",np.nan)\n",
    "data1 = data1.dropna()\n",
    "data1.shape"
   ]
  },
  {
   "cell_type": "markdown",
   "metadata": {},
   "source": [
    "<h2> One Hot Encoding </h2>"
   ]
  },
  {
   "cell_type": "code",
   "execution_count": 6,
   "metadata": {},
   "outputs": [],
   "source": [
    "le = preprocessing.LabelEncoder()\n",
    "le.fit(['No' ,'Steady', 'Down' ,'Up'])\n",
    "data1['metformin']=le.transform(data1['metformin']) \n",
    "le = preprocessing.LabelEncoder()\n",
    "le.fit(['No' ,'Steady', 'Down' ,'Up'])\n",
    "data1['repaglinide']=le.transform(data1['repaglinide']) \n",
    "le = preprocessing.LabelEncoder()\n",
    "le.fit(['No' ,'Steady', 'Down' ,'Up'])\n",
    "data1['nateglinide']=le.transform(data1['nateglinide']) \n",
    "le = preprocessing.LabelEncoder()\n",
    "le.fit(['No','Steady','Down','Up'])\n",
    "data1['chlorpropamide']=le.transform(data1['chlorpropamide']) \n",
    "le = preprocessing.LabelEncoder()\n",
    "le.fit(['No','Steady','Down','Up'])\n",
    "data1['glimepiride']=le.transform(data1['glimepiride']) \n",
    "le.fit(['No','Steady','Down','Up'])\n",
    "data1['glipizide']=le.transform(data1['glipizide']) \n",
    "le = preprocessing.LabelEncoder()\n",
    "le.fit(['No','Steady','Down','Up'])\n",
    "data1['glyburide']=le.transform(data1['glyburide'])\n",
    "le = preprocessing.LabelEncoder()\n",
    "le.fit(['No','Steady'])\n",
    "data1['tolbutamide']=le.transform(data1['tolbutamide']) \n",
    "le = preprocessing.LabelEncoder()\n",
    "le.fit(['No','Steady','Down','Up'])\n",
    "data1['pioglitazone']=le.transform(data1['pioglitazone']) \n",
    "le = preprocessing.LabelEncoder()\n",
    "le.fit(['No','Steady','Down','Up'])\n",
    "data1['rosiglitazone']=le.transform(data1['rosiglitazone']) \n",
    "le = preprocessing.LabelEncoder()\n",
    "le.fit(['No','Steady','Down','Up'])\n",
    "data1['acarbose']=le.transform(data1['acarbose']) \n",
    "le = preprocessing.LabelEncoder()\n",
    "le.fit(['No','Steady','Down','Up'])\n",
    "data1['miglitol']=le.transform(data1['miglitol']) \n",
    "le = preprocessing.LabelEncoder()\n",
    "le.fit(['No','Steady'])\n",
    "data1['troglitazone']=le.transform(data1['troglitazone']) \n",
    "le = preprocessing.LabelEncoder()\n",
    "le.fit(['No','Steady','Up'])\n",
    "data1['tolazamide']=le.transform(data1['tolazamide']) \n",
    "le = preprocessing.LabelEncoder()\n",
    "le.fit(['Caucasian', 'AfricanAmerican', 'Hispanic', 'Others', 'Asian','Other'])\n",
    "data1['race']=le.transform(data1['race']) \n",
    "le = preprocessing.LabelEncoder()\n",
    "le.fit([\"Male\" ,\"Female\", \"Unknown/Invalid\"])\n",
    "data1['gender']=le.transform(data1['gender']) \n",
    "le = preprocessing.LabelEncoder()\n",
    "le.fit(['[70-80)', '[30-40)' ,'[50-60)', '[80-90)', '[60-70)' ,'[40-50)' ,'[90-100)',\n",
    " '[20-30)', '[10-20)', '[0-10)'])\n",
    "data1['age']=le.transform(data1['age'])\n",
    "le = preprocessing.LabelEncoder()\n",
    "le.fit(['Norm' ,'None', '>8', '>7'])\n",
    "data1['A1Cresult']=le.transform(data1['A1Cresult'])\n",
    "le = preprocessing.LabelEncoder()\n",
    "le.fit(['Yes','No'])\n",
    "data1['diabetesMed']=le.transform(data1['diabetesMed'])\n",
    "le = preprocessing.LabelEncoder()\n",
    "le.fit(['No','Steady','Down','Up'])\n",
    "data1['insulin']=le.transform(data1['insulin']) \n",
    "le = preprocessing.LabelEncoder()\n",
    "le.fit(['No','Ch'])\n",
    "data1['change']=le.transform(data1['change']) \n"
   ]
  },
  {
   "cell_type": "code",
   "execution_count": 7,
   "metadata": {},
   "outputs": [],
   "source": [
    "a = data1['diag_3']\n",
    "count = 0\n",
    "list1 = list()\n",
    "for i in a:\n",
    "    if(i.startswith('V') or i.startswith('E')):\n",
    "        list1.append(i)\n",
    "    count = count + 1\n",
    "for i in list1:\n",
    "    a = a.replace(i,\"?\")     \n",
    "data1['diag_3'] = a\n",
    "\n"
   ]
  },
  {
   "cell_type": "code",
   "execution_count": 8,
   "metadata": {},
   "outputs": [],
   "source": [
    "a = data1['diag_1']\n",
    "count = 0\n",
    "list1 = list()\n",
    "for i in a:\n",
    "    if(i.startswith('V') or i.startswith('E')):\n",
    "        list1.append(i)\n",
    "    count = count + 1\n",
    "for i in list1:\n",
    "    a = a.replace(i,\"?\")     \n",
    "data1['diag_1'] = a\n",
    "\n",
    "\n"
   ]
  },
  {
   "cell_type": "code",
   "execution_count": 9,
   "metadata": {},
   "outputs": [],
   "source": [
    "a = data1['diag_2']\n",
    "count = 0\n",
    "list1 = list()\n",
    "for i in a:\n",
    "    if(i.startswith('V') or i.startswith('E')):\n",
    "        list1.append(i)\n",
    "    count = count + 1\n",
    "for i in list1:\n",
    "    a = a.replace(i,\"?\")     \n",
    "data1['diag_2'] = a\n"
   ]
  },
  {
   "cell_type": "code",
   "execution_count": 10,
   "metadata": {},
   "outputs": [
    {
     "data": {
      "text/plain": [
       "array(['255', '?', '403', '250', '38', '486', '996', '197', '250.6',\n",
       "       '427', '627', '414', '416', '582', '250.01', '263', '250.42',\n",
       "       '276', '482', '401', '250.41', '585', '781', '278', '998', '428',\n",
       "       '568', '682', '250.02', '305', '707', '496', '599', '424', '518',\n",
       "       '553', '794', '411', '531', '511', '490', '562', '250.8', '250.7',\n",
       "       '250.52', '784', '491', '581', '420', '724', '730', '789', '131',\n",
       "       '250.82', '999', '41', '493', '250.03', '753', '786', '529', '425',\n",
       "       '595', '303', '560', '711', '8', '492', '332', '296', '438', '362',\n",
       "       '250.4', '654', '244', '737', '625', '681', '250.51', '404', '810',\n",
       "       '280', '440', '785', '569', '272', '997', '250.43', '918', '584',\n",
       "       '54', '788', '426', '722', '250.92', '196', '461', '535', '787',\n",
       "       '891', '284', '458', '648', '780', '182', '285', '593', '413',\n",
       "       '664', '564', '201', '356', '292', '782', '715', '473', '455',\n",
       "       '714', '357', '348', '294', '250.23', '459', '437', '733', '507',\n",
       "       '525', '250.53', '397', '572', '805', '453', '331', '736', '402',\n",
       "       '591', '576', '465', '533', '703', '349', '315', '658', '608',\n",
       "       '578', '716', '382', '300', '282', '571', '536', '596', '287',\n",
       "       '644', '558', '162', '198', '218', '412', '396', '570', '433',\n",
       "       '882', '288', '577', '443', '729', '836', '295', '799', '281',\n",
       "       '304', '153', '410', '616', '250.83', '601', '291', '75', '512',\n",
       "       '660', '250.5', '598', '337', '574', '653', '311', '415', '386',\n",
       "       '602', '790', '112', '873', '620', '436', '70', '155', '138',\n",
       "       '663', '530', '710', '42', '342', '250.91', '515', '307', '704',\n",
       "       '728', '731', '583', '238', '441', '293', '573', '532', '290',\n",
       "       '319', '250.13', '250.12', '519', '346', '380', '135', '642',\n",
       "       '698', '924', '905', '555', '309', '286', '565', '752', '580',\n",
       "       '446', '444', '344', '252', '35', '813', '394', '301', '258',\n",
       "       '802', '435', '746', '709', '881', '139', '250.81', '718', '365',\n",
       "       '202', '334', '185', '398', '517', '614', '466', '626', '250.9',\n",
       "       '368', '605', '883', '289', '478', '617', '429', '442', '866',\n",
       "       '610', '557', '959', '94', '920', '345', '313', '379', '79', '516',\n",
       "       '586', '821', '600', '242', '373', '592', '487', '253', '706',\n",
       "       '117', '340', '656', '590', '250.22', '934', '694', '203',\n",
       "       '250.93', '995', '726', '923', '958', '275', '211', '199', '665',\n",
       "       '53', '279', '522', '791', '890', '456', '122', '721', '136',\n",
       "       '480', '423', '793', '647', '537', '575', '351', '845', '336',\n",
       "       '274', '719', '945', '434', '494', '227', '157', '208', '174',\n",
       "       '812', '734', '150', '447', '692', '228', '756', '405', '552',\n",
       "       '389', '240', '454', '792', '366', '907', '270', '310', '266',\n",
       "       '387', '783', '245', '607', '355', '705', '372', '369', '611',\n",
       "       '283', '110', '867', '251', '250.2', '820', '712', '695', '567',\n",
       "       '343', '723', '273', '623', '807', '823', '618', '451', '495',\n",
       "       '701', '34', '314', '472', '11', '189', '534', '354', '333', '277',\n",
       "       '659', '708', '452', '655', '816', '670', '621', '246', '953',\n",
       "       '865', '646', '151', '378', '78', '298', '840', '641', '521',\n",
       "       '745', '619', '912', '506', '259', '594', '383', '204', '696',\n",
       "       '566', '727', '47', '358', '191', '965', '921', '432', '27', '758',\n",
       "       '477', '524', '751', '652', '556', '188', '825', '919', '732',\n",
       "       '908', '951', '962', '685', '527', '341', '693', '250.1', '860',\n",
       "       '323', '579', '508', '969', '205', '462', '680', '697', '826',\n",
       "       '200', '457', '717', '738', '742', '735', '235', '308', '528',\n",
       "       '725', '241', '824', '464', '260', '917', '239', '661', '892',\n",
       "       '261', '943', '744', '796', '318', '967', '350', '854', '9', '741',\n",
       "       '170', '643', '317', '759', '909', '831', '713', '180', '801',\n",
       "       '360', '359', '501', '335', '250.11', '306', '811', '690', '271',\n",
       "       '214', '847', '543', '906', '842', '686', '445', '808', '861',\n",
       "       '220', '915', '970', '256', '747', '395', '243', '815', '481', '5',\n",
       "       '297', '299', '851', '864', '922', '384', '225', '158', '871',\n",
       "       '88', '604', '233', '797', '172', '421', '852', '972', '916',\n",
       "       '956', '3', '173', '193', '154', '347', '862', '250.3', '987',\n",
       "       '470', '262', '161', '115', '179', '910', '312', '17', '460',\n",
       "       '265', '66', '163', '870', '514', '944', '844', '417', '152',\n",
       "       '183', '991', '216', '385', '164', '935', '510', '485', '850',\n",
       "       '250.21', '872', '377', '195', '588', '431', '597', '933', '171',\n",
       "       '884', '156', '868', '483', '542', '853', '192', '754', '327',\n",
       "       '523', '500', '992', '657', '684', '603', '550', '913', '376',\n",
       "       '755', '361', '186', '720', '250.31', '674', '911', '374', '226'],\n",
       "      dtype=object)"
      ]
     },
     "execution_count": 10,
     "metadata": {},
     "output_type": "execute_result"
    }
   ],
   "source": [
    "data1['diag_3'].unique()"
   ]
  },
  {
   "cell_type": "code",
   "execution_count": 11,
   "metadata": {},
   "outputs": [
    {
     "data": {
      "text/plain": [
       "(62945, 33)"
      ]
     },
     "execution_count": 11,
     "metadata": {},
     "output_type": "execute_result"
    }
   ],
   "source": [
    "data1.shape"
   ]
  },
  {
   "cell_type": "code",
   "execution_count": 12,
   "metadata": {},
   "outputs": [
    {
     "data": {
      "text/plain": [
       "(57574, 33)"
      ]
     },
     "execution_count": 12,
     "metadata": {},
     "output_type": "execute_result"
    }
   ],
   "source": [
    "data1 = data1.replace(\"?\",np.nan)\n",
    "data1 = data1.dropna()\n",
    "data1.shape"
   ]
  },
  {
   "cell_type": "code",
   "execution_count": 13,
   "metadata": {},
   "outputs": [],
   "source": [
    "data2 = data1"
   ]
  },
  {
   "cell_type": "code",
   "execution_count": 14,
   "metadata": {},
   "outputs": [
    {
     "data": {
      "text/plain": [
       "0"
      ]
     },
     "execution_count": 14,
     "metadata": {},
     "output_type": "execute_result"
    }
   ],
   "source": [
    "dupes=data2.duplicated()\n",
    "sum(dupes)"
   ]
  },
  {
   "cell_type": "markdown",
   "metadata": {},
   "source": [
    "<h2> Variance Threshold </h2>"
   ]
  },
  {
   "cell_type": "code",
   "execution_count": 15,
   "metadata": {},
   "outputs": [
    {
     "name": "stdout",
     "output_type": "stream",
     "text": [
      "Index(['race', 'gender', 'age', 'time_in_hospital', 'num_lab_procedures',\n",
      "       'num_procedures', 'num_medications', 'number_outpatient',\n",
      "       'number_emergency', 'number_inpatient', 'diag_1', 'diag_2', 'diag_3',\n",
      "       'number_diagnoses', 'A1Cresult', 'metformin', 'insulin', 'change',\n",
      "       'diabetesMed', 'readmitted'],\n",
      "      dtype='object')\n"
     ]
    }
   ],
   "source": [
    "from sklearn.feature_selection import VarianceThreshold\n",
    "sel = VarianceThreshold(threshold=(.8 * (1 - .8)))\n",
    "sel.fit_transform(data2)\n",
    "idxs_selected = sel.get_support(indices=True)\n",
    "features_dataframe_new = data2.columns[idxs_selected]\n",
    "print(features_dataframe_new)"
   ]
  },
  {
   "cell_type": "code",
   "execution_count": 16,
   "metadata": {},
   "outputs": [],
   "source": [
    "data2 = data2[['race', 'gender', 'age', 'time_in_hospital', 'num_lab_procedures',\n",
    "       'num_procedures', 'num_medications', 'number_outpatient',\n",
    "       'number_emergency', 'number_inpatient', 'diag_1', 'diag_2', 'diag_3',\n",
    "       'number_diagnoses', 'A1Cresult', 'metformin', 'insulin', 'change',\n",
    "       'diabetesMed', 'readmitted']]"
   ]
  },
  {
   "cell_type": "code",
   "execution_count": 17,
   "metadata": {},
   "outputs": [
    {
     "data": {
      "text/plain": [
       "(57574, 20)"
      ]
     },
     "execution_count": 17,
     "metadata": {},
     "output_type": "execute_result"
    }
   ],
   "source": [
    "data2.shape"
   ]
  },
  {
   "cell_type": "code",
   "execution_count": 18,
   "metadata": {},
   "outputs": [
    {
     "data": {
      "text/plain": [
       "count     57574\n",
       "unique      598\n",
       "top         250\n",
       "freq       7242\n",
       "Name: diag_3, dtype: object"
      ]
     },
     "execution_count": 18,
     "metadata": {},
     "output_type": "execute_result"
    }
   ],
   "source": [
    "data2['diag_3'].describe()"
   ]
  },
  {
   "cell_type": "markdown",
   "metadata": {},
   "source": [
    "<h1> Normalization </h1>"
   ]
  },
  {
   "cell_type": "code",
   "execution_count": 19,
   "metadata": {},
   "outputs": [],
   "source": [
    "from sklearn.preprocessing import normalize\n",
    "array1 = data2.values\n",
    "X = array1[:,0:19]\n",
    "Y = array1[:,19]\n",
    "Y = Y.astype('int')\n",
    "result = normalize(X, norm='l2', axis=1, copy=True, return_norm=False)"
   ]
  },
  {
   "cell_type": "code",
   "execution_count": 20,
   "metadata": {},
   "outputs": [
    {
     "data": {
      "text/plain": [
       "Index(['race', 'gender', 'age', 'time_in_hospital', 'num_lab_procedures',\n",
       "       'num_procedures', 'num_medications', 'number_outpatient',\n",
       "       'number_emergency', 'number_inpatient', 'diag_1', 'diag_2', 'diag_3',\n",
       "       'number_diagnoses', 'A1Cresult', 'metformin', 'insulin', 'change',\n",
       "       'diabetesMed', 'readmitted'],\n",
       "      dtype='object')"
      ]
     },
     "execution_count": 20,
     "metadata": {},
     "output_type": "execute_result"
    }
   ],
   "source": [
    "data2.columns"
   ]
  },
  {
   "cell_type": "code",
   "execution_count": 21,
   "metadata": {},
   "outputs": [],
   "source": [
    "result = pd.DataFrame(result,columns=['race', 'gender', 'age', 'time_in_hospital', 'num_lab_procedures',\n",
    "       'num_procedures', 'num_medications', 'number_outpatient',\n",
    "       'number_emergency', 'number_inpatient', 'diag_1', 'diag_2', 'diag_3',\n",
    "       'number_diagnoses', 'A1Cresult', 'metformin', 'insulin', 'change',\n",
    "       'diabetesMed'])\n",
    "result['readmitted'] = Y\n",
    "data2 = result"
   ]
  },
  {
   "cell_type": "code",
   "execution_count": 22,
   "metadata": {},
   "outputs": [
    {
     "data": {
      "text/html": [
       "<div>\n",
       "<style scoped>\n",
       "    .dataframe tbody tr th:only-of-type {\n",
       "        vertical-align: middle;\n",
       "    }\n",
       "\n",
       "    .dataframe tbody tr th {\n",
       "        vertical-align: top;\n",
       "    }\n",
       "\n",
       "    .dataframe thead th {\n",
       "        text-align: right;\n",
       "    }\n",
       "</style>\n",
       "<table border=\"1\" class=\"dataframe\">\n",
       "  <thead>\n",
       "    <tr style=\"text-align: right;\">\n",
       "      <th></th>\n",
       "      <th>race</th>\n",
       "      <th>gender</th>\n",
       "      <th>age</th>\n",
       "      <th>time_in_hospital</th>\n",
       "      <th>num_lab_procedures</th>\n",
       "      <th>num_procedures</th>\n",
       "      <th>num_medications</th>\n",
       "      <th>number_outpatient</th>\n",
       "      <th>number_emergency</th>\n",
       "      <th>number_inpatient</th>\n",
       "      <th>diag_1</th>\n",
       "      <th>diag_2</th>\n",
       "      <th>diag_3</th>\n",
       "      <th>number_diagnoses</th>\n",
       "      <th>A1Cresult</th>\n",
       "      <th>metformin</th>\n",
       "      <th>insulin</th>\n",
       "      <th>change</th>\n",
       "      <th>diabetesMed</th>\n",
       "      <th>readmitted</th>\n",
       "    </tr>\n",
       "  </thead>\n",
       "  <tbody>\n",
       "    <tr>\n",
       "      <th>0</th>\n",
       "      <td>0.004389</td>\n",
       "      <td>0.000000</td>\n",
       "      <td>0.002195</td>\n",
       "      <td>0.006584</td>\n",
       "      <td>0.129484</td>\n",
       "      <td>0.000000</td>\n",
       "      <td>0.039504</td>\n",
       "      <td>0.0</td>\n",
       "      <td>0.0</td>\n",
       "      <td>0.0</td>\n",
       "      <td>0.605722</td>\n",
       "      <td>0.548683</td>\n",
       "      <td>0.559635</td>\n",
       "      <td>0.019752</td>\n",
       "      <td>0.004389</td>\n",
       "      <td>0.002195</td>\n",
       "      <td>0.006584</td>\n",
       "      <td>0.000000</td>\n",
       "      <td>0.002195</td>\n",
       "      <td>1</td>\n",
       "    </tr>\n",
       "    <tr>\n",
       "      <th>1</th>\n",
       "      <td>0.004193</td>\n",
       "      <td>0.002097</td>\n",
       "      <td>0.006290</td>\n",
       "      <td>0.004193</td>\n",
       "      <td>0.092257</td>\n",
       "      <td>0.002097</td>\n",
       "      <td>0.033548</td>\n",
       "      <td>0.0</td>\n",
       "      <td>0.0</td>\n",
       "      <td>0.0</td>\n",
       "      <td>0.016774</td>\n",
       "      <td>0.525086</td>\n",
       "      <td>0.844986</td>\n",
       "      <td>0.014677</td>\n",
       "      <td>0.004193</td>\n",
       "      <td>0.002097</td>\n",
       "      <td>0.006290</td>\n",
       "      <td>0.000000</td>\n",
       "      <td>0.002097</td>\n",
       "      <td>0</td>\n",
       "    </tr>\n",
       "    <tr>\n",
       "      <th>2</th>\n",
       "      <td>0.005575</td>\n",
       "      <td>0.002788</td>\n",
       "      <td>0.011151</td>\n",
       "      <td>0.002788</td>\n",
       "      <td>0.142172</td>\n",
       "      <td>0.000000</td>\n",
       "      <td>0.022302</td>\n",
       "      <td>0.0</td>\n",
       "      <td>0.0</td>\n",
       "      <td>0.0</td>\n",
       "      <td>0.549175</td>\n",
       "      <td>0.437667</td>\n",
       "      <td>0.696922</td>\n",
       "      <td>0.013938</td>\n",
       "      <td>0.005575</td>\n",
       "      <td>0.002788</td>\n",
       "      <td>0.005575</td>\n",
       "      <td>0.000000</td>\n",
       "      <td>0.002788</td>\n",
       "      <td>0</td>\n",
       "    </tr>\n",
       "    <tr>\n",
       "      <th>3</th>\n",
       "      <td>0.003146</td>\n",
       "      <td>0.001573</td>\n",
       "      <td>0.007865</td>\n",
       "      <td>0.004719</td>\n",
       "      <td>0.048760</td>\n",
       "      <td>0.009437</td>\n",
       "      <td>0.025166</td>\n",
       "      <td>0.0</td>\n",
       "      <td>0.0</td>\n",
       "      <td>0.0</td>\n",
       "      <td>0.651181</td>\n",
       "      <td>0.646462</td>\n",
       "      <td>0.393225</td>\n",
       "      <td>0.014156</td>\n",
       "      <td>0.003146</td>\n",
       "      <td>0.001573</td>\n",
       "      <td>0.003146</td>\n",
       "      <td>0.001573</td>\n",
       "      <td>0.001573</td>\n",
       "      <td>1</td>\n",
       "    </tr>\n",
       "    <tr>\n",
       "      <th>4</th>\n",
       "      <td>0.002847</td>\n",
       "      <td>0.001424</td>\n",
       "      <td>0.009966</td>\n",
       "      <td>0.007118</td>\n",
       "      <td>0.103929</td>\n",
       "      <td>0.000000</td>\n",
       "      <td>0.017084</td>\n",
       "      <td>0.0</td>\n",
       "      <td>0.0</td>\n",
       "      <td>0.0</td>\n",
       "      <td>0.609336</td>\n",
       "      <td>0.700451</td>\n",
       "      <td>0.355920</td>\n",
       "      <td>0.011389</td>\n",
       "      <td>0.002847</td>\n",
       "      <td>0.001424</td>\n",
       "      <td>0.001424</td>\n",
       "      <td>0.001424</td>\n",
       "      <td>0.001424</td>\n",
       "      <td>1</td>\n",
       "    </tr>\n",
       "  </tbody>\n",
       "</table>\n",
       "</div>"
      ],
      "text/plain": [
       "       race    gender       age  time_in_hospital  num_lab_procedures  \\\n",
       "0  0.004389  0.000000  0.002195          0.006584            0.129484   \n",
       "1  0.004193  0.002097  0.006290          0.004193            0.092257   \n",
       "2  0.005575  0.002788  0.011151          0.002788            0.142172   \n",
       "3  0.003146  0.001573  0.007865          0.004719            0.048760   \n",
       "4  0.002847  0.001424  0.009966          0.007118            0.103929   \n",
       "\n",
       "   num_procedures  num_medications  number_outpatient  number_emergency  \\\n",
       "0        0.000000         0.039504                0.0               0.0   \n",
       "1        0.002097         0.033548                0.0               0.0   \n",
       "2        0.000000         0.022302                0.0               0.0   \n",
       "3        0.009437         0.025166                0.0               0.0   \n",
       "4        0.000000         0.017084                0.0               0.0   \n",
       "\n",
       "   number_inpatient    diag_1    diag_2    diag_3  number_diagnoses  \\\n",
       "0               0.0  0.605722  0.548683  0.559635          0.019752   \n",
       "1               0.0  0.016774  0.525086  0.844986          0.014677   \n",
       "2               0.0  0.549175  0.437667  0.696922          0.013938   \n",
       "3               0.0  0.651181  0.646462  0.393225          0.014156   \n",
       "4               0.0  0.609336  0.700451  0.355920          0.011389   \n",
       "\n",
       "   A1Cresult  metformin   insulin    change  diabetesMed  readmitted  \n",
       "0   0.004389   0.002195  0.006584  0.000000     0.002195           1  \n",
       "1   0.004193   0.002097  0.006290  0.000000     0.002097           0  \n",
       "2   0.005575   0.002788  0.005575  0.000000     0.002788           0  \n",
       "3   0.003146   0.001573  0.003146  0.001573     0.001573           1  \n",
       "4   0.002847   0.001424  0.001424  0.001424     0.001424           1  "
      ]
     },
     "execution_count": 22,
     "metadata": {},
     "output_type": "execute_result"
    }
   ],
   "source": [
    "data2.head()"
   ]
  },
  {
   "cell_type": "code",
   "execution_count": 23,
   "metadata": {},
   "outputs": [
    {
     "name": "stdout",
     "output_type": "stream",
     "text": [
      "(46059, 1) (46059,) (11515, 1) (11515,)\n"
     ]
    }
   ],
   "source": [
    "from sklearn.model_selection import train_test_split\n",
    "train,test = train_test_split(data2,test_size=0.2)\n",
    "trainx = pd.DataFrame(train[['number_inpatient']])\n",
    "trainy = train['readmitted']                           \n",
    "testx = pd.DataFrame(test[['number_inpatient']])\n",
    "testy = test['readmitted']\n",
    "print(trainx.shape,trainy.shape,testx.shape,testy.shape)"
   ]
  },
  {
   "cell_type": "code",
   "execution_count": 24,
   "metadata": {},
   "outputs": [
    {
     "name": "stdout",
     "output_type": "stream",
     "text": [
      "1 0.5764654798089448\n",
      "3 0.5860182370820669\n",
      "5 0.5887103777681285\n",
      "7 0.5899261832392532\n",
      "9 0.5927051671732523\n",
      "11 0.5960920538428137\n",
      "13 0.597047329570126\n",
      "15 0.5987841945288754\n",
      "17 0.5999131567520626\n",
      "19 0.5990447242726878\n",
      "21 0.5989578810247503\n",
      "23 0.6012158054711246\n",
      "25 0.6010421189752497\n",
      "27 0.5996526270082501\n",
      "29 0.5987841945288754\n",
      "31 0.601476335214937\n",
      "33 0.6026921406860617\n",
      "35 0.6029526704298741\n",
      "37 0.6035605731654364\n",
      "39 0.6039079461571862\n",
      "41 0.6023447676943118\n",
      "43 0.603300043421624\n",
      "45 0.6040816326530613\n",
      "47 0.6052105948762484\n",
      "49 0.6052974381241858\n"
     ]
    }
   ],
   "source": [
    "from sklearn.neighbors import KNeighborsClassifier\n",
    "from sklearn.metrics import accuracy_score\n",
    "for i in range(1,50,2):\n",
    "    knn = KNeighborsClassifier(n_neighbors=i)\n",
    "    knn.fit(trainx, trainy)\n",
    "    predictions = knn.predict(testx)\n",
    "    accuracy = accuracy_score(predictions,testy)\n",
    "    print(i,accuracy)"
   ]
  },
  {
   "cell_type": "code",
   "execution_count": 25,
   "metadata": {},
   "outputs": [
    {
     "name": "stdout",
     "output_type": "stream",
     "text": [
      "1 0.5764654798089448\n",
      "3 0.5810681719496309\n",
      "5 0.5828050369083804\n",
      "7 0.5848892748588798\n",
      "9 0.585670864090317\n",
      "11 0.5862787668258793\n",
      "13 0.5867998263135041\n",
      "15 0.5867129830655666\n",
      "17 0.5874945722970039\n",
      "19 0.5878419452887538\n",
      "21 0.5880156317846288\n",
      "23 0.5880156317846288\n",
      "25 0.5883630047763786\n",
      "27 0.5885366912722536\n",
      "29 0.5884498480243161\n",
      "31 0.5889709075119409\n",
      "33 0.5894051237516283\n",
      "35 0.5894051237516283\n",
      "37 0.5897524967433782\n",
      "39 0.5896656534954408\n",
      "41 0.5898393399913157\n",
      "43 0.5900998697351281\n",
      "45 0.5900130264871907\n",
      "47 0.5897524967433782\n",
      "49 0.5897524967433782\n"
     ]
    }
   ],
   "source": [
    "from sklearn.neighbors import KNeighborsClassifier\n",
    "from sklearn.metrics import accuracy_score\n",
    "for i in range(1,50,2):\n",
    "    knn = KNeighborsClassifier(n_neighbors=i,weights=\"distance\")\n",
    "    knn.fit(trainx, trainy)\n",
    "    predictions = knn.predict(testx)\n",
    "    accuracy = accuracy_score(predictions,testy)\n",
    "    print(i,accuracy)"
   ]
  },
  {
   "cell_type": "code",
   "execution_count": 26,
   "metadata": {},
   "outputs": [
    {
     "name": "stdout",
     "output_type": "stream",
     "text": [
      "(46059, 19) (46059,) (11515, 19) (11515,)\n"
     ]
    }
   ],
   "source": [
    "from sklearn.model_selection import train_test_split\n",
    "train,test = train_test_split(data2,test_size=0.2)\n",
    "trainx = pd.DataFrame(train[['race', 'gender', 'age', 'time_in_hospital', 'num_lab_procedures',\n",
    "       'num_procedures', 'num_medications', 'number_outpatient',\n",
    "       'number_emergency', 'number_inpatient', 'diag_1', 'diag_2', 'diag_3',\n",
    "       'number_diagnoses', 'A1Cresult', 'metformin', 'insulin', 'change',\n",
    "       'diabetesMed']])\n",
    "trainy = train['readmitted']                           \n",
    "testx = pd.DataFrame(test[['race', 'gender', 'age', 'time_in_hospital', 'num_lab_procedures',\n",
    "       'num_procedures', 'num_medications', 'number_outpatient',\n",
    "       'number_emergency', 'number_inpatient', 'diag_1', 'diag_2', 'diag_3',\n",
    "       'number_diagnoses', 'A1Cresult', 'metformin', 'insulin', 'change',\n",
    "       'diabetesMed']])\n",
    "testy = test['readmitted']\n",
    "print(trainx.shape,trainy.shape,testx.shape,testy.shape)"
   ]
  },
  {
   "cell_type": "code",
   "execution_count": 27,
   "metadata": {},
   "outputs": [
    {
     "name": "stdout",
     "output_type": "stream",
     "text": [
      "1 0.5306990881458966\n",
      "3 0.5390360399478941\n",
      "5 0.5343465045592705\n",
      "7 0.5347807207989579\n",
      "9 0.5376465479808945\n",
      "11 0.5390360399478941\n",
      "13 0.5328701693443335\n",
      "15 0.5376465479808945\n",
      "17 0.534607034303083\n",
      "19 0.5377333912288319\n",
      "21 0.5387755102040817\n",
      "23 0.5397307859313938\n",
      "25 0.540686061658706\n",
      "27 0.5387755102040817\n",
      "29 0.5396439426834564\n",
      "31 0.5424229266174555\n",
      "33 0.5452019105514546\n",
      "35 0.5452887537993921\n",
      "37 0.5407729049066435\n",
      "39 0.544159791576205\n",
      "41 0.5464177160225793\n",
      "43 0.5465914025184542\n",
      "45 0.5452019105514546\n",
      "47 0.5479808944854537\n",
      "49 0.5455492835432045\n",
      "51 0.5458098132870169\n",
      "53 0.5469387755102041\n",
      "55 0.548936170212766\n",
      "57 0.5498914459400781\n",
      "59 0.5481545809813287\n",
      "61 0.5494572297003908\n",
      "63 0.5497177594442032\n",
      "65 0.5496309161962657\n",
      "67 0.5498046026921407\n",
      "69 0.5474598349978289\n"
     ]
    }
   ],
   "source": [
    "from sklearn.neighbors import KNeighborsClassifier\n",
    "from sklearn.metrics import accuracy_score\n",
    "for i in range(1,70,2):\n",
    "    knn = KNeighborsClassifier(n_neighbors=i)\n",
    "    knn.fit(trainx, trainy)\n",
    "    predictions = knn.predict(testx)\n",
    "    accuracy = accuracy_score(predictions,testy)\n",
    "    print(i,accuracy)"
   ]
  },
  {
   "cell_type": "code",
   "execution_count": 28,
   "metadata": {},
   "outputs": [
    {
     "ename": "SyntaxError",
     "evalue": "invalid syntax (<ipython-input-28-b41b2635d732>, line 4)",
     "output_type": "error",
     "traceback": [
      "\u001b[1;36m  File \u001b[1;32m\"<ipython-input-28-b41b2635d732>\"\u001b[1;36m, line \u001b[1;32m4\u001b[0m\n\u001b[1;33m    trainx1 =\u001b[0m\n\u001b[1;37m              ^\u001b[0m\n\u001b[1;31mSyntaxError\u001b[0m\u001b[1;31m:\u001b[0m invalid syntax\n"
     ]
    }
   ],
   "source": [
    "from sklearn.neighbors import KNeighborsClassifier\n",
    "from sklearn.metrics import accuracy_score\n",
    "knn = KNeighborsClassifier(n_neighbors=51)\n",
    "trainx1 = \n",
    "knn.fit(trainx, trainy)\n",
    "predictions = knn.predict(testx)\n",
    "accuracy = accuracy_score(predictions,testy)\n",
    "print(i,accuracy)"
   ]
  },
  {
   "cell_type": "code",
   "execution_count": 28,
   "metadata": {},
   "outputs": [
    {
     "name": "stdout",
     "output_type": "stream",
     "text": [
      "1 0.5306990881458966\n",
      "3 0.539209726443769\n",
      "5 0.5342596613113331\n",
      "7 0.5372123317412071\n",
      "9 0.5392965696917065\n",
      "11 0.540686061658706\n",
      "13 0.5360833695180199\n",
      "15 0.5412071211463308\n",
      "17 0.5377333912288319\n",
      "19 0.5403386886669561\n",
      "21 0.5409465914025184\n",
      "23 0.5412939643942684\n",
      "25 0.5412071211463308\n",
      "27 0.5396439426834564\n",
      "29 0.5396439426834564\n",
      "31 0.5452887537993921\n",
      "33 0.5460703430308294\n",
      "35 0.5479808944854537\n",
      "37 0.5458098132870169\n",
      "39 0.5485019539730785\n",
      "41 0.5498046026921407\n",
      "43 0.5491966999565784\n",
      "45 0.5478940512375163\n",
      "47 0.5475466782457664\n",
      "49 0.5478940512375163\n"
     ]
    }
   ],
   "source": [
    "from sklearn.neighbors import KNeighborsClassifier\n",
    "from sklearn.metrics import accuracy_score\n",
    "for i in range(1,50,2):\n",
    "    knn = KNeighborsClassifier(n_neighbors=i,weights=\"distance\")\n",
    "    knn.fit(trainx, trainy)\n",
    "    predictions = knn.predict(testx)\n",
    "    accuracy = accuracy_score(predictions,testy)\n",
    "    print(i,accuracy)"
   ]
  },
  {
   "cell_type": "code",
   "execution_count": 29,
   "metadata": {},
   "outputs": [],
   "source": [
    "data3 = data2"
   ]
  },
  {
   "cell_type": "markdown",
   "metadata": {},
   "source": [
    "<h2> Select K Best </h2>"
   ]
  },
  {
   "cell_type": "code",
   "execution_count": 30,
   "metadata": {},
   "outputs": [
    {
     "name": "stdout",
     "output_type": "stream",
     "text": [
      "[1.366e-03 1.750e-02 2.113e-03 1.814e-01 1.601e-01 3.975e-01 1.365e-01\n",
      " 1.544e+00 2.128e+00 7.098e+00 5.261e-01 1.825e-05 1.737e+00 4.371e-01\n",
      " 3.391e-03 1.857e-02 3.593e-04 9.839e-02 6.305e-02]\n",
      "[[0.    0.    0.    0.56 ]\n",
      " [0.    0.    0.    0.845]\n",
      " [0.    0.    0.    0.697]\n",
      " [0.    0.    0.    0.393]]\n",
      "Index(['number_outpatient', 'number_emergency', 'number_inpatient', 'diag_3'], dtype='object')\n"
     ]
    }
   ],
   "source": [
    "from sklearn.feature_selection import SelectKBest\n",
    "from sklearn.feature_selection import chi2\n",
    "# load data\n",
    "array1 = data3.values\n",
    "X = array1[:,0:19]\n",
    "Y = array1[:,19]\n",
    "Y = Y.astype('int')\n",
    "# feature extraction\n",
    "test = SelectKBest(score_func=chi2, k=4)\n",
    "fit = test.fit(X, Y)\n",
    "# summarize scores\n",
    "np.set_printoptions(precision=3)\n",
    "print(fit.scores_)\n",
    "features = fit.transform(X)\n",
    "# summarize selected features\n",
    "print(features[0:4,:])\n",
    "idxs_selected = test.get_support(indices=True)\n",
    "# Create new dataframe with only desired columns, or overwrite existing\n",
    "features_dataframe_new = data3.columns[idxs_selected]\n",
    "print(features_dataframe_new)"
   ]
  },
  {
   "cell_type": "code",
   "execution_count": 31,
   "metadata": {},
   "outputs": [
    {
     "name": "stdout",
     "output_type": "stream",
     "text": [
      "(46059, 4) (46059,) (11515, 4) (11515,)\n"
     ]
    }
   ],
   "source": [
    "from sklearn.model_selection import train_test_split\n",
    "train,test = train_test_split(data2,test_size=0.2)\n",
    "trainx = pd.DataFrame(train[['number_outpatient', 'number_emergency', 'number_inpatient', 'diag_3']])\n",
    "trainy = train['readmitted']                           \n",
    "testx = pd.DataFrame(test[['number_outpatient', 'number_emergency', 'number_inpatient', 'diag_3']])\n",
    "testy = test['readmitted']\n",
    "print(trainx.shape,trainy.shape,testx.shape,testy.shape)"
   ]
  },
  {
   "cell_type": "code",
   "execution_count": 32,
   "metadata": {},
   "outputs": [
    {
     "name": "stdout",
     "output_type": "stream",
     "text": [
      "1 0.5343465045592705\n",
      "3 0.5455492835432045\n",
      "5 0.5509335649153279\n",
      "7 0.5524967433782023\n",
      "9 0.5567520625271385\n",
      "11 0.5603994789405123\n",
      "13 0.5656969170646983\n",
      "15 0.5686495874945723\n",
      "17 0.5683890577507599\n",
      "19 0.5698653929656969\n",
      "21 0.5670864090316978\n",
      "23 0.5706469821971342\n",
      "25 0.5722101606600087\n",
      "27 0.5755102040816327\n",
      "29 0.5740338688666956\n",
      "31 0.5745549283543204\n",
      "33 0.5742075553625705\n",
      "35 0.5735996526270083\n",
      "37 0.5753365175857577\n",
      "39 0.5732522796352584\n",
      "41 0.5735996526270083\n",
      "43 0.5736864958749457\n",
      "45 0.574294398610508\n",
      "47 0.5734259661311333\n",
      "49 0.574468085106383\n",
      "51 0.5738601823708207\n",
      "53 0.5768996960486322\n",
      "55 0.5762917933130699\n",
      "57 0.576118106817195\n",
      "59 0.5747286148501954\n",
      "61 0.5765523230568823\n",
      "63 0.5785497177594442\n",
      "65 0.5798523664785062\n",
      "67 0.5806339557099436\n",
      "69 0.5793313069908814\n",
      "71 0.5778549717759445\n",
      "73 0.5786365610073817\n",
      "75 0.5778549717759445\n",
      "77 0.5788970907511941\n",
      "79 0.5788970907511941\n",
      "81 0.5793313069908814\n",
      "83 0.5795049934867564\n",
      "85 0.5814155449413808\n",
      "87 0.5806339557099436\n",
      "89 0.5800260529743813\n",
      "91 0.5816760746851932\n",
      "93 0.5817629179331307\n",
      "95 0.5797655232305688\n",
      "97 0.5805471124620061\n",
      "99 0.5805471124620061\n"
     ]
    }
   ],
   "source": [
    "from sklearn.neighbors import KNeighborsClassifier\n",
    "from sklearn.metrics import accuracy_score\n",
    "for i in range(1,100,2):\n",
    "    knn = KNeighborsClassifier(n_neighbors=i)\n",
    "    knn.fit(trainx, trainy)\n",
    "    predictions = knn.predict(testx)\n",
    "    accuracy = accuracy_score(predictions,testy)\n",
    "    print(i,accuracy)"
   ]
  },
  {
   "cell_type": "code",
   "execution_count": 34,
   "metadata": {},
   "outputs": [
    {
     "data": {
      "text/plain": [
       "count    46059.000000\n",
       "mean         0.510476\n",
       "std          0.170130\n",
       "min          0.004642\n",
       "25%          0.387585\n",
       "50%          0.519787\n",
       "75%          0.628299\n",
       "max          0.997459\n",
       "Name: diag_3, dtype: float64"
      ]
     },
     "execution_count": 34,
     "metadata": {},
     "output_type": "execute_result"
    }
   ],
   "source": [
    "train['diag_3'].describe()"
   ]
  },
  {
   "cell_type": "code",
   "execution_count": null,
   "metadata": {},
   "outputs": [],
   "source": [
    "from sklearn.neighbors import KNeighborsClassifier\n",
    "from sklearn.metrics import accuracy_score\n",
    "knn = KNeighborsClassifier(n_neighbors=i)\n",
    "knn.fit(trainx, trainy)\n",
    "predictions = knn.predict(testx)\n",
    "accuracy = accuracy_score(predictions,testy)\n",
    "print(i,accuracy)"
   ]
  },
  {
   "cell_type": "code",
   "execution_count": 46,
   "metadata": {},
   "outputs": [
    {
     "name": "stdout",
     "output_type": "stream",
     "text": [
      "Prediction: [1]\n"
     ]
    }
   ],
   "source": [
    "testx1 = pd.DataFrame([], columns = ['number_outpatient', 'number_emergency', 'number_inpatient', 'diag_3'])\n",
    "testx1.loc[1,:] = [0,0,0,0]\n",
    "knn = KNeighborsClassifier(n_neighbors=1)\n",
    "knn.fit(trainx, trainy)\n",
    "predicted = knn.predict(testx1)\n",
    "print(\"Prediction:\",predicted)"
   ]
  },
  {
   "cell_type": "code",
   "execution_count": null,
   "metadata": {},
   "outputs": [],
   "source": [
    "from sklearn.neighbors import KNeighborsClassifier\n",
    "from sklearn.metrics import accuracy_score\n",
    "for i in range(1,50,2):\n",
    "    knn = KNeighborsClassifier(n_neighbors=i,weights=\"distance\")\n",
    "    knn.fit(trainx, trainy)\n",
    "    predictions = knn.predict(testx)\n",
    "    accuracy = accuracy_score(predictions,testy)\n",
    "    print(i,accuracy)"
   ]
  },
  {
   "cell_type": "markdown",
   "metadata": {},
   "source": [
    "<h2> Select Percentile </h2>"
   ]
  },
  {
   "cell_type": "markdown",
   "metadata": {},
   "source": [
    "<h3> 1 <h3>"
   ]
  },
  {
   "cell_type": "code",
   "execution_count": 76,
   "metadata": {},
   "outputs": [
    {
     "name": "stdout",
     "output_type": "stream",
     "text": [
      "[1.366e-03 1.750e-02 2.113e-03 1.814e-01 1.601e-01 3.975e-01 1.365e-01\n",
      " 1.544e+00 2.128e+00 7.098e+00 5.261e-01 1.825e-05 1.737e+00 4.371e-01\n",
      " 3.391e-03 1.857e-02 3.593e-04 9.839e-02 6.305e-02]\n",
      "[[0. 0.]\n",
      " [0. 0.]\n",
      " [0. 0.]\n",
      " [0. 0.]]\n",
      "Index(['number_emergency', 'number_inpatient'], dtype='object')\n"
     ]
    }
   ],
   "source": [
    "from sklearn.feature_selection import SelectPercentile\n",
    "from sklearn.feature_selection import chi2\n",
    "# load data\n",
    "array1 = data3.values\n",
    "X = array1[:,0:19]\n",
    "Y = array1[:,19]\n",
    "Y = Y.astype('int')\n",
    "# feature extraction\n",
    "test = SelectPercentile(score_func=chi2, percentile=10)\n",
    "fit = test.fit(X, Y)\n",
    "# summarize scores\n",
    "np.set_printoptions(precision=3)\n",
    "print(fit.scores_)\n",
    "features = fit.transform(X)\n",
    "# summarize selected features\n",
    "print(features[0:4,:])\n",
    "idxs_selected = test.get_support(indices=True)\n",
    "# Create new dataframe with only desired columns, or overwrite existing\n",
    "features_dataframe_new = data3.columns[idxs_selected]\n",
    "print(features_dataframe_new)"
   ]
  },
  {
   "cell_type": "code",
   "execution_count": 121,
   "metadata": {},
   "outputs": [
    {
     "name": "stdout",
     "output_type": "stream",
     "text": [
      "(46059, 2) (46059,) (11515, 2) (11515,)\n"
     ]
    }
   ],
   "source": [
    "from sklearn.model_selection import train_test_split\n",
    "train,test = train_test_split(data2,test_size=0.2)\n",
    "trainx = pd.DataFrame(train[['number_emergency', 'number_inpatient']])\n",
    "trainy = train['readmitted']                           \n",
    "testx = pd.DataFrame(test[['number_emergency', 'number_inpatient']])\n",
    "testy = test['readmitted']\n",
    "print(trainx.shape,trainy.shape,testx.shape,testy.shape)"
   ]
  },
  {
   "cell_type": "code",
   "execution_count": 122,
   "metadata": {},
   "outputs": [
    {
     "name": "stdout",
     "output_type": "stream",
     "text": [
      "1 0.577768128528007\n",
      "3 0.584020842379505\n",
      "5 0.5865392965696917\n",
      "7 0.5882761615284412\n",
      "9 0.5882761615284412\n",
      "11 0.590447242726878\n",
      "13 0.5934867564046895\n",
      "15 0.5960920538428137\n",
      "17 0.5940946591402518\n",
      "19 0.5927051671732523\n",
      "21 0.593573599652627\n",
      "23 0.5939209726443769\n",
      "25 0.5955709943551889\n",
      "27 0.596526270082501\n",
      "29 0.5979157620495007\n",
      "31 0.5958315240990013\n",
      "33 0.5973947025618758\n",
      "35 0.5978289188015632\n",
      "37 0.5993920972644377\n",
      "39 0.600173686495875\n"
     ]
    }
   ],
   "source": [
    "from sklearn.neighbors import KNeighborsClassifier\n",
    "from sklearn.metrics import accuracy_score\n",
    "for i in range(1,40,2):\n",
    "    knn = KNeighborsClassifier(n_neighbors=i)\n",
    "    knn.fit(trainx, trainy)\n",
    "    predictions = knn.predict(testx)\n",
    "    accuracy = accuracy_score(predictions,testy)\n",
    "    print(i,accuracy)"
   ]
  },
  {
   "cell_type": "code",
   "execution_count": 123,
   "metadata": {},
   "outputs": [
    {
     "name": "stdout",
     "output_type": "stream",
     "text": [
      "1 0.577768128528007\n",
      "3 0.5795918367346938\n",
      "5 0.5819366044290056\n",
      "7 0.5834997828918802\n",
      "9 0.58384715588363\n",
      "11 0.5839339991315675\n",
      "13 0.58384715588363\n",
      "15 0.5855840208423795\n",
      "17 0.5857577073382545\n",
      "19 0.5867129830655666\n",
      "21 0.5865392965696917\n",
      "23 0.5862787668258793\n",
      "25 0.5872340425531914\n",
      "27 0.5872340425531914\n",
      "29 0.5879287885366913\n",
      "31 0.5882761615284412\n",
      "33 0.5880156317846288\n",
      "35 0.5876682587928789\n",
      "37 0.5875814155449414\n",
      "39 0.5868866695614416\n",
      "41 0.587320885801129\n",
      "43 0.587147199305254\n",
      "45 0.586973512809379\n",
      "47 0.587147199305254\n",
      "49 0.5874077290490665\n"
     ]
    }
   ],
   "source": [
    "from sklearn.neighbors import KNeighborsClassifier\n",
    "from sklearn.metrics import accuracy_score\n",
    "for i in range(1,50,2):\n",
    "    knn = KNeighborsClassifier(n_neighbors=i,weights=\"distance\")\n",
    "    knn.fit(trainx, trainy)\n",
    "    predictions = knn.predict(testx)\n",
    "    accuracy = accuracy_score(predictions,testy)\n",
    "    print(i,accuracy)"
   ]
  },
  {
   "cell_type": "markdown",
   "metadata": {},
   "source": [
    "<h2> 2 </h2>"
   ]
  },
  {
   "cell_type": "code",
   "execution_count": 124,
   "metadata": {},
   "outputs": [
    {
     "name": "stdout",
     "output_type": "stream",
     "text": [
      "[1.588e+00 2.180e+01 2.082e+00 5.599e+01 1.009e+01 1.285e+02 1.986e+01\n",
      " 2.845e+02 4.907e+02 2.090e+03 9.251e+00 3.390e-04 3.065e+01 3.696e+02\n",
      " 9.785e+00 5.725e+01 4.591e-01 1.522e+02 1.523e+02]\n",
      "[[0.    0.    0.    0.02 ]\n",
      " [0.    0.    0.    0.015]\n",
      " [0.    0.    0.    0.014]\n",
      " [0.    0.    0.    0.014]]\n",
      "Index(['number_outpatient', 'number_emergency', 'number_inpatient',\n",
      "       'number_diagnoses'],\n",
      "      dtype='object')\n"
     ]
    }
   ],
   "source": [
    "from sklearn.feature_selection import SelectPercentile\n",
    "# load data\n",
    "array1 = data3.values\n",
    "X = array1[:,0:19]\n",
    "Y = array1[:,19]\n",
    "Y = Y.astype('int')\n",
    "# feature extraction\n",
    "test = SelectPercentile(percentile=20)\n",
    "fit = test.fit(X, Y)\n",
    "# summarize scores\n",
    "np.set_printoptions(precision=3)\n",
    "print(fit.scores_)\n",
    "features = fit.transform(X)\n",
    "# summarize selected features\n",
    "print(features[0:4,:])\n",
    "idxs_selected = test.get_support(indices=True)\n",
    "# Create new dataframe with only desired columns, or overwrite existing\n",
    "features_dataframe_new = data3.columns[idxs_selected]\n",
    "print(features_dataframe_new)"
   ]
  },
  {
   "cell_type": "code",
   "execution_count": 125,
   "metadata": {},
   "outputs": [
    {
     "name": "stdout",
     "output_type": "stream",
     "text": [
      "(46059, 4) (46059,) (11515, 4) (11515,)\n",
      "1 0.5373860182370821\n",
      "3 0.5478940512375163\n",
      "5 0.5524099001302649\n",
      "7 0.5585757707338255\n",
      "9 0.5679548415110726\n",
      "11 0.5686495874945723\n",
      "13 0.5679548415110726\n",
      "15 0.5746417716022579\n",
      "17 0.5773339122883195\n",
      "19 0.580894485453756\n",
      "21 0.5814155449413808\n",
      "23 0.5906209292227529\n",
      "25 0.5913156752062527\n",
      "27 0.591923577941815\n",
      "29 0.5908814589665653\n",
      "31 0.5915762049500651\n",
      "33 0.5916630481980026\n",
      "35 0.5931393834129396\n",
      "37 0.591923577941815\n",
      "39 0.5908814589665653\n",
      "41 0.5921841076856275\n",
      "43 0.5947894051237517\n",
      "45 0.5963525835866261\n",
      "47 0.595223621363439\n",
      "49 0.5960052105948762\n",
      "51 0.5973078593139384\n",
      "53 0.5966131133304385\n",
      "55 0.5940078158923143\n",
      "57 0.5960920538428137\n",
      "59 0.5981762917933131\n",
      "61 0.5980894485453756\n",
      "63 0.5986105080330004\n",
      "65 0.5994789405123752\n",
      "67 0.6003473729917499\n",
      "69 0.6011289622231871\n",
      "71 0.6013894919669995\n",
      "73 0.5996526270082501\n",
      "75 0.6023447676943118\n",
      "77 0.6016500217108119\n",
      "79 0.6022579244463743\n",
      "81 0.6015631784628745\n",
      "83 0.603126356925749\n",
      "85 0.6027789839339991\n",
      "87 0.6039947894051237\n",
      "89 0.603126356925749\n",
      "91 0.6039079461571862\n",
      "93 0.6020842379504994\n",
      "95 0.6042553191489362\n",
      "97 0.6045158488927486\n",
      "99 0.6048632218844985\n"
     ]
    }
   ],
   "source": [
    "from sklearn.model_selection import train_test_split\n",
    "train,test = train_test_split(data2,test_size=0.2)\n",
    "trainx = pd.DataFrame(train[['number_outpatient', 'number_emergency', 'number_inpatient',\n",
    "       'number_diagnoses']])\n",
    "trainy = train['readmitted']                           \n",
    "testx = pd.DataFrame(test[['number_outpatient', 'number_emergency', 'number_inpatient',\n",
    "       'number_diagnoses']])\n",
    "testy = test['readmitted']\n",
    "print(trainx.shape,trainy.shape,testx.shape,testy.shape)\n",
    "from sklearn.neighbors import KNeighborsClassifier\n",
    "from sklearn.metrics import accuracy_score\n",
    "for i in range(1,100,2):\n",
    "    knn = KNeighborsClassifier(n_neighbors=i)\n",
    "    knn.fit(trainx, trainy)\n",
    "    predictions = knn.predict(testx)\n",
    "    accuracy = accuracy_score(predictions,testy)\n",
    "    print(i,accuracy)"
   ]
  },
  {
   "cell_type": "code",
   "execution_count": 126,
   "metadata": {},
   "outputs": [
    {
     "name": "stdout",
     "output_type": "stream",
     "text": [
      "1 0.5373860182370821\n",
      "3 0.5420755536257056\n",
      "5 0.5443334780720799\n",
      "7 0.5496309161962657\n",
      "9 0.5519756838905775\n",
      "11 0.5531046461137646\n",
      "13 0.5531046461137646\n",
      "15 0.5544941380807642\n",
      "17 0.5562310030395137\n",
      "19 0.555188884064264\n",
      "21 0.5577073382544507\n",
      "23 0.5602257924446374\n",
      "25 0.5606600086843248\n",
      "27 0.561615284411637\n",
      "29 0.5619626574033869\n",
      "31 0.562917933130699\n",
      "33 0.563265306122449\n",
      "35 0.5639600521059488\n",
      "37 0.5640468953538862\n",
      "39 0.5648284845853235\n",
      "41 0.5638732088580113\n",
      "43 0.5630916196265741\n",
      "45 0.5636126791141989\n",
      "47 0.563438992618324\n",
      "49 0.5639600521059488\n"
     ]
    }
   ],
   "source": [
    "from sklearn.neighbors import KNeighborsClassifier\n",
    "from sklearn.metrics import accuracy_score\n",
    "for i in range(1,50,2):\n",
    "    knn = KNeighborsClassifier(n_neighbors=i,weights=\"distance\")\n",
    "    knn.fit(trainx, trainy)\n",
    "    predictions = knn.predict(testx)\n",
    "    accuracy = accuracy_score(predictions,testy)\n",
    "    print(i,accuracy)"
   ]
  },
  {
   "cell_type": "markdown",
   "metadata": {},
   "source": [
    "<h3> 3</h3>"
   ]
  },
  {
   "cell_type": "code",
   "execution_count": 127,
   "metadata": {},
   "outputs": [
    {
     "name": "stdout",
     "output_type": "stream",
     "text": [
      "[1.588e+00 2.180e+01 2.082e+00 5.599e+01 1.009e+01 1.285e+02 1.986e+01\n",
      " 2.845e+02 4.907e+02 2.090e+03 9.251e+00 3.390e-04 3.065e+01 3.696e+02\n",
      " 9.785e+00 5.725e+01 4.591e-01 1.522e+02 1.523e+02]\n",
      "[[0.    0.    0.    0.02  0.    0.002]\n",
      " [0.    0.    0.    0.015 0.    0.002]\n",
      " [0.    0.    0.    0.014 0.    0.003]\n",
      " [0.    0.    0.    0.014 0.002 0.002]]\n",
      "Index(['number_outpatient', 'number_emergency', 'number_inpatient',\n",
      "       'number_diagnoses', 'change', 'diabetesMed'],\n",
      "      dtype='object')\n"
     ]
    }
   ],
   "source": [
    "from sklearn.feature_selection import SelectPercentile\n",
    "# load data\n",
    "array1 = data3.values\n",
    "X = array1[:,0:19]\n",
    "Y = array1[:,19]\n",
    "Y = Y.astype('int')\n",
    "# feature extraction\n",
    "test = SelectPercentile(percentile=30)\n",
    "fit = test.fit(X, Y)\n",
    "# summarize scores\n",
    "np.set_printoptions(precision=3)\n",
    "print(fit.scores_)\n",
    "features = fit.transform(X)\n",
    "# summarize selected features\n",
    "print(features[0:4,:])\n",
    "idxs_selected = test.get_support(indices=True)\n",
    "# Create new dataframe with only desired columns, or overwrite existing\n",
    "features_dataframe_new = data3.columns[idxs_selected]\n",
    "print(features_dataframe_new)"
   ]
  },
  {
   "cell_type": "code",
   "execution_count": 128,
   "metadata": {},
   "outputs": [
    {
     "name": "stdout",
     "output_type": "stream",
     "text": [
      "(46059, 6) (46059,) (11515, 6) (11515,)\n",
      "1 0.5353017802865827\n",
      "3 0.5503256621797655\n",
      "5 0.5584020842379505\n",
      "7 0.5639600521059488\n",
      "9 0.5687364307425098\n",
      "11 0.5735996526270083\n",
      "13 0.577420755536257\n",
      "15 0.5768996960486322\n",
      "17 0.5817629179331307\n",
      "19 0.5839339991315675\n",
      "21 0.5848024316109423\n",
      "23 0.5883630047763786\n",
      "25 0.5896656534954408\n",
      "27 0.5877551020408164\n",
      "29 0.5893182805036908\n",
      "31 0.5905340859748155\n",
      "33 0.5909683022145028\n",
      "35 0.5926183239253148\n",
      "37 0.5934867564046895\n",
      "39 0.5931393834129396\n",
      "41 0.5955709943551889\n",
      "43 0.5963525835866261\n",
      "45 0.5973078593139384\n",
      "47 0.5955709943551889\n",
      "49 0.5957446808510638\n",
      "51 0.5943551888840642\n",
      "53 0.5944420321320018\n",
      "55 0.5953973078593139\n",
      "57 0.593573599652627\n",
      "59 0.5934867564046895\n",
      "61 0.5940078158923143\n",
      "63 0.5946157186278767\n",
      "65 0.5958315240990013\n",
      "67 0.5963525835866261\n",
      "69 0.5981762917933131\n",
      "71 0.5978289188015632\n",
      "73 0.5973947025618758\n",
      "75 0.5964394268345636\n",
      "77 0.5954841511072514\n",
      "79 0.5972210160660009\n",
      "81 0.5984368215371255\n",
      "83 0.6007815892314372\n",
      "85 0.5984368215371255\n",
      "87 0.5977420755536257\n",
      "89 0.5987841945288754\n",
      "91 0.5979157620495007\n",
      "93 0.5981762917933131\n",
      "95 0.5997394702561876\n",
      "97 0.5981762917933131\n",
      "99 0.5980894485453756\n"
     ]
    }
   ],
   "source": [
    "from sklearn.model_selection import train_test_split\n",
    "train,test = train_test_split(data2,test_size=0.2)\n",
    "trainx = pd.DataFrame(train[['number_outpatient', 'number_emergency', 'number_inpatient',\n",
    "       'number_diagnoses', 'change', 'diabetesMed']])\n",
    "trainy = train['readmitted']                           \n",
    "testx = pd.DataFrame(test[['number_outpatient', 'number_emergency', 'number_inpatient',\n",
    "       'number_diagnoses', 'change', 'diabetesMed']])\n",
    "testy = test['readmitted']\n",
    "print(trainx.shape,trainy.shape,testx.shape,testy.shape)\n",
    "from sklearn.neighbors import KNeighborsClassifier\n",
    "from sklearn.metrics import accuracy_score\n",
    "for i in range(1,100,2):\n",
    "    knn = KNeighborsClassifier(n_neighbors=i)\n",
    "    knn.fit(trainx, trainy)\n",
    "    predictions = knn.predict(testx)\n",
    "    accuracy = accuracy_score(predictions,testy)\n",
    "    print(i,accuracy)"
   ]
  },
  {
   "cell_type": "code",
   "execution_count": 129,
   "metadata": {},
   "outputs": [
    {
     "name": "stdout",
     "output_type": "stream",
     "text": [
      "1 0.5353017802865827\n",
      "3 0.5451150673035171\n",
      "5 0.5506730351715154\n",
      "7 0.5534520191055146\n",
      "9 0.5558836300477638\n",
      "11 0.5574468085106383\n",
      "13 0.5598784194528875\n",
      "15 0.560312635692575\n",
      "17 0.5625705601389492\n",
      "19 0.5636995223621364\n",
      "21 0.563438992618324\n",
      "23 0.564741641337386\n",
      "25 0.5650021710811984\n",
      "27 0.5625705601389492\n",
      "29 0.5630047763786366\n",
      "31 0.5631784628745115\n",
      "33 0.5648284845853235\n",
      "35 0.5645679548415111\n",
      "37 0.5658706035605732\n",
      "39 0.5650021710811984\n",
      "41 0.5655232305688233\n",
      "43 0.5656100738167608\n",
      "45 0.5664785062961355\n",
      "47 0.5652627008250108\n",
      "49 0.566391663048198\n"
     ]
    }
   ],
   "source": [
    "from sklearn.neighbors import KNeighborsClassifier\n",
    "from sklearn.metrics import accuracy_score\n",
    "for i in range(1,50,2):\n",
    "    knn = KNeighborsClassifier(n_neighbors=i,weights=\"distance\")\n",
    "    knn.fit(trainx, trainy)\n",
    "    predictions = knn.predict(testx)\n",
    "    accuracy = accuracy_score(predictions,testy)\n",
    "    print(i,accuracy)"
   ]
  },
  {
   "cell_type": "markdown",
   "metadata": {},
   "source": [
    "<h3> 4</h3>"
   ]
  },
  {
   "cell_type": "code",
   "execution_count": 130,
   "metadata": {},
   "outputs": [
    {
     "name": "stdout",
     "output_type": "stream",
     "text": [
      "[1.366e-03 1.750e-02 2.113e-03 1.814e-01 1.601e-01 3.975e-01 1.365e-01\n",
      " 1.544e+00 2.128e+00 7.098e+00 5.261e-01 1.825e-05 1.737e+00 4.371e-01\n",
      " 3.391e-03 1.857e-02 3.593e-04 9.839e-02 6.305e-02]\n",
      "[[0.    0.    0.    0.606 0.56  0.02 ]\n",
      " [0.    0.    0.    0.017 0.845 0.015]\n",
      " [0.    0.    0.    0.549 0.697 0.014]\n",
      " [0.    0.    0.    0.651 0.393 0.014]]\n",
      "Index(['number_outpatient', 'number_emergency', 'number_inpatient', 'diag_1',\n",
      "       'diag_3', 'number_diagnoses'],\n",
      "      dtype='object')\n"
     ]
    }
   ],
   "source": [
    "from sklearn.feature_selection import SelectPercentile\n",
    "# load data\n",
    "array1 = data3.values\n",
    "X = array1[:,0:19]\n",
    "Y = array1[:,19]\n",
    "Y = Y.astype('int')\n",
    "# feature extraction\n",
    "test = SelectPercentile(score_func=chi2,percentile=30)\n",
    "fit = test.fit(X, Y)\n",
    "# summarize scores\n",
    "np.set_printoptions(precision=3)\n",
    "print(fit.scores_)\n",
    "features = fit.transform(X)\n",
    "# summarize selected features\n",
    "print(features[0:4,:])\n",
    "idxs_selected = test.get_support(indices=True)\n",
    "# Create new dataframe with only desired columns, or overwrite existing\n",
    "features_dataframe_new = data3.columns[idxs_selected]\n",
    "print(features_dataframe_new)"
   ]
  },
  {
   "cell_type": "code",
   "execution_count": 131,
   "metadata": {},
   "outputs": [
    {
     "name": "stdout",
     "output_type": "stream",
     "text": [
      "(46059, 6) (46059,) (11515, 6) (11515,)\n",
      "1 0.5357359965262701\n",
      "3 0.5329570125922709\n",
      "5 0.5336517585757707\n",
      "7 0.5345201910551455\n",
      "9 0.5400781589231437\n",
      "11 0.5408597481545809\n",
      "13 0.5453755970473295\n",
      "15 0.5464177160225793\n",
      "17 0.5429439861050803\n",
      "19 0.5425966131133304\n",
      "21 0.5432045158488927\n",
      "23 0.5443334780720799\n",
      "25 0.5417281806339557\n",
      "27 0.5430308293530178\n",
      "29 0.5429439861050803\n",
      "31 0.5452887537993921\n",
      "33 0.5390360399478941\n",
      "35 0.5388623534520192\n",
      "37 0.5417281806339557\n",
      "39 0.5412939643942684\n",
      "41 0.5385149804602692\n",
      "43 0.5403386886669561\n",
      "45 0.5399044724272688\n",
      "47 0.5399913156752063\n",
      "49 0.5386018237082066\n",
      "51 0.540686061658706\n",
      "53 0.5424229266174555\n",
      "55 0.5412071211463308\n",
      "57 0.5403386886669561\n",
      "59 0.5414676508901433\n",
      "61 0.5431176726009552\n",
      "63 0.5389491966999566\n",
      "65 0.5402518454190187\n",
      "67 0.5407729049066435\n",
      "69 0.5415544941380808\n",
      "71 0.5405992184107685\n",
      "73 0.5414676508901433\n",
      "75 0.540686061658706\n",
      "77 0.5387755102040817\n",
      "79 0.5387755102040817\n",
      "81 0.5378202344767694\n",
      "83 0.5342596613113331\n",
      "85 0.5345201910551455\n",
      "87 0.5371254884932697\n",
      "89 0.536257056013895\n",
      "91 0.5345201910551455\n",
      "93 0.5353017802865827\n",
      "95 0.5350412505427703\n",
      "97 0.5357359965262701\n",
      "99 0.5359965262700825\n"
     ]
    }
   ],
   "source": [
    "from sklearn.model_selection import train_test_split\n",
    "train,test = train_test_split(data2,test_size=0.2)\n",
    "trainx = pd.DataFrame(train[['number_outpatient', 'number_emergency', 'number_inpatient', 'diag_1',\n",
    "       'diag_3', 'number_diagnoses']])\n",
    "trainy = train['readmitted']                           \n",
    "testx = pd.DataFrame(test[['number_outpatient', 'number_emergency', 'number_inpatient', 'diag_1',\n",
    "       'diag_3', 'number_diagnoses']])\n",
    "testy = test['readmitted']\n",
    "print(trainx.shape,trainy.shape,testx.shape,testy.shape)\n",
    "from sklearn.neighbors import KNeighborsClassifier\n",
    "from sklearn.metrics import accuracy_score\n",
    "for i in range(1,100,2):\n",
    "    knn = KNeighborsClassifier(n_neighbors=i)\n",
    "    knn.fit(trainx, trainy)\n",
    "    predictions = knn.predict(testx)\n",
    "    accuracy = accuracy_score(predictions,testy)\n",
    "    print(i,accuracy)"
   ]
  },
  {
   "cell_type": "code",
   "execution_count": 132,
   "metadata": {},
   "outputs": [
    {
     "name": "stdout",
     "output_type": "stream",
     "text": [
      "1 0.5357359965262701\n",
      "3 0.5330438558402084\n",
      "5 0.5337386018237082\n",
      "7 0.5357359965262701\n",
      "9 0.539383412939644\n",
      "11 0.5427702996092054\n",
      "13 0.5437255753365176\n",
      "15 0.5448545375597047\n",
      "17 0.5424229266174555\n",
      "19 0.5435518888406426\n",
      "21 0.5434650455927051\n",
      "23 0.5455492835432045\n",
      "25 0.5440729483282675\n",
      "27 0.5478072079895788\n",
      "29 0.5445940078158923\n",
      "31 0.5453755970473295\n",
      "33 0.5414676508901433\n",
      "35 0.5437255753365176\n",
      "37 0.544159791576205\n",
      "39 0.5443334780720799\n",
      "41 0.5429439861050803\n",
      "43 0.5434650455927051\n",
      "45 0.542509769865393\n",
      "47 0.5455492835432045\n",
      "49 0.5460703430308294\n"
     ]
    }
   ],
   "source": [
    "from sklearn.neighbors import KNeighborsClassifier\n",
    "from sklearn.metrics import accuracy_score\n",
    "for i in range(1,50,2):\n",
    "    knn = KNeighborsClassifier(n_neighbors=i,weights=\"distance\")\n",
    "    knn.fit(trainx, trainy)\n",
    "    predictions = knn.predict(testx)\n",
    "    accuracy = accuracy_score(predictions,testy)\n",
    "    print(i,accuracy)"
   ]
  },
  {
   "cell_type": "markdown",
   "metadata": {},
   "source": [
    "<h2> Generic Univariate Approach </h2>"
   ]
  },
  {
   "cell_type": "code",
   "execution_count": 93,
   "metadata": {},
   "outputs": [
    {
     "name": "stdout",
     "output_type": "stream",
     "text": [
      "[1.588e+00 2.180e+01 2.082e+00 5.599e+01 1.009e+01 1.285e+02 1.986e+01\n",
      " 2.845e+02 4.907e+02 2.090e+03 9.251e+00 3.390e-04 3.065e+01 3.696e+02\n",
      " 9.785e+00 5.725e+01 4.591e-01 1.522e+02 1.523e+02]\n",
      "[[0.    0.007 0.    ... 0.002 0.    0.002]\n",
      " [0.002 0.004 0.002 ... 0.002 0.    0.002]\n",
      " [0.003 0.003 0.    ... 0.003 0.    0.003]\n",
      " ...\n",
      " [0.001 0.007 0.002 ... 0.001 0.    0.001]\n",
      " [0.    0.004 0.002 ... 0.001 0.001 0.001]\n",
      " [0.    0.002 0.003 ... 0.001 0.001 0.001]]\n",
      "Index(['gender', 'time_in_hospital', 'num_procedures', 'num_medications',\n",
      "       'number_outpatient', 'number_emergency', 'number_inpatient', 'diag_3',\n",
      "       'number_diagnoses', 'metformin', 'change', 'diabetesMed'],\n",
      "      dtype='object')\n"
     ]
    }
   ],
   "source": [
    "from sklearn.feature_selection import GenericUnivariateSelect\n",
    "# load data\n",
    "array1 = data3.values\n",
    "X = array1[:,0:19]\n",
    "Y = array1[:,19]\n",
    "Y = Y.astype('int')\n",
    "# feature extraction\n",
    "test = GenericUnivariateSelect(mode='fpr')\n",
    "fit = test.fit(X, Y)\n",
    "# summarize scores\n",
    "np.set_printoptions(precision=3)\n",
    "print(fit.scores_)\n",
    "features = fit.transform(X)\n",
    "# summarize selected features\n",
    "print(features[:,:])\n",
    "idxs_selected = test.get_support(indices=True)\n",
    "# Create new dataframe with only desired columns, or overwrite existing\n",
    "features_dataframe_new = data3.columns[idxs_selected]\n",
    "print(features_dataframe_new)\n"
   ]
  },
  {
   "cell_type": "code",
   "execution_count": 95,
   "metadata": {},
   "outputs": [
    {
     "name": "stdout",
     "output_type": "stream",
     "text": [
      "(46059, 12) (46059,) (11515, 12) (11515,)\n",
      "1 0.526704298740773\n",
      "3 0.5363438992618323\n",
      "5 0.5352149370386452\n",
      "7 0.5411202778983935\n",
      "9 0.5445071645679549\n",
      "11 0.5494572297003908\n",
      "13 0.5471993052540165\n",
      "15 0.5508467216673903\n",
      "17 0.5536257056013895\n",
      "19 0.5561441597915762\n",
      "21 0.5500651324359531\n",
      "23 0.5512809379070778\n",
      "25 0.5496309161962657\n",
      "27 0.5524099001302649\n",
      "29 0.5518019973947026\n",
      "31 0.5494572297003908\n",
      "33 0.5504993486756404\n",
      "35 0.5517151541467651\n",
      "37 0.5538862353452019\n",
      "39 0.5525835866261398\n",
      "41 0.553365175857577\n",
      "43 0.552062527138515\n",
      "45 0.5503256621797655\n",
      "47 0.5498914459400781\n",
      "49 0.5513677811550152\n",
      "51 0.5508467216673903\n",
      "53 0.5521493703864524\n",
      "55 0.5526704298740773\n",
      "57 0.5494572297003908\n",
      "59 0.5468519322622666\n",
      "61 0.5513677811550152\n",
      "63 0.5511940946591403\n",
      "65 0.5501519756838906\n",
      "67 0.5506730351715154\n",
      "69 0.5515414676508902\n"
     ]
    }
   ],
   "source": [
    "from sklearn.model_selection import train_test_split\n",
    "train,test = train_test_split(data2,test_size=0.2)\n",
    "trainx = pd.DataFrame(train[['gender', 'time_in_hospital', 'num_procedures', 'num_medications',\n",
    "       'number_outpatient', 'number_emergency', 'number_inpatient', 'diag_3',\n",
    "       'number_diagnoses', 'metformin', 'change', 'diabetesMed']])\n",
    "trainy = train['readmitted']                           \n",
    "testx = pd.DataFrame(test[['gender', 'time_in_hospital', 'num_procedures', 'num_medications',\n",
    "       'number_outpatient', 'number_emergency', 'number_inpatient', 'diag_3',\n",
    "       'number_diagnoses', 'metformin', 'change', 'diabetesMed']])\n",
    "testy = test['readmitted']\n",
    "print(trainx.shape,trainy.shape,testx.shape,testy.shape)\n",
    "from sklearn.neighbors import KNeighborsClassifier\n",
    "from sklearn.metrics import accuracy_score\n",
    "for i in range(1,70,2):\n",
    "    knn = KNeighborsClassifier(n_neighbors=i)\n",
    "    knn.fit(trainx, trainy)\n",
    "    predictions = knn.predict(testx)\n",
    "    accuracy = accuracy_score(predictions,testy)\n",
    "    print(i,accuracy)"
   ]
  },
  {
   "cell_type": "code",
   "execution_count": 96,
   "metadata": {},
   "outputs": [
    {
     "name": "stdout",
     "output_type": "stream",
     "text": [
      "[1.588e+00 2.180e+01 2.082e+00 5.599e+01 1.009e+01 1.285e+02 1.986e+01\n",
      " 2.845e+02 4.907e+02 2.090e+03 9.251e+00 3.390e-04 3.065e+01 3.696e+02\n",
      " 9.785e+00 5.725e+01 4.591e-01 1.522e+02 1.523e+02]\n",
      "[[0.    0.007 0.    ... 0.002 0.    0.002]\n",
      " [0.002 0.004 0.002 ... 0.002 0.    0.002]\n",
      " [0.003 0.003 0.    ... 0.003 0.    0.003]\n",
      " ...\n",
      " [0.001 0.007 0.002 ... 0.001 0.    0.001]\n",
      " [0.    0.004 0.002 ... 0.001 0.001 0.001]\n",
      " [0.    0.002 0.003 ... 0.001 0.001 0.001]]\n",
      "Index(['gender', 'time_in_hospital', 'num_procedures', 'number_outpatient',\n",
      "       'number_emergency', 'number_inpatient', 'diag_3', 'number_diagnoses',\n",
      "       'metformin', 'change', 'diabetesMed'],\n",
      "      dtype='object')\n"
     ]
    }
   ],
   "source": [
    "from sklearn.feature_selection import GenericUnivariateSelect\n",
    "# load data\n",
    "array1 = data3.values\n",
    "X = array1[:,0:19]\n",
    "Y = array1[:,19]\n",
    "Y = Y.astype('int')\n",
    "# feature extraction\n",
    "test = GenericUnivariateSelect(mode='fdr')\n",
    "fit = test.fit(X, Y)\n",
    "# summarize scores\n",
    "np.set_printoptions(precision=3)\n",
    "print(fit.scores_)\n",
    "features = fit.transform(X)\n",
    "# summarize selected features\n",
    "print(features[:,:])\n",
    "idxs_selected = test.get_support(indices=True)\n",
    "# Create new dataframe with only desired columns, or overwrite existing\n",
    "features_dataframe_new = data3.columns[idxs_selected]\n",
    "print(features_dataframe_new)"
   ]
  },
  {
   "cell_type": "code",
   "execution_count": 97,
   "metadata": {},
   "outputs": [
    {
     "name": "stdout",
     "output_type": "stream",
     "text": [
      "(46059, 11) (46059,) (11515, 11) (11515,)\n",
      "1 0.5315675206252714\n",
      "3 0.5398176291793313\n",
      "5 0.5426834563612679\n",
      "7 0.5479808944854537\n",
      "9 0.5539730785931394\n",
      "11 0.5528441163699522\n",
      "13 0.5590099869735128\n",
      "15 0.5566652192792011\n",
      "17 0.5534520191055146\n",
      "19 0.555188884064264\n",
      "21 0.5575336517585757\n",
      "23 0.5552757273122014\n",
      "25 0.5587494572297004\n",
      "27 0.5535388623534521\n",
      "29 0.5556231003039513\n",
      "31 0.5551020408163265\n",
      "33 0.5571862787668259\n",
      "35 0.5561441597915762\n",
      "37 0.5609205384281372\n",
      "39 0.5618758141554494\n",
      "41 0.5602257924446374\n",
      "43 0.5598784194528875\n",
      "45 0.5590099869735128\n",
      "47 0.5584020842379505\n",
      "49 0.5583152409900131\n",
      "51 0.5610942249240122\n",
      "53 0.562917933130699\n",
      "55 0.5649153278332609\n",
      "57 0.5641337386018237\n",
      "59 0.5636995223621364\n",
      "61 0.5617021276595745\n",
      "63 0.5639600521059488\n",
      "65 0.5656969170646983\n",
      "67 0.5658706035605732\n",
      "69 0.5649153278332609\n"
     ]
    }
   ],
   "source": [
    "from sklearn.model_selection import train_test_split\n",
    "train,test = train_test_split(data2,test_size=0.2)\n",
    "trainx = pd.DataFrame(train[['gender', 'time_in_hospital', 'num_procedures', 'number_outpatient',\n",
    "       'number_emergency', 'number_inpatient', 'diag_3', 'number_diagnoses',\n",
    "       'metformin', 'change', 'diabetesMed']])\n",
    "trainy = train['readmitted']                           \n",
    "testx = pd.DataFrame(test[['gender', 'time_in_hospital', 'num_procedures', 'number_outpatient',\n",
    "       'number_emergency', 'number_inpatient', 'diag_3', 'number_diagnoses',\n",
    "       'metformin', 'change', 'diabetesMed']])\n",
    "testy = test['readmitted']\n",
    "print(trainx.shape,trainy.shape,testx.shape,testy.shape)\n",
    "from sklearn.neighbors import KNeighborsClassifier\n",
    "from sklearn.metrics import accuracy_score\n",
    "for i in range(1,70,2):\n",
    "    knn = KNeighborsClassifier(n_neighbors=i)\n",
    "    knn.fit(trainx, trainy)\n",
    "    predictions = knn.predict(testx)\n",
    "    accuracy = accuracy_score(predictions,testy)\n",
    "    print(i,accuracy)"
   ]
  },
  {
   "cell_type": "code",
   "execution_count": 101,
   "metadata": {},
   "outputs": [
    {
     "name": "stdout",
     "output_type": "stream",
     "text": [
      "[1.588e+00 2.180e+01 2.082e+00 5.599e+01 1.009e+01 1.285e+02 1.986e+01\n",
      " 2.845e+02 4.907e+02 2.090e+03 9.251e+00 3.390e-04 3.065e+01 3.696e+02\n",
      " 9.785e+00 5.725e+01 4.591e-01 1.522e+02 1.523e+02]\n",
      "[[0.007 0.    0.    ... 0.002 0.    0.002]\n",
      " [0.004 0.002 0.    ... 0.002 0.    0.002]\n",
      " [0.003 0.    0.    ... 0.003 0.    0.003]\n",
      " ...\n",
      " [0.007 0.002 0.002 ... 0.001 0.    0.001]\n",
      " [0.004 0.002 0.    ... 0.001 0.001 0.001]\n",
      " [0.002 0.003 0.001 ... 0.001 0.001 0.001]]\n",
      "Index(['time_in_hospital', 'num_procedures', 'number_outpatient',\n",
      "       'number_emergency', 'number_inpatient', 'diag_3', 'number_diagnoses',\n",
      "       'metformin', 'change', 'diabetesMed'],\n",
      "      dtype='object')\n",
      "(46059, 10) (46059,) (11515, 10) (11515,)\n",
      "1 0.5278332609639601\n",
      "3 0.5409465914025184\n",
      "5 0.5450282240555797\n",
      "7 0.5544941380807642\n",
      "9 0.555015197568389\n",
      "11 0.5594442032132002\n",
      "13 0.5639600521059488\n",
      "15 0.5619626574033869\n",
      "17 0.5665653495440729\n",
      "19 0.5676074685193226\n",
      "21 0.5688232739904473\n",
      "23 0.5683890577507599\n",
      "25 0.5675206252713851\n",
      "27 0.5636995223621364\n",
      "29 0.5626574033868866\n",
      "31 0.5636126791141989\n",
      "33 0.5624837168910117\n",
      "35 0.5607468519322623\n",
      "37 0.5591836734693878\n",
      "39 0.560312635692575\n",
      "41 0.5630047763786366\n",
      "43 0.5572731220147633\n",
      "45 0.5577941815023882\n",
      "47 0.5592705167173252\n",
      "49 0.5590099869735128\n",
      "51 0.556838905775076\n",
      "53 0.5590968302214503\n",
      "55 0.5602257924446374\n",
      "57 0.5613547546678246\n",
      "59 0.5617889709075119\n",
      "61 0.5613547546678246\n",
      "63 0.5627442466348241\n",
      "65 0.5617889709075119\n",
      "67 0.5604863221884498\n",
      "69 0.558488927485888\n"
     ]
    }
   ],
   "source": [
    "from sklearn.feature_selection import GenericUnivariateSelect\n",
    "# load data\n",
    "array1 = data3.values\n",
    "X = array1[:,0:19]\n",
    "Y = array1[:,19]\n",
    "Y = Y.astype('int')\n",
    "# feature extraction\n",
    "test = GenericUnivariateSelect(mode='fwe')\n",
    "fit = test.fit(X, Y)\n",
    "# summarize scores\n",
    "np.set_printoptions(precision=3)\n",
    "print(fit.scores_)\n",
    "features = fit.transform(X)\n",
    "# summarize selected features\n",
    "print(features[:,:])\n",
    "idxs_selected = test.get_support(indices=True)\n",
    "# Create new dataframe with only desired columns, or overwrite existing\n",
    "features_dataframe_new = data3.columns[idxs_selected]\n",
    "print(features_dataframe_new)\n",
    "from sklearn.model_selection import train_test_split\n",
    "train,test = train_test_split(data2,test_size=0.2)\n",
    "trainx = pd.DataFrame(train[features_dataframe_new.values])\n",
    "trainy = train['readmitted']                           \n",
    "testx = pd.DataFrame(test[features_dataframe_new.values])\n",
    "testy = test['readmitted']\n",
    "print(trainx.shape,trainy.shape,testx.shape,testy.shape)\n",
    "from sklearn.neighbors import KNeighborsClassifier\n",
    "from sklearn.metrics import accuracy_score\n",
    "for i in range(1,70,2):\n",
    "    knn = KNeighborsClassifier(n_neighbors=i)\n",
    "    knn.fit(trainx, trainy)\n",
    "    predictions = knn.predict(testx)\n",
    "    accuracy = accuracy_score(predictions,testy)\n",
    "    print(i,accuracy)"
   ]
  },
  {
   "cell_type": "code",
   "execution_count": null,
   "metadata": {},
   "outputs": [],
   "source": []
  }
 ],
 "metadata": {
  "kernelspec": {
   "display_name": "Python 3",
   "language": "python",
   "name": "python3"
  },
  "language_info": {
   "codemirror_mode": {
    "name": "ipython",
    "version": 3
   },
   "file_extension": ".py",
   "mimetype": "text/x-python",
   "name": "python",
   "nbconvert_exporter": "python",
   "pygments_lexer": "ipython3",
   "version": "3.5.3"
  }
 },
 "nbformat": 4,
 "nbformat_minor": 2
}

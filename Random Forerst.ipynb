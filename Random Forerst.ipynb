{
 "cells": [
  {
   "cell_type": "code",
   "execution_count": 1,
   "metadata": {},
   "outputs": [],
   "source": [
    "labels=[\"NO\",\"YES\"]"
   ]
  },
  {
   "cell_type": "code",
   "execution_count": 2,
   "metadata": {},
   "outputs": [],
   "source": [
    "from sklearn import preprocessing\n",
    "import matplotlib.pyplot as plt; plt.rcdefaults()\n",
    "import numpy as np\n",
    "import matplotlib.pyplot as plt\n",
    " "
   ]
  },
  {
   "cell_type": "code",
   "execution_count": 3,
   "metadata": {},
   "outputs": [],
   "source": [
    "import pandas as pd\n",
    "data = pd.read_csv('diabetic1.csv',converters={49:lambda s: labels.index(s)})"
   ]
  },
  {
   "cell_type": "code",
   "execution_count": 4,
   "metadata": {},
   "outputs": [
    {
     "data": {
      "text/plain": [
       "(65499, 50)"
      ]
     },
     "execution_count": 4,
     "metadata": {},
     "output_type": "execute_result"
    }
   ],
   "source": [
    "data.shape"
   ]
  },
  {
   "cell_type": "code",
   "execution_count": 5,
   "metadata": {},
   "outputs": [
    {
     "data": {
      "text/html": [
       "<div>\n",
       "<style scoped>\n",
       "    .dataframe tbody tr th:only-of-type {\n",
       "        vertical-align: middle;\n",
       "    }\n",
       "\n",
       "    .dataframe tbody tr th {\n",
       "        vertical-align: top;\n",
       "    }\n",
       "\n",
       "    .dataframe thead th {\n",
       "        text-align: right;\n",
       "    }\n",
       "</style>\n",
       "<table border=\"1\" class=\"dataframe\">\n",
       "  <thead>\n",
       "    <tr style=\"text-align: right;\">\n",
       "      <th></th>\n",
       "      <th>encounter_id</th>\n",
       "      <th>patient_nbr</th>\n",
       "      <th>race</th>\n",
       "      <th>gender</th>\n",
       "      <th>age</th>\n",
       "      <th>weight</th>\n",
       "      <th>admission_type_id</th>\n",
       "      <th>discharge_disposition_id</th>\n",
       "      <th>admission_source_id</th>\n",
       "      <th>time_in_hospital</th>\n",
       "      <th>...</th>\n",
       "      <th>citoglipton</th>\n",
       "      <th>insulin</th>\n",
       "      <th>glyburide-metformin</th>\n",
       "      <th>glipizide-metformin</th>\n",
       "      <th>glimepiride-pioglitazone</th>\n",
       "      <th>metformin-rosiglitazone</th>\n",
       "      <th>metformin-pioglitazone</th>\n",
       "      <th>change</th>\n",
       "      <th>diabetesMed</th>\n",
       "      <th>readmitted</th>\n",
       "    </tr>\n",
       "  </thead>\n",
       "  <tbody>\n",
       "    <tr>\n",
       "      <th>0</th>\n",
       "      <td>2278392</td>\n",
       "      <td>8222157</td>\n",
       "      <td>Caucasian</td>\n",
       "      <td>Female</td>\n",
       "      <td>[0-10)</td>\n",
       "      <td>?</td>\n",
       "      <td>6</td>\n",
       "      <td>25</td>\n",
       "      <td>1</td>\n",
       "      <td>1</td>\n",
       "      <td>...</td>\n",
       "      <td>No</td>\n",
       "      <td>No</td>\n",
       "      <td>No</td>\n",
       "      <td>No</td>\n",
       "      <td>No</td>\n",
       "      <td>No</td>\n",
       "      <td>No</td>\n",
       "      <td>No</td>\n",
       "      <td>No</td>\n",
       "      <td>0</td>\n",
       "    </tr>\n",
       "    <tr>\n",
       "      <th>1</th>\n",
       "      <td>149190</td>\n",
       "      <td>55629189</td>\n",
       "      <td>Caucasian</td>\n",
       "      <td>Female</td>\n",
       "      <td>[10-20)</td>\n",
       "      <td>?</td>\n",
       "      <td>1</td>\n",
       "      <td>1</td>\n",
       "      <td>7</td>\n",
       "      <td>3</td>\n",
       "      <td>...</td>\n",
       "      <td>No</td>\n",
       "      <td>Up</td>\n",
       "      <td>No</td>\n",
       "      <td>No</td>\n",
       "      <td>No</td>\n",
       "      <td>No</td>\n",
       "      <td>No</td>\n",
       "      <td>Ch</td>\n",
       "      <td>Yes</td>\n",
       "      <td>1</td>\n",
       "    </tr>\n",
       "    <tr>\n",
       "      <th>2</th>\n",
       "      <td>64410</td>\n",
       "      <td>86047875</td>\n",
       "      <td>AfricanAmerican</td>\n",
       "      <td>Female</td>\n",
       "      <td>[20-30)</td>\n",
       "      <td>?</td>\n",
       "      <td>1</td>\n",
       "      <td>1</td>\n",
       "      <td>7</td>\n",
       "      <td>2</td>\n",
       "      <td>...</td>\n",
       "      <td>No</td>\n",
       "      <td>No</td>\n",
       "      <td>No</td>\n",
       "      <td>No</td>\n",
       "      <td>No</td>\n",
       "      <td>No</td>\n",
       "      <td>No</td>\n",
       "      <td>No</td>\n",
       "      <td>Yes</td>\n",
       "      <td>0</td>\n",
       "    </tr>\n",
       "    <tr>\n",
       "      <th>3</th>\n",
       "      <td>500364</td>\n",
       "      <td>82442376</td>\n",
       "      <td>Caucasian</td>\n",
       "      <td>Male</td>\n",
       "      <td>[30-40)</td>\n",
       "      <td>?</td>\n",
       "      <td>1</td>\n",
       "      <td>1</td>\n",
       "      <td>7</td>\n",
       "      <td>2</td>\n",
       "      <td>...</td>\n",
       "      <td>No</td>\n",
       "      <td>Up</td>\n",
       "      <td>No</td>\n",
       "      <td>No</td>\n",
       "      <td>No</td>\n",
       "      <td>No</td>\n",
       "      <td>No</td>\n",
       "      <td>Ch</td>\n",
       "      <td>Yes</td>\n",
       "      <td>0</td>\n",
       "    </tr>\n",
       "    <tr>\n",
       "      <th>4</th>\n",
       "      <td>16680</td>\n",
       "      <td>42519267</td>\n",
       "      <td>Caucasian</td>\n",
       "      <td>Male</td>\n",
       "      <td>[40-50)</td>\n",
       "      <td>?</td>\n",
       "      <td>1</td>\n",
       "      <td>1</td>\n",
       "      <td>7</td>\n",
       "      <td>1</td>\n",
       "      <td>...</td>\n",
       "      <td>No</td>\n",
       "      <td>Steady</td>\n",
       "      <td>No</td>\n",
       "      <td>No</td>\n",
       "      <td>No</td>\n",
       "      <td>No</td>\n",
       "      <td>No</td>\n",
       "      <td>Ch</td>\n",
       "      <td>Yes</td>\n",
       "      <td>0</td>\n",
       "    </tr>\n",
       "    <tr>\n",
       "      <th>5</th>\n",
       "      <td>35754</td>\n",
       "      <td>82637451</td>\n",
       "      <td>Caucasian</td>\n",
       "      <td>Male</td>\n",
       "      <td>[50-60)</td>\n",
       "      <td>?</td>\n",
       "      <td>2</td>\n",
       "      <td>1</td>\n",
       "      <td>2</td>\n",
       "      <td>3</td>\n",
       "      <td>...</td>\n",
       "      <td>No</td>\n",
       "      <td>Steady</td>\n",
       "      <td>No</td>\n",
       "      <td>No</td>\n",
       "      <td>No</td>\n",
       "      <td>No</td>\n",
       "      <td>No</td>\n",
       "      <td>No</td>\n",
       "      <td>Yes</td>\n",
       "      <td>1</td>\n",
       "    </tr>\n",
       "    <tr>\n",
       "      <th>6</th>\n",
       "      <td>55842</td>\n",
       "      <td>84259809</td>\n",
       "      <td>Caucasian</td>\n",
       "      <td>Male</td>\n",
       "      <td>[60-70)</td>\n",
       "      <td>?</td>\n",
       "      <td>3</td>\n",
       "      <td>1</td>\n",
       "      <td>2</td>\n",
       "      <td>4</td>\n",
       "      <td>...</td>\n",
       "      <td>No</td>\n",
       "      <td>Steady</td>\n",
       "      <td>No</td>\n",
       "      <td>No</td>\n",
       "      <td>No</td>\n",
       "      <td>No</td>\n",
       "      <td>No</td>\n",
       "      <td>Ch</td>\n",
       "      <td>Yes</td>\n",
       "      <td>0</td>\n",
       "    </tr>\n",
       "    <tr>\n",
       "      <th>7</th>\n",
       "      <td>63768</td>\n",
       "      <td>114882984</td>\n",
       "      <td>Caucasian</td>\n",
       "      <td>Male</td>\n",
       "      <td>[70-80)</td>\n",
       "      <td>?</td>\n",
       "      <td>1</td>\n",
       "      <td>1</td>\n",
       "      <td>7</td>\n",
       "      <td>5</td>\n",
       "      <td>...</td>\n",
       "      <td>No</td>\n",
       "      <td>No</td>\n",
       "      <td>No</td>\n",
       "      <td>No</td>\n",
       "      <td>No</td>\n",
       "      <td>No</td>\n",
       "      <td>No</td>\n",
       "      <td>No</td>\n",
       "      <td>Yes</td>\n",
       "      <td>1</td>\n",
       "    </tr>\n",
       "    <tr>\n",
       "      <th>8</th>\n",
       "      <td>12522</td>\n",
       "      <td>48330783</td>\n",
       "      <td>Caucasian</td>\n",
       "      <td>Female</td>\n",
       "      <td>[80-90)</td>\n",
       "      <td>?</td>\n",
       "      <td>2</td>\n",
       "      <td>1</td>\n",
       "      <td>4</td>\n",
       "      <td>13</td>\n",
       "      <td>...</td>\n",
       "      <td>No</td>\n",
       "      <td>Steady</td>\n",
       "      <td>No</td>\n",
       "      <td>No</td>\n",
       "      <td>No</td>\n",
       "      <td>No</td>\n",
       "      <td>No</td>\n",
       "      <td>Ch</td>\n",
       "      <td>Yes</td>\n",
       "      <td>0</td>\n",
       "    </tr>\n",
       "    <tr>\n",
       "      <th>9</th>\n",
       "      <td>15738</td>\n",
       "      <td>63555939</td>\n",
       "      <td>Caucasian</td>\n",
       "      <td>Female</td>\n",
       "      <td>[90-100)</td>\n",
       "      <td>?</td>\n",
       "      <td>3</td>\n",
       "      <td>3</td>\n",
       "      <td>4</td>\n",
       "      <td>12</td>\n",
       "      <td>...</td>\n",
       "      <td>No</td>\n",
       "      <td>Steady</td>\n",
       "      <td>No</td>\n",
       "      <td>No</td>\n",
       "      <td>No</td>\n",
       "      <td>No</td>\n",
       "      <td>No</td>\n",
       "      <td>Ch</td>\n",
       "      <td>Yes</td>\n",
       "      <td>0</td>\n",
       "    </tr>\n",
       "  </tbody>\n",
       "</table>\n",
       "<p>10 rows × 50 columns</p>\n",
       "</div>"
      ],
      "text/plain": [
       "   encounter_id  patient_nbr             race  gender       age weight  \\\n",
       "0       2278392      8222157        Caucasian  Female    [0-10)      ?   \n",
       "1        149190     55629189        Caucasian  Female   [10-20)      ?   \n",
       "2         64410     86047875  AfricanAmerican  Female   [20-30)      ?   \n",
       "3        500364     82442376        Caucasian    Male   [30-40)      ?   \n",
       "4         16680     42519267        Caucasian    Male   [40-50)      ?   \n",
       "5         35754     82637451        Caucasian    Male   [50-60)      ?   \n",
       "6         55842     84259809        Caucasian    Male   [60-70)      ?   \n",
       "7         63768    114882984        Caucasian    Male   [70-80)      ?   \n",
       "8         12522     48330783        Caucasian  Female   [80-90)      ?   \n",
       "9         15738     63555939        Caucasian  Female  [90-100)      ?   \n",
       "\n",
       "   admission_type_id  discharge_disposition_id  admission_source_id  \\\n",
       "0                  6                        25                    1   \n",
       "1                  1                         1                    7   \n",
       "2                  1                         1                    7   \n",
       "3                  1                         1                    7   \n",
       "4                  1                         1                    7   \n",
       "5                  2                         1                    2   \n",
       "6                  3                         1                    2   \n",
       "7                  1                         1                    7   \n",
       "8                  2                         1                    4   \n",
       "9                  3                         3                    4   \n",
       "\n",
       "   time_in_hospital    ...     citoglipton insulin  glyburide-metformin  \\\n",
       "0                 1    ...              No      No                   No   \n",
       "1                 3    ...              No      Up                   No   \n",
       "2                 2    ...              No      No                   No   \n",
       "3                 2    ...              No      Up                   No   \n",
       "4                 1    ...              No  Steady                   No   \n",
       "5                 3    ...              No  Steady                   No   \n",
       "6                 4    ...              No  Steady                   No   \n",
       "7                 5    ...              No      No                   No   \n",
       "8                13    ...              No  Steady                   No   \n",
       "9                12    ...              No  Steady                   No   \n",
       "\n",
       "   glipizide-metformin  glimepiride-pioglitazone  metformin-rosiglitazone  \\\n",
       "0                   No                        No                       No   \n",
       "1                   No                        No                       No   \n",
       "2                   No                        No                       No   \n",
       "3                   No                        No                       No   \n",
       "4                   No                        No                       No   \n",
       "5                   No                        No                       No   \n",
       "6                   No                        No                       No   \n",
       "7                   No                        No                       No   \n",
       "8                   No                        No                       No   \n",
       "9                   No                        No                       No   \n",
       "\n",
       "   metformin-pioglitazone  change diabetesMed readmitted  \n",
       "0                      No      No          No          0  \n",
       "1                      No      Ch         Yes          1  \n",
       "2                      No      No         Yes          0  \n",
       "3                      No      Ch         Yes          0  \n",
       "4                      No      Ch         Yes          0  \n",
       "5                      No      No         Yes          1  \n",
       "6                      No      Ch         Yes          0  \n",
       "7                      No      No         Yes          1  \n",
       "8                      No      Ch         Yes          0  \n",
       "9                      No      Ch         Yes          0  \n",
       "\n",
       "[10 rows x 50 columns]"
      ]
     },
     "execution_count": 5,
     "metadata": {},
     "output_type": "execute_result"
    }
   ],
   "source": [
    "data.head(10)"
   ]
  },
  {
   "cell_type": "code",
   "execution_count": 6,
   "metadata": {},
   "outputs": [
    {
     "data": {
      "text/plain": [
       "Index(['encounter_id', 'patient_nbr', 'race', 'gender', 'age', 'weight',\n",
       "       'admission_type_id', 'discharge_disposition_id', 'admission_source_id',\n",
       "       'time_in_hospital', 'payer_code', 'medical_specialty',\n",
       "       'num_lab_procedures', 'num_procedures', 'num_medications',\n",
       "       'number_outpatient', 'number_emergency', 'number_inpatient', 'diag_1',\n",
       "       'diag_2', 'diag_3', 'number_diagnoses', 'max_glu_serum', 'A1Cresult',\n",
       "       'metformin', 'repaglinide', 'nateglinide', 'chlorpropamide',\n",
       "       'glimepiride', 'acetohexamide', 'glipizide', 'glyburide', 'tolbutamide',\n",
       "       'pioglitazone', 'rosiglitazone', 'acarbose', 'miglitol', 'troglitazone',\n",
       "       'tolazamide', 'examide', 'citoglipton', 'insulin',\n",
       "       'glyburide-metformin', 'glipizide-metformin',\n",
       "       'glimepiride-pioglitazone', 'metformin-rosiglitazone',\n",
       "       'metformin-pioglitazone', 'change', 'diabetesMed', 'readmitted'],\n",
       "      dtype='object')"
      ]
     },
     "execution_count": 6,
     "metadata": {},
     "output_type": "execute_result"
    }
   ],
   "source": [
    "data.columns"
   ]
  },
  {
   "cell_type": "markdown",
   "metadata": {},
   "source": [
    "<h3> data save </h3>"
   ]
  },
  {
   "cell_type": "code",
   "execution_count": 7,
   "metadata": {},
   "outputs": [],
   "source": [
    "data1 = data"
   ]
  },
  {
   "cell_type": "code",
   "execution_count": 8,
   "metadata": {},
   "outputs": [],
   "source": [
    "data1 = data1.drop(columns=['weight'])"
   ]
  },
  {
   "cell_type": "code",
   "execution_count": 9,
   "metadata": {},
   "outputs": [],
   "source": [
    "data1 = data1.drop(columns=['payer_code'])"
   ]
  },
  {
   "cell_type": "code",
   "execution_count": 10,
   "metadata": {},
   "outputs": [],
   "source": [
    "le = preprocessing.LabelEncoder()\n",
    "le.fit(['Norm' ,'None', '>8', '>7'])\n",
    "data1['A1Cresult']=le.transform(data1['A1Cresult'])"
   ]
  },
  {
   "cell_type": "code",
   "execution_count": 11,
   "metadata": {},
   "outputs": [],
   "source": [
    "le = preprocessing.LabelEncoder()\n",
    "le.fit(['Yes','No'])\n",
    "data1['diabetesMed']=le.transform(data1['diabetesMed'])"
   ]
  },
  {
   "cell_type": "code",
   "execution_count": 12,
   "metadata": {},
   "outputs": [],
   "source": [
    "le = preprocessing.LabelEncoder()\n",
    "le.fit(['No','Steady','Down','Up'])\n",
    "data1['insulin']=le.transform(data1['insulin']) "
   ]
  },
  {
   "cell_type": "code",
   "execution_count": 13,
   "metadata": {},
   "outputs": [],
   "source": [
    "a = data1['diag_3']\n",
    "count = 0\n",
    "list1 = list()\n",
    "for i in a:\n",
    "    if(i.startswith('V') or i.startswith('E')):\n",
    "        list1.append(i)\n",
    "    count = count + 1\n",
    "for i in list1:\n",
    "    a = a.replace(i,\"?\")     \n",
    "data1['diag_3'] = a\n",
    "\n"
   ]
  },
  {
   "cell_type": "code",
   "execution_count": 14,
   "metadata": {},
   "outputs": [],
   "source": [
    "a = data1['diag_1']\n",
    "count = 0\n",
    "list1 = list()\n",
    "for i in a:\n",
    "    if(i.startswith('V') or i.startswith('E')):\n",
    "        list1.append(i)\n",
    "    count = count + 1\n",
    "for i in list1:\n",
    "    a = a.replace(i,\"?\")     \n",
    "data1['diag_1'] = a\n",
    "\n"
   ]
  },
  {
   "cell_type": "code",
   "execution_count": 15,
   "metadata": {},
   "outputs": [],
   "source": [
    "a = data1['diag_2']\n",
    "count = 0\n",
    "list1 = list()\n",
    "for i in a:\n",
    "    if(i.startswith('V') or i.startswith('E')):\n",
    "        list1.append(i)\n",
    "    count = count + 1\n",
    "for i in list1:\n",
    "    a = a.replace(i,\"?\")     \n",
    "data1['diag_2'] = a\n",
    "\n"
   ]
  },
  {
   "cell_type": "code",
   "execution_count": 16,
   "metadata": {},
   "outputs": [
    {
     "data": {
      "text/plain": [
       "(34347, 48)"
      ]
     },
     "execution_count": 16,
     "metadata": {},
     "output_type": "execute_result"
    }
   ],
   "source": [
    "data1 = data1.replace(\"?\",np.nan)\n",
    "data1 = data1.dropna()\n",
    "data1.shape"
   ]
  },
  {
   "cell_type": "code",
   "execution_count": 17,
   "metadata": {},
   "outputs": [],
   "source": [
    "from sklearn import preprocessing\n",
    "le = preprocessing.LabelEncoder()\n",
    "le.fit(['Caucasian', 'AfricanAmerican', 'Hispanic', 'Others', 'Asian','Other'])\n",
    "data1['race']=le.transform(data1['race']) "
   ]
  },
  {
   "cell_type": "code",
   "execution_count": 18,
   "metadata": {},
   "outputs": [],
   "source": [
    "from sklearn import preprocessing\n",
    "le = preprocessing.LabelEncoder()\n",
    "le.fit([\"Male\" ,\"Female\", \"Unknown/Invalid\"])\n",
    "data1['gender']=le.transform(data1['gender']) "
   ]
  },
  {
   "cell_type": "code",
   "execution_count": 19,
   "metadata": {},
   "outputs": [],
   "source": [
    "le = preprocessing.LabelEncoder()\n",
    "le.fit(['[70-80)', '[30-40)' ,'[50-60)', '[80-90)', '[60-70)' ,'[40-50)' ,'[90-100)',\n",
    " '[20-30)', '[10-20)', '[0-10)'])\n",
    "data1['age']=le.transform(data1['age']) "
   ]
  },
  {
   "cell_type": "code",
   "execution_count": 20,
   "metadata": {},
   "outputs": [],
   "source": [
    "#from sklearn import preprocessing\n",
    "#le = preprocessing.LabelEncoder()\n",
    "#le.fit(['None' ,'Norm', '>300', '>200'])\n",
    "#new_a['max_glu_serum']=le.transform(new_a['max_glu_serum']) \n",
    "#trainx['max_glu_serum']=le.transform(trainx['max_glu_serum']) \n",
    "#testx['max_glu_serum']=le.transform(testx['max_glu_serum'])\n",
    "le = preprocessing.LabelEncoder()\n",
    "le.fit(['No' ,'Steady', 'Down' ,'Up'])\n",
    "data1['metformin']=le.transform(data1['metformin']) \n",
    "#trainx['metformin']=le.transform(trainx['metformin']) \n",
    "#testx['metformin']=le.transform(testx['metformin'])\n",
    "le = preprocessing.LabelEncoder()\n",
    "le.fit(['No' ,'Steady', 'Down' ,'Up'])\n",
    "data1['repaglinide']=le.transform(data1['repaglinide']) \n",
    "#trainx['repaglinide']=le.transform(trainx['repaglinide']) \n",
    "#testx['repaglinide']=le.transform(testx['repaglinide'])\n",
    "le = preprocessing.LabelEncoder()\n",
    "le.fit(['No' ,'Steady', 'Down' ,'Up'])\n",
    "data1['nateglinide']=le.transform(data1['nateglinide']) \n",
    "#trainx['nateglinide']=le.transform(trainx['nateglinide']) \n",
    "#testx['nateglinide']=le.transform(testx['nateglinide'])\n",
    "le = preprocessing.LabelEncoder()\n",
    "le.fit(['No','Steady','Down','Up'])\n",
    "data1['chlorpropamide']=le.transform(data1['chlorpropamide']) \n",
    "#trainx['chlorpropamide']=le.transform(trainx['chlorpropamide']) \n",
    "#testx['chlorpropamide']=le.transform(testx['chlorpropamide'])"
   ]
  },
  {
   "cell_type": "code",
   "execution_count": 21,
   "metadata": {},
   "outputs": [],
   "source": [
    "le = preprocessing.LabelEncoder()\n",
    "le.fit(['No','Steady','Down','Up'])\n",
    "data1['glimepiride']=le.transform(data1['glimepiride']) \n",
    "#trainx['glimepiride']=le.transform(trainx['glimepiride']) \n",
    "#testx['glimepiride']=le.transform(testx['glimepiride'])\n",
    "le = preprocessing.LabelEncoder()\n",
    "le.fit(['No','Steady','Down','Up'])\n",
    "data1['glipizide']=le.transform(data1['glipizide']) \n",
    "#trainx['glipizide']=le.transform(trainx['glipizide']) \n",
    "#testx['glipizide']=le.transform(testx['glipizide'])\n",
    "le = preprocessing.LabelEncoder()\n",
    "le.fit(['No','Steady','Down','Up'])\n",
    "data1['glyburide']=le.transform(data1['glyburide'])\n",
    "#trainx['glyburide']=le.transform(trainx['glyburide']) \n",
    "#testx['glyburide']=le.transform(testx['glyburide'])\n",
    "le = preprocessing.LabelEncoder()\n",
    "le.fit(['No','Steady'])\n",
    "data1['tolbutamide']=le.transform(data1['tolbutamide']) \n",
    "#trainx['tolbutamide']=le.transform(trainx['tolbutamide']) \n",
    "#testx['tolbutamide']=le.transform(testx['tolbutamide'])\n",
    "le = preprocessing.LabelEncoder()\n",
    "le.fit(['No','Steady','Down','Up'])\n",
    "data1['pioglitazone']=le.transform(data1['pioglitazone']) \n",
    "#trainx['pioglitazone']=le.transform(trainx['pioglitazone']) \n",
    "#testx['pioglitazone']=le.transform(testx['pioglitazone'])\n",
    "le = preprocessing.LabelEncoder()\n",
    "le.fit(['No','Steady','Down','Up'])\n",
    "data1['rosiglitazone']=le.transform(data1['rosiglitazone']) \n",
    "#trainx['rosiglitazone']=le.transform(trainx['rosiglitazone']) \n",
    "#testx['rosiglitazone']=le.transform(testx['rosiglitazone'])\n",
    "le = preprocessing.LabelEncoder()\n",
    "le.fit(['No','Steady','Down','Up'])\n",
    "data1['acarbose']=le.transform(data1['acarbose']) \n",
    "#trainx['acarbose']=le.transform(trainx['acarbose']) \n",
    "#testx['acarbose']=le.transform(testx['acarbose'])\n",
    "le = preprocessing.LabelEncoder()\n",
    "le.fit(['No','Steady','Down','Up'])\n",
    "data1['miglitol']=le.transform(data1['miglitol']) \n",
    "#trainx['miglitol']=le.transform(trainx['miglitol']) \n",
    "#testx['miglitol']=le.transform(testx['miglitol'])\n",
    "le = preprocessing.LabelEncoder()\n",
    "le.fit(['No','Steady'])\n",
    "data1['troglitazone']=le.transform(data1['troglitazone']) \n",
    "#trainx['troglitazone']=le.transform(trainx['troglitazone']) \n",
    "#testx['troglitazone']=le.transform(testx['troglitazone'])\n",
    "le = preprocessing.LabelEncoder()\n",
    "le.fit(['No','Steady'])\n",
    "data1['tolazamide']=le.transform(data1['tolazamide']) \n",
    "#trainx['tolazamide']=le.transform(trainx['tolazamide']) \n",
    "#testx['tolazamide']=le.transform(testx['tolazamide'])"
   ]
  },
  {
   "cell_type": "code",
   "execution_count": 22,
   "metadata": {},
   "outputs": [],
   "source": [
    "data1 = data1.drop(columns=['medical_specialty'])"
   ]
  },
  {
   "cell_type": "code",
   "execution_count": 23,
   "metadata": {},
   "outputs": [],
   "source": [
    "data1 = data1.drop(columns=['acetohexamide','examide','citoglipton','glimepiride-pioglitazone', 'metformin-rosiglitazone'])"
   ]
  },
  {
   "cell_type": "code",
   "execution_count": 24,
   "metadata": {},
   "outputs": [],
   "source": [
    "data1 = data1.drop(columns=['max_glu_serum'])"
   ]
  },
  {
   "cell_type": "code",
   "execution_count": 25,
   "metadata": {},
   "outputs": [
    {
     "data": {
      "text/plain": [
       "0"
      ]
     },
     "execution_count": 25,
     "metadata": {},
     "output_type": "execute_result"
    }
   ],
   "source": [
    "dupes=data1.duplicated()\n",
    "sum(dupes)"
   ]
  },
  {
   "cell_type": "markdown",
   "metadata": {},
   "source": [
    "<h1>Criteion=\"gini\"</h1>"
   ]
  },
  {
   "cell_type": "markdown",
   "metadata": {},
   "source": [
    "<h2> max_features=\"auto\"</h2>"
   ]
  },
  {
   "cell_type": "code",
   "execution_count": 26,
   "metadata": {},
   "outputs": [
    {
     "name": "stdout",
     "output_type": "stream",
     "text": [
      "(52399, 1) (52399,) (13100, 1) (13100,)\n"
     ]
    }
   ],
   "source": [
    "from sklearn.model_selection import train_test_split\n",
    "train,test = train_test_split(data,test_size=0.2)\n",
    "trainx = pd.DataFrame(train[['number_inpatient']])\n",
    "trainy = train['readmitted']                           \n",
    "testx = pd.DataFrame(test[['number_inpatient']])\n",
    "testy = test['readmitted']\n",
    "print(trainx.shape,trainy.shape,testx.shape,testy.shape)"
   ]
  },
  {
   "cell_type": "code",
   "execution_count": 27,
   "metadata": {},
   "outputs": [
    {
     "name": "stdout",
     "output_type": "stream",
     "text": [
      "Number of Trees 1\n",
      "Accuracy 0.6061068702290077\n",
      "Number of Trees 2\n",
      "Accuracy 0.6061068702290077\n",
      "Number of Trees 3\n",
      "Accuracy 0.6061068702290077\n",
      "Number of Trees 4\n",
      "Accuracy 0.6059541984732825\n",
      "Number of Trees 5\n",
      "Accuracy 0.6061068702290077\n",
      "Number of Trees 6\n",
      "Accuracy 0.6059541984732825\n",
      "Number of Trees 7\n",
      "Accuracy 0.6061068702290077\n",
      "Number of Trees 8\n",
      "Accuracy 0.6061068702290077\n",
      "Number of Trees 9\n",
      "Accuracy 0.6061068702290077\n",
      "Number of Trees 10\n",
      "Accuracy 0.6061068702290077\n",
      "Number of Trees 11\n",
      "Accuracy 0.6061068702290077\n",
      "Number of Trees 12\n",
      "Accuracy 0.6061068702290077\n",
      "Number of Trees 13\n",
      "Accuracy 0.6061068702290077\n",
      "Number of Trees 14\n",
      "Accuracy 0.6061068702290077\n"
     ]
    }
   ],
   "source": [
    "list1 = list()\n",
    "list2 = list()\n",
    "from sklearn.ensemble import RandomForestClassifier\n",
    "for val in range(1,15,1):\n",
    "    rf = RandomForestClassifier(n_estimators = val,criterion=\"gini\",max_features=\"auto\")\n",
    "    rf.fit(trainx, trainy)\n",
    "    from sklearn.metrics import accuracy_score\n",
    "    predictions = rf.predict(testx)\n",
    "    accuracy = accuracy_score(testy, predictions)\n",
    "    print(\"Number of Trees\",val)\n",
    "    print(\"Accuracy\",accuracy)\n",
    "    list1 = list1 + [accuracy]\n",
    "    list2 = list2 + [val]"
   ]
  },
  {
   "cell_type": "markdown",
   "metadata": {},
   "source": [
    "<h2> max_features=\"log2\"</h2>"
   ]
  },
  {
   "cell_type": "code",
   "execution_count": 28,
   "metadata": {},
   "outputs": [
    {
     "name": "stdout",
     "output_type": "stream",
     "text": [
      "Number of Trees 1\n",
      "Accuracy 0.6059541984732825\n",
      "Number of Trees 2\n",
      "Accuracy 0.6061068702290077\n",
      "Number of Trees 3\n",
      "Accuracy 0.6059541984732825\n",
      "Number of Trees 4\n",
      "Accuracy 0.6059541984732825\n",
      "Number of Trees 5\n",
      "Accuracy 0.6061068702290077\n",
      "Number of Trees 6\n",
      "Accuracy 0.6061068702290077\n",
      "Number of Trees 7\n",
      "Accuracy 0.6061068702290077\n",
      "Number of Trees 8\n",
      "Accuracy 0.6059541984732825\n",
      "Number of Trees 9\n",
      "Accuracy 0.6061068702290077\n",
      "Number of Trees 10\n",
      "Accuracy 0.6061068702290077\n",
      "Number of Trees 11\n",
      "Accuracy 0.6061068702290077\n",
      "Number of Trees 12\n",
      "Accuracy 0.6061068702290077\n",
      "Number of Trees 13\n",
      "Accuracy 0.6061068702290077\n",
      "Number of Trees 14\n",
      "Accuracy 0.6061068702290077\n"
     ]
    }
   ],
   "source": [
    "list1 = list()\n",
    "list2 = list()\n",
    "from sklearn.ensemble import RandomForestClassifier\n",
    "for val in range(1,15,1):\n",
    "    rf = RandomForestClassifier(n_estimators = val,criterion=\"gini\",max_features=\"log2\")\n",
    "    rf.fit(trainx, trainy)\n",
    "    from sklearn.metrics import accuracy_score\n",
    "    predictions = rf.predict(testx)\n",
    "    accuracy = accuracy_score(testy, predictions)\n",
    "    print(\"Number of Trees\",val)\n",
    "    print(\"Accuracy\",accuracy)\n",
    "    list1 = list1 + [accuracy]\n",
    "    list2 = list2 + [val]"
   ]
  },
  {
   "cell_type": "markdown",
   "metadata": {},
   "source": [
    "<h1> Criterion=\"Entropy\" </h1>"
   ]
  },
  {
   "cell_type": "markdown",
   "metadata": {},
   "source": [
    " <h2> max_features=\"auto\"</h2>"
   ]
  },
  {
   "cell_type": "code",
   "execution_count": 29,
   "metadata": {},
   "outputs": [
    {
     "name": "stdout",
     "output_type": "stream",
     "text": [
      "Number of Trees 1\n",
      "Accuracy 0.6061068702290077\n",
      "Number of Trees 2\n",
      "Accuracy 0.6059541984732825\n",
      "Number of Trees 3\n",
      "Accuracy 0.6061068702290077\n",
      "Number of Trees 4\n",
      "Accuracy 0.6061068702290077\n",
      "Number of Trees 5\n",
      "Accuracy 0.6061068702290077\n",
      "Number of Trees 6\n",
      "Accuracy 0.6061068702290077\n",
      "Number of Trees 7\n",
      "Accuracy 0.6059541984732825\n",
      "Number of Trees 8\n",
      "Accuracy 0.6061068702290077\n",
      "Number of Trees 9\n",
      "Accuracy 0.6061068702290077\n",
      "Number of Trees 10\n",
      "Accuracy 0.6061068702290077\n",
      "Number of Trees 11\n",
      "Accuracy 0.6061068702290077\n",
      "Number of Trees 12\n",
      "Accuracy 0.6061068702290077\n",
      "Number of Trees 13\n",
      "Accuracy 0.6059541984732825\n",
      "Number of Trees 14\n",
      "Accuracy 0.6061068702290077\n"
     ]
    }
   ],
   "source": [
    "list1 = list()\n",
    "list2 = list()\n",
    "from sklearn.ensemble import RandomForestClassifier\n",
    "for val in range(1,15,1):\n",
    "    rf = RandomForestClassifier(n_estimators = val,criterion=\"entropy\")\n",
    "    rf.fit(trainx, trainy)\n",
    "    from sklearn.metrics import accuracy_score\n",
    "    predictions = rf.predict(testx)\n",
    "    accuracy = accuracy_score(testy, predictions)\n",
    "    print(\"Number of Trees\",val)\n",
    "    print(\"Accuracy\",accuracy)\n",
    "    list1 = list1 + [accuracy]\n",
    "    list2 = list2 + [val]"
   ]
  },
  {
   "cell_type": "markdown",
   "metadata": {},
   "source": [
    "<h2> max_features=\"log2\"</h2>"
   ]
  },
  {
   "cell_type": "code",
   "execution_count": 30,
   "metadata": {},
   "outputs": [
    {
     "name": "stdout",
     "output_type": "stream",
     "text": [
      "Number of Trees 1\n",
      "Accuracy 0.6061068702290077\n",
      "Number of Trees 2\n",
      "Accuracy 0.6061068702290077\n",
      "Number of Trees 3\n",
      "Accuracy 0.6061068702290077\n",
      "Number of Trees 4\n",
      "Accuracy 0.6061068702290077\n",
      "Number of Trees 5\n",
      "Accuracy 0.6061068702290077\n",
      "Number of Trees 6\n",
      "Accuracy 0.6061068702290077\n",
      "Number of Trees 7\n",
      "Accuracy 0.6061068702290077\n",
      "Number of Trees 8\n",
      "Accuracy 0.6061068702290077\n",
      "Number of Trees 9\n",
      "Accuracy 0.6061068702290077\n",
      "Number of Trees 10\n",
      "Accuracy 0.6061068702290077\n",
      "Number of Trees 11\n",
      "Accuracy 0.6061068702290077\n",
      "Number of Trees 12\n",
      "Accuracy 0.6061068702290077\n",
      "Number of Trees 13\n",
      "Accuracy 0.6061068702290077\n",
      "Number of Trees 14\n",
      "Accuracy 0.6061068702290077\n"
     ]
    }
   ],
   "source": [
    "list1 = list()\n",
    "list2 = list()\n",
    "from sklearn.ensemble import RandomForestClassifier\n",
    "for val in range(1,15,1):\n",
    "    rf = RandomForestClassifier(n_estimators = val,criterion=\"entropy\",max_features=\"log2\")\n",
    "    rf.fit(trainx, trainy)\n",
    "    from sklearn.metrics import accuracy_score\n",
    "    predictions = rf.predict(testx)\n",
    "    accuracy = accuracy_score(testy, predictions)\n",
    "    print(\"Number of Trees\",val)\n",
    "    print(\"Accuracy\",accuracy)\n",
    "    list1 = list1 + [accuracy]\n",
    "    list2 = list2 + [val]"
   ]
  },
  {
   "cell_type": "markdown",
   "metadata": {},
   "source": [
    "<h3> data1 </h3>"
   ]
  },
  {
   "cell_type": "code",
   "execution_count": 31,
   "metadata": {},
   "outputs": [
    {
     "data": {
      "text/plain": [
       "('A1Cresult',\n",
       " 'number_emergency',\n",
       " 'number_inpatient',\n",
       " 'number_outpatient',\n",
       " 'race')"
      ]
     },
     "execution_count": 31,
     "metadata": {},
     "output_type": "execute_result"
    }
   ],
   "source": [
    "'A1Cresult','number_emergency', 'number_inpatient','number_outpatient','race',"
   ]
  },
  {
   "cell_type": "code",
   "execution_count": 32,
   "metadata": {},
   "outputs": [
    {
     "data": {
      "text/plain": [
       "(34347, 41)"
      ]
     },
     "execution_count": 32,
     "metadata": {},
     "output_type": "execute_result"
    }
   ],
   "source": [
    "data1.shape"
   ]
  },
  {
   "cell_type": "code",
   "execution_count": 33,
   "metadata": {},
   "outputs": [
    {
     "data": {
      "text/plain": [
       "Index(['encounter_id', 'patient_nbr', 'race', 'gender', 'age',\n",
       "       'admission_type_id', 'discharge_disposition_id', 'admission_source_id',\n",
       "       'time_in_hospital', 'num_lab_procedures', 'num_procedures',\n",
       "       'num_medications', 'number_outpatient', 'number_emergency',\n",
       "       'number_inpatient', 'diag_1', 'diag_2', 'diag_3', 'number_diagnoses',\n",
       "       'A1Cresult', 'metformin', 'repaglinide', 'nateglinide',\n",
       "       'chlorpropamide', 'glimepiride', 'glipizide', 'glyburide',\n",
       "       'tolbutamide', 'pioglitazone', 'rosiglitazone', 'acarbose', 'miglitol',\n",
       "       'troglitazone', 'tolazamide', 'insulin', 'glyburide-metformin',\n",
       "       'glipizide-metformin', 'metformin-pioglitazone', 'change',\n",
       "       'diabetesMed', 'readmitted'],\n",
       "      dtype='object')"
      ]
     },
     "execution_count": 33,
     "metadata": {},
     "output_type": "execute_result"
    }
   ],
   "source": [
    "data1.columns"
   ]
  },
  {
   "cell_type": "code",
   "execution_count": 34,
   "metadata": {},
   "outputs": [],
   "source": [
    "data1 = data1.drop(columns=['metformin-pioglitazone'])"
   ]
  },
  {
   "cell_type": "code",
   "execution_count": 35,
   "metadata": {},
   "outputs": [],
   "source": [
    "data1 = data1.drop(columns=['patient_nbr'])"
   ]
  },
  {
   "cell_type": "code",
   "execution_count": 36,
   "metadata": {},
   "outputs": [],
   "source": [
    "data1 = data1.drop(columns=['encounter_id'])"
   ]
  },
  {
   "cell_type": "code",
   "execution_count": 37,
   "metadata": {},
   "outputs": [],
   "source": [
    "data1 = data1.drop(columns=['admission_source_id'])"
   ]
  },
  {
   "cell_type": "code",
   "execution_count": 38,
   "metadata": {},
   "outputs": [],
   "source": [
    "data1 = data1.drop(columns=['number_inpatient','number_outpatient'])"
   ]
  },
  {
   "cell_type": "code",
   "execution_count": 39,
   "metadata": {},
   "outputs": [],
   "source": [
    "data1 = data1.drop(columns=['admission_type_id'])"
   ]
  },
  {
   "cell_type": "code",
   "execution_count": 40,
   "metadata": {},
   "outputs": [
    {
     "data": {
      "text/plain": [
       "(34347, 34)"
      ]
     },
     "execution_count": 40,
     "metadata": {},
     "output_type": "execute_result"
    }
   ],
   "source": [
    "data1.shape"
   ]
  },
  {
   "cell_type": "code",
   "execution_count": 41,
   "metadata": {},
   "outputs": [
    {
     "name": "stdout",
     "output_type": "stream",
     "text": [
      "diag_1\n",
      "['434' '428' '682' '427' '996' '411' '414' '151' '715' '410' '38' '590'\n",
      " '707' '536' '440' '578' '250.6' '250.4' '250.32' '255' '997' '558' '599'\n",
      " '250.7' '402' '486' '584' '244' '250.03' '574' '577' '730' '786' '250.8'\n",
      " '562' '291' '276' '510' '401' '263' '295' '438' '511' '70' '722' '560'\n",
      " '182' '642' '491' '571' '250.42' '807' '456' '518' '572' '575' '250.41'\n",
      " '250.02' '820' '515' '296' '780' '995' '235' '250.82' '721' '787' '724'\n",
      " '282' '250.83' '250.13' '281' '530' '466' '250.12' '998' '593' '648'\n",
      " '566' '822' '191' '557' '432' '435' '733' '403' '455' '482' '202' '493'\n",
      " '280' '789' '154' '250.22' '441' '250.81' '962' '592' '507' '386' '728'\n",
      " '618' '426' '569' '337' '82' '531' '812' '225' '596' '824' '656' '433'\n",
      " '492' '808' '958' '969' '196' '112' '404' '823' '532' '346' '162' '453'\n",
      " '535' '250' '595' '303' '286' '852' '218' '540' '189' '285' '188' '431'\n",
      " '340' '550' '351' '601' '723' '555' '153' '443' '380' '204' '211' '424'\n",
      " '198' '241' '564' '694' '331' '345' '250.33' '681' '290' '158' '579'\n",
      " '436' '335' '309' '654' '799' '292' '183' '851' '288' '738' '311' '54'\n",
      " '892' '305' '293' '415' '591' '711' '794' '250.11' '79' '398' '586' '573'\n",
      " '429' '278' '658' '598' '585' '444' '553' '727' '552' '41' '458' '644'\n",
      " '437' '8' '174' '784' '277' '968' '805' '632' '185' '782' '359' '423'\n",
      " '781' '368' '522' '737' '294' '825' '135' '304' '626' '250.31' '669'\n",
      " '868' '496' '826' '567' '3' '203' '680' '729' '459' '251' '220' '250.1'\n",
      " '457' '157' '297' '663' '250.43' '355' '287' '250.2' '611' '348' '413'\n",
      " '840' '350' '726' '661' '537' '620' '447' '512' '366' '11' '751' '250.3'\n",
      " '197' '464' '836' '664' '283' '821' '922' '332' '289' '965' '604' '480'\n",
      " '972' '212' '788' '625' '924' '199' '621' '238' '714' '250.23' '47' '508'\n",
      " '844' '850' '333' '7' '42' '250.5' '233' '253' '600' '494' '716' '39'\n",
      " '659' '312' '614' '647' '652' '462' '646' '274' '284' '425' '527' '451'\n",
      " '783' '485' '217' '250.53' '959' '193' '160' '999' '475' '623' '374'\n",
      " '576' '568' '608' '376' '446' '461' '785' '641' '478' '556' '353' '420'\n",
      " '942' '227' '506' '320' '298' '873' '180' '465' '534' '362' '341' '242'\n",
      " '442' '239' '616' '5' '989' '853' '845' '361' '78' '594' '802' '810'\n",
      " '210' '421' '528' '205' '791' '983' '172' '622' '719' '306' '863' '864'\n",
      " '349' '474' '607' '660' '759' '416' '300' '790' '634' '967' '430' '732'\n",
      " '171' '370' '252' '801' '846' '164' '365' '718' '533' '250.92' '720'\n",
      " '161' '565' '396' '53' '344' '275' '170' '878' '813' '977' '250.93' '843'\n",
      " '939' '860' '551' '516' '617' '991' '226' '483' '9' '150' '156' '935'\n",
      " '200' '800' '262' '145' '581' '685' '710' '655' '117' '35' '920' '481'\n",
      " '519' '34' '179' '136' '389' '155' '334' '143' '917' '94' '88' '152'\n",
      " '184' '747' '717' '994' '207' '637' '195' '490' '373' '847' '323' '223'\n",
      " '992' '310' '627' '513' '228' '736' '378' '342' '886' '250.01' '745'\n",
      " '357' '934' '261' '307' '473' '882' '324' '986' '610' '633' '640' '454'\n",
      " '693' '796' '369' '966' '753' '570' '383' '379' '445' '756' '945' '619'\n",
      " '705' '394' '526' '643' '250.52' '866' '405' '916' '495' '215' '797'\n",
      " '893' '987' '75' '514' '906' '897' '725' '580' '867' '115' '734' '674'\n",
      " '521' '834' '146' '696' '214' '487' '980' '691' '142' '879' '861'\n",
      " '250.51' '246' '848' '695' '250.21' '524' '237' '964' '955' '653' '149'\n",
      " '245' '735' '883' '230' '792' '854' '933' '952' '388' '708' '192' '970'\n",
      " '838' '194' '216' '27' '318' '921' '471' '683' '891' '448' '175' '602'\n",
      " '382' '187' '141' '706' '272' '201' '375' '417' '463' '385' '358' '816'\n",
      " '470' '936' '880' '588' '709' '914' '314' '746' '173' '692' '57' '240'\n",
      " '250.9' '384' '865' '163' '360' '452' '327' '842' '645' '793' '665' '944'\n",
      " '923' '412' '815' '976' '299' '97']\n",
      "diag_2\n",
      "['198' '250.43' '411' '174' '428' '585' '410' '999' '250.01' '496' '427'\n",
      " '196' '424' '780' '250.6' '401' '413' '867' '285' '276' '403' '486' '8'\n",
      " '250.02' '788' '440' '250' '250.03' '340' '574' '998' '581' '530' '786'\n",
      " '511' '493' '567' '785' '512' '305' '707' '425' '250.51' '280' '648'\n",
      " '414' '70' '444' '38' '578' '491' '571' '997' '599' '560' '426' '584'\n",
      " '402' '272' '34' '881' '203' '250.41' '250.13' '293' '250.12' '787' '342'\n",
      " '573' '303' '250.53' '710' '415' '569' '729' '682' '112' '292' '277'\n",
      " '435' '996' '535' '250.93' '642' '319' '711' '446' '41' '255' '242'\n",
      " '250.7' '300' '562' '287' '447' '790' '591' '250.82' '518' '250.52' '135'\n",
      " '304' '852' '250.83' '733' '162' '575' '482' '382' '456' '577' '572' '78'\n",
      " '250.81' '576' '432' '244' '53' '288' '295' '204' '466' '721' '153' '590'\n",
      " '271' '813' '368' '250.5' '492' '258' '253' '309' '515' '789' '250.91'\n",
      " '434' '157' '284' '290' '333' '396' '420' '250.92' '345' '250.4' '433'\n",
      " '537' '722' '405' '416' '437' '784' '714' '211' '397' '250.23' '294'\n",
      " '201' '301' '723' '614' '197' '568' '724' '189' '297' '453' '730' '278'\n",
      " '536' '202' '412' '354' '781' '462' '150' '738' '805' '218' '715' '358'\n",
      " '220' '958' '553' '794' '564' '436' '250.22' '620' '621' '263' '617'\n",
      " '596' '378' '250.8' '625' '731' '451' '286' '681' '558' '507' '470' '279'\n",
      " '281' '443' '250.42' '799' '337' '311' '250.11' '719' '404' '480' '199'\n",
      " '348' '42' '583' '473' '490' '317' '332' '508' '600' '331' '349' '485'\n",
      " '208' '922' '296' '753' '478' '386' '728' '191' '873' '850' '352' '513'\n",
      " '607' '223' '291' '438' '185' '592' '423' '791' '598' '362' '155' '217'\n",
      " '298' '429' '716' '250.9' '465' '138' '696' '275' '357' '595' '618'\n",
      " '250.1' '601' '531' '481' '380' '570' '359' '519' '911' '727' '532' '557'\n",
      " '718' '726' '441' '604' '580' '241' '782' '824' '459' '282' '550' '701'\n",
      " '344' '565' '383' '458' '820' '431' '905' '79' '646' '921' '131' '389'\n",
      " '154' '593' '705' '421' '336' '623' '299' '959' '394' '40' '377' '691'\n",
      " '626' '736' '5' '814' '746' '250.31' '283' '274' '306' '552' '918' '882'\n",
      " '520' '188' '356' '737' '151' '322' '182' '517' '974' '912' '252' '608'\n",
      " '695' '200' '516' '94' '611' '680' '702' '923' '594' '510' '365' '343'\n",
      " '430' '487' '808' '807' '796' '616' '398' '977' '556' '346' '915' '756'\n",
      " '455' '840' '725' '647' '528' '501' '522' '783' '919' '273' '172' '494'\n",
      " '483' '31' '566' '452' '906' '454' '826' '823' '226' '844' '250.33' '615'\n",
      " '588' '663' '706' '289' '713' '533' '372' '233' '861' '586' '214' '684'\n",
      " '205' '717' '869' '110' '543' '351' '821' '627' '810' '965' '924' '457'\n",
      " '995' '845' '751' '461' '323' '472' '464' '250.32' '709' '117' '652' '54'\n",
      " '227' '659' '802' '422' '325' '463' '920' '992' '692' '484' '934' '521'\n",
      " '369' '693' '579' '741' '193' '524' '173' '136' '758' '238' '335' '137'\n",
      " '225' '312' '837' '355' '475' '500' '324' '754' '261' '891' '11' '250.21'\n",
      " '694' '734' '130' '246' '892' '846' '634' '75' '183' '442' '163' '514'\n",
      " '747' '860' '832' '602' '812' '644' '35' '152' '376' '801' '266' '540'\n",
      " '477' '656' '883' '698' '842' '664' '952' '527' '851' '792' '320' '27'\n",
      " '232' '245' '990' '156' '308' '495' '793' '610' '327' '555' '250.2' '745'\n",
      " '864' '963' '314' '645' '686' '374' '712' '748' '96' '395' '262' '654'\n",
      " '381' '318' '307' '641' '603']\n",
      "diag_3\n",
      "['486' '250.6' '427' '250' '414' '250.01' '401' '278' '428' '553' '276'\n",
      " '250.8' '250.7' '250.52' '411' '581' '420' '496' '730' '131' '250.82'\n",
      " '707' '424' '41' '493' '786' '263' '518' '250.02' '303' '560' '711' '8'\n",
      " '492' '332' '425' '794' '296' '438' '789' '362' '250.4' '654' '244' '403'\n",
      " '599' '996' '681' '250.51' '404' '810' '280' '440' '785' '569' '272'\n",
      " '997' '250.43' '918' '584' '54' '250.41' '788' '416' '722' '250.92' '998'\n",
      " '461' '535' '787' '891' '284' '648' '250.03' '780' '182' '285' '593'\n",
      " '426' '664' '682' '564' '201' '356' '413' '292' '782' '715' '784' '455'\n",
      " '357' '348' '531' '250.23' '714' '459' '733' '507' '525' '250.53' '437'\n",
      " '572' '805' '305' '736' '402' '591' '576' '465' '703' '349' '658' '331'\n",
      " '578' '716' '382' '282' '571' '536' '585' '596' '250.42' '644' '558'\n",
      " '458' '38' '288' '491' '729' '836' '300' '295' '443' '799' '281' '304'\n",
      " '153' '616' '250.83' '601' '291' '75' '512' '660' '250.5' '598' '574'\n",
      " '653' '255' '562' '415' '197' '386' '397' '625' '602' '790' '511' '112'\n",
      " '873' '196' '436' '155' '999' '138' '663' '710' '42' '250.91' '515' '307'\n",
      " '704' '453' '728' '731' '583' '441' '293' '287' '573' '532' '342' '290'\n",
      " '595' '319' '433' '250.12' '519' '346' '380' '135' '642' '698' '294'\n",
      " '924' '412' '905' '555' '482' '309' '565' '752' '781' '530' '446' '444'\n",
      " '344' '577' '490' '252' '35' '311' '301' '473' '258' '746' '337' '881'\n",
      " '724' '139' '250.81' '718' '620' '365' '202' '218' '185' '517' '435'\n",
      " '533' '614' '466' '626' '250.9' '368' '605' '883' '410' '289' '478' '617'\n",
      " '429' '70' '610' '557' '345' '313' '379' '79' '198' '821' '242' '373'\n",
      " '592' '253' '959' '706' '396' '340' '656' '590' '934' '394' '694' '203'\n",
      " '709' '250.93' '726' '923' '275' '211' '199' '665' '920' '791' '890'\n",
      " '286' '456' '122' '721' '423' '802' '793' '238' '647' '537' '351' '845'\n",
      " '274' '945' '494' '227' '162' '208' '174' '812' '608' '447' '692' '552'\n",
      " '389' '240' '53' '907' '600' '270' '568' '266' '245' '607' '355' '705'\n",
      " '372' '369' '611' '575' '398' '310' '251' '250.2' '820' '712' '343' '567'\n",
      " '228' '273' '623' '807' '618' '701' '34' '314' '472' '434' '189' '534'\n",
      " '333' '277' '452' '816' '670' '621' '250.13' '246' '783' '646' '298'\n",
      " '840' '641' '521' '529' '719' '619' '792' '506' '259' '151' '594' '695'\n",
      " '696' '566' '727' '745' '737' '582' '191' '965' '921' '477' '524' '652'\n",
      " '723' '432' '442' '188' '825' '732' '908' '951' '962' '378' '685' '693'\n",
      " '250.1' '204' '323' '110' '969' '680' '697' '200' '738' '655' '308' '528'\n",
      " '725' '241' '405' '457' '917' '239' '661' '892' '487' '261' '627' '943'\n",
      " '744' '796' '318' '867' '522' '967' '350' '9' '170' '659' '579' '919'\n",
      " '462' '742' '909' '78' '713' '708' '150' '157' '250.11' '464' '271'\n",
      " '250.22' '543' '882' '94' '906' '445' '861' '801' '995' '970' '813' '256'\n",
      " '243' '823' '481' '299' '454' '851' '220' '922' '354' '384' '205' '824'\n",
      " '556' '366' '871' '604' '233' '358' '797' '172' '451' '421' '852' '972'\n",
      " '260' '747' '717' '916' '753' '686' '173' '193' '154' '347' '862' '586'\n",
      " '283' '847' '987' '470' '262' '516' '161' '115' '179' '383' '306' '17'\n",
      " '460' '265' '359' '163' '815' '870' '225' '514' '910' '944' '844' '756'\n",
      " '417' '152' '734' '991' '164' '335' '360' '485' '312' '297' '872' '377'\n",
      " '860' '195' '588' '826' '11' '317' '171' '868' '915' '117' '570' '808'\n",
      " '192' '754' '327' '741' '500' '992' '831' '751' '850' '235' '501' '956'\n",
      " '334' '341' '361' '720' '279' '674' '374' '226']\n",
      "glyburide-metformin\n",
      "['No' 'Steady' 'Up' 'Down']\n",
      "glipizide-metformin\n",
      "['No' 'Steady']\n",
      "change\n",
      "['Ch' 'No']\n",
      "6\n"
     ]
    }
   ],
   "source": [
    "count = 0\n",
    "for i in data1.columns:\n",
    "    if(isinstance(data1.iloc[0][i],str)):\n",
    "        print(i)\n",
    "        print(data1[i].unique())\n",
    "        count = count + 1\n",
    "print(count)"
   ]
  },
  {
   "cell_type": "code",
   "execution_count": 42,
   "metadata": {},
   "outputs": [],
   "source": [
    "le = preprocessing.LabelEncoder()\n",
    "le.fit(['No','Steady','Down','Up'])\n",
    "data1['glyburide-metformin']=le.transform(data1['glyburide-metformin'])"
   ]
  },
  {
   "cell_type": "code",
   "execution_count": 43,
   "metadata": {},
   "outputs": [],
   "source": [
    "le = preprocessing.LabelEncoder()\n",
    "le.fit(['No','Steady'])\n",
    "data1['glipizide-metformin']=le.transform(data1['glipizide-metformin'])\n",
    "le = preprocessing.LabelEncoder()\n",
    "le.fit(['Ch','No'])\n",
    "data1['change']=le.transform(data1['change'])"
   ]
  },
  {
   "cell_type": "code",
   "execution_count": 44,
   "metadata": {},
   "outputs": [
    {
     "name": "stdout",
     "output_type": "stream",
     "text": [
      "[3.745e+00 4.161e+00 7.551e+00 5.325e+01 2.213e+02 7.275e+01 6.420e+01\n",
      " 1.803e+02 1.209e+03 4.076e+01 4.427e-01 1.687e+03 3.024e+02 3.643e-01\n",
      " 2.946e+00 5.581e-01 3.991e-02 8.713e-04 4.393e-02 1.457e-01 2.425e-03\n",
      " 3.899e-01 3.697e-01 6.078e-02 2.373e-02 3.602e-05 2.344e+00 4.094e+00\n",
      " 3.231e-01 9.030e-03 8.532e-01 3.685e+01 3.691e+01]\n",
      "[[ 12.    33.     3.    18.     0.   486.     8.  ]\n",
      " [  7.    60.     0.    15.     1.   250.6    8.  ]\n",
      " [ 10.    55.     1.    31.     0.   427.     8.  ]\n",
      " [  3.    29.     0.    11.     0.   250.     3.  ]\n",
      " [  6.    64.     3.    18.     0.   414.     7.  ]\n",
      " [  2.    25.     2.    11.     0.   250.01   3.  ]]\n"
     ]
    }
   ],
   "source": [
    "from sklearn.feature_selection import SelectKBest\n",
    "from sklearn.feature_selection import chi2\n",
    "# load data\n",
    "array1 = data1.values\n",
    "X = array1[:,0:33]\n",
    "Y = array1[:,33]\n",
    "Y = Y.astype('int')\n",
    "# feature extraction\n",
    "test = SelectKBest(score_func=chi2, k=7)\n",
    "fit = test.fit(X, Y)\n",
    "# summarize scores\n",
    "np.set_printoptions(precision=3)\n",
    "print(fit.scores_)\n",
    "features = fit.transform(X)\n",
    "# summarize selected features\n",
    "print(features[0:6,:])"
   ]
  },
  {
   "cell_type": "code",
   "execution_count": 45,
   "metadata": {},
   "outputs": [
    {
     "data": {
      "text/plain": [
       "Index(['time_in_hospital', 'num_lab_procedures', 'num_procedures',\n",
       "       'num_medications', 'number_emergency', 'diag_3', 'number_diagnoses'],\n",
       "      dtype='object')"
      ]
     },
     "execution_count": 45,
     "metadata": {},
     "output_type": "execute_result"
    }
   ],
   "source": [
    "idxs_selected = test.get_support(indices=True)\n",
    "# Create new dataframe with only desired columns, or overwrite existing\n",
    "features_dataframe_new = data1.columns[idxs_selected]\n",
    "features_dataframe_new"
   ]
  },
  {
   "cell_type": "code",
   "execution_count": 46,
   "metadata": {},
   "outputs": [
    {
     "data": {
      "text/html": [
       "<div>\n",
       "<style scoped>\n",
       "    .dataframe tbody tr th:only-of-type {\n",
       "        vertical-align: middle;\n",
       "    }\n",
       "\n",
       "    .dataframe tbody tr th {\n",
       "        vertical-align: top;\n",
       "    }\n",
       "\n",
       "    .dataframe thead th {\n",
       "        text-align: right;\n",
       "    }\n",
       "</style>\n",
       "<table border=\"1\" class=\"dataframe\">\n",
       "  <thead>\n",
       "    <tr style=\"text-align: right;\">\n",
       "      <th></th>\n",
       "      <th>time_in_hospital</th>\n",
       "      <th>num_lab_procedures</th>\n",
       "      <th>num_procedures</th>\n",
       "      <th>num_medications</th>\n",
       "      <th>number_emergency</th>\n",
       "      <th>diag_3</th>\n",
       "      <th>number_diagnoses</th>\n",
       "      <th>readmitted</th>\n",
       "    </tr>\n",
       "  </thead>\n",
       "  <tbody>\n",
       "    <tr>\n",
       "      <th>9</th>\n",
       "      <td>12</td>\n",
       "      <td>33</td>\n",
       "      <td>3</td>\n",
       "      <td>18</td>\n",
       "      <td>0</td>\n",
       "      <td>486</td>\n",
       "      <td>8</td>\n",
       "      <td>0</td>\n",
       "    </tr>\n",
       "    <tr>\n",
       "      <th>12</th>\n",
       "      <td>7</td>\n",
       "      <td>60</td>\n",
       "      <td>0</td>\n",
       "      <td>15</td>\n",
       "      <td>1</td>\n",
       "      <td>250.6</td>\n",
       "      <td>8</td>\n",
       "      <td>1</td>\n",
       "    </tr>\n",
       "    <tr>\n",
       "      <th>13</th>\n",
       "      <td>10</td>\n",
       "      <td>55</td>\n",
       "      <td>1</td>\n",
       "      <td>31</td>\n",
       "      <td>0</td>\n",
       "      <td>427</td>\n",
       "      <td>8</td>\n",
       "      <td>0</td>\n",
       "    </tr>\n",
       "    <tr>\n",
       "      <th>17</th>\n",
       "      <td>3</td>\n",
       "      <td>29</td>\n",
       "      <td>0</td>\n",
       "      <td>11</td>\n",
       "      <td>0</td>\n",
       "      <td>250</td>\n",
       "      <td>3</td>\n",
       "      <td>0</td>\n",
       "    </tr>\n",
       "    <tr>\n",
       "      <th>26</th>\n",
       "      <td>6</td>\n",
       "      <td>64</td>\n",
       "      <td>3</td>\n",
       "      <td>18</td>\n",
       "      <td>0</td>\n",
       "      <td>414</td>\n",
       "      <td>7</td>\n",
       "      <td>0</td>\n",
       "    </tr>\n",
       "  </tbody>\n",
       "</table>\n",
       "</div>"
      ],
      "text/plain": [
       "    time_in_hospital  num_lab_procedures  num_procedures  num_medications  \\\n",
       "9                 12                  33               3               18   \n",
       "12                 7                  60               0               15   \n",
       "13                10                  55               1               31   \n",
       "17                 3                  29               0               11   \n",
       "26                 6                  64               3               18   \n",
       "\n",
       "    number_emergency diag_3  number_diagnoses  readmitted  \n",
       "9                  0    486                 8           0  \n",
       "12                 1  250.6                 8           1  \n",
       "13                 0    427                 8           0  \n",
       "17                 0    250                 3           0  \n",
       "26                 0    414                 7           0  "
      ]
     },
     "execution_count": 46,
     "metadata": {},
     "output_type": "execute_result"
    }
   ],
   "source": [
    "data34 = data1[['time_in_hospital', 'num_lab_procedures', 'num_procedures',\n",
    "       'num_medications', 'number_emergency', 'diag_3', 'number_diagnoses','readmitted']]\n",
    "data34.head()"
   ]
  },
  {
   "cell_type": "code",
   "execution_count": 47,
   "metadata": {},
   "outputs": [
    {
     "name": "stdout",
     "output_type": "stream",
     "text": [
      "(27477, 7) (27477,) (6870, 7) (6870,)\n"
     ]
    }
   ],
   "source": [
    "from sklearn.model_selection import train_test_split\n",
    "train,test = train_test_split(data1,test_size=0.2)\n",
    "trainx = pd.DataFrame(train[['time_in_hospital', 'num_lab_procedures', 'num_procedures',\n",
    "       'num_medications', 'number_emergency', 'diag_3', 'number_diagnoses']])\n",
    "trainy = train['readmitted']                           \n",
    "testx = pd.DataFrame(test[['time_in_hospital', 'num_lab_procedures', 'num_procedures',\n",
    "       'num_medications', 'number_emergency', 'diag_3', 'number_diagnoses']])\n",
    "testy = test['readmitted']\n",
    "print(trainx.shape,trainy.shape,testx.shape,testy.shape)"
   ]
  },
  {
   "cell_type": "code",
   "execution_count": 49,
   "metadata": {},
   "outputs": [
    {
     "name": "stdout",
     "output_type": "stream",
     "text": [
      "Number of Trees 1\n",
      "Accuracy 0.5126637554585153\n",
      "Number of Trees 2\n",
      "Accuracy 0.5423580786026201\n",
      "Number of Trees 3\n",
      "Accuracy 0.5377001455604076\n",
      "Number of Trees 4\n",
      "Accuracy 0.5525473071324599\n",
      "Number of Trees 5\n",
      "Accuracy 0.5448326055312955\n",
      "Number of Trees 6\n",
      "Accuracy 0.5524017467248908\n",
      "Number of Trees 7\n",
      "Accuracy 0.5493449781659389\n",
      "Number of Trees 8\n",
      "Accuracy 0.5522561863173217\n",
      "Number of Trees 9\n",
      "Accuracy 0.5443959243085881\n",
      "Number of Trees 10\n",
      "Accuracy 0.548471615720524\n",
      "Number of Trees 11\n",
      "Accuracy 0.5448326055312955\n",
      "Number of Trees 12\n",
      "Accuracy 0.5547307132459971\n",
      "Number of Trees 13\n",
      "Accuracy 0.5489082969432314\n",
      "Number of Trees 14\n",
      "Accuracy 0.5636098981077147\n"
     ]
    }
   ],
   "source": [
    "list1 = list()\n",
    "list2 = list()\n",
    "from sklearn.ensemble import RandomForestClassifier\n",
    "for val in range(1,15,1):\n",
    "    rf = RandomForestClassifier(n_estimators = val,criterion=\"entropy\",max_features=\"auto\")\n",
    "    rf.fit(trainx, trainy)\n",
    "    from sklearn.metrics import accuracy_score\n",
    "    predictions = rf.predict(testx)\n",
    "    accuracy = accuracy_score(testy, predictions)\n",
    "    print(\"Number of Trees\",val)\n",
    "    print(\"Accuracy\",accuracy)\n",
    "    list1 = list1 + [accuracy]\n",
    "    list2 = list2 + [val]"
   ]
  },
  {
   "cell_type": "markdown",
   "metadata": {},
   "source": [
    "<h1> SVM </h1>"
   ]
  },
  {
   "cell_type": "code",
   "execution_count": 48,
   "metadata": {},
   "outputs": [
    {
     "ename": "KeyError",
     "evalue": "\"['number_inpatient'] not in index\"",
     "output_type": "error",
     "traceback": [
      "\u001b[1;31m---------------------------------------------------------------------------\u001b[0m",
      "\u001b[1;31mKeyError\u001b[0m                                  Traceback (most recent call last)",
      "\u001b[1;32m<ipython-input-48-a1c3691c5869>\u001b[0m in \u001b[0;36m<module>\u001b[1;34m()\u001b[0m\n\u001b[0;32m      1\u001b[0m \u001b[1;32mfrom\u001b[0m \u001b[0msklearn\u001b[0m\u001b[1;33m.\u001b[0m\u001b[0mmodel_selection\u001b[0m \u001b[1;32mimport\u001b[0m \u001b[0mtrain_test_split\u001b[0m\u001b[1;33m\u001b[0m\u001b[0m\n\u001b[0;32m      2\u001b[0m \u001b[0mtrain\u001b[0m\u001b[1;33m,\u001b[0m\u001b[0mtest\u001b[0m \u001b[1;33m=\u001b[0m \u001b[0mtrain_test_split\u001b[0m\u001b[1;33m(\u001b[0m\u001b[0mdata1\u001b[0m\u001b[1;33m,\u001b[0m\u001b[0mtest_size\u001b[0m\u001b[1;33m=\u001b[0m\u001b[1;36m0.2\u001b[0m\u001b[1;33m)\u001b[0m\u001b[1;33m\u001b[0m\u001b[0m\n\u001b[1;32m----> 3\u001b[1;33m \u001b[0mtrainx\u001b[0m \u001b[1;33m=\u001b[0m \u001b[0mpd\u001b[0m\u001b[1;33m.\u001b[0m\u001b[0mDataFrame\u001b[0m\u001b[1;33m(\u001b[0m\u001b[0mtrain\u001b[0m\u001b[1;33m[\u001b[0m\u001b[1;33m[\u001b[0m\u001b[1;34m'number_inpatient'\u001b[0m\u001b[1;33m]\u001b[0m\u001b[1;33m]\u001b[0m\u001b[1;33m)\u001b[0m\u001b[1;33m\u001b[0m\u001b[0m\n\u001b[0m\u001b[0;32m      4\u001b[0m \u001b[0mtrainy\u001b[0m \u001b[1;33m=\u001b[0m \u001b[0mtrain\u001b[0m\u001b[1;33m[\u001b[0m\u001b[1;34m'readmitted'\u001b[0m\u001b[1;33m]\u001b[0m\u001b[1;33m\u001b[0m\u001b[0m\n\u001b[0;32m      5\u001b[0m \u001b[0mtestx\u001b[0m \u001b[1;33m=\u001b[0m \u001b[0mpd\u001b[0m\u001b[1;33m.\u001b[0m\u001b[0mDataFrame\u001b[0m\u001b[1;33m(\u001b[0m\u001b[0mtest\u001b[0m\u001b[1;33m[\u001b[0m\u001b[1;33m[\u001b[0m \u001b[1;34m'number_inpatient'\u001b[0m\u001b[1;33m]\u001b[0m\u001b[1;33m]\u001b[0m\u001b[1;33m)\u001b[0m\u001b[1;33m\u001b[0m\u001b[0m\n",
      "\u001b[1;32mc:\\users\\hp\\appdata\\local\\programs\\python\\python35\\lib\\site-packages\\pandas\\core\\frame.py\u001b[0m in \u001b[0;36m__getitem__\u001b[1;34m(self, key)\u001b[0m\n\u001b[0;32m   2131\u001b[0m         \u001b[1;32mif\u001b[0m \u001b[0misinstance\u001b[0m\u001b[1;33m(\u001b[0m\u001b[0mkey\u001b[0m\u001b[1;33m,\u001b[0m \u001b[1;33m(\u001b[0m\u001b[0mSeries\u001b[0m\u001b[1;33m,\u001b[0m \u001b[0mnp\u001b[0m\u001b[1;33m.\u001b[0m\u001b[0mndarray\u001b[0m\u001b[1;33m,\u001b[0m \u001b[0mIndex\u001b[0m\u001b[1;33m,\u001b[0m \u001b[0mlist\u001b[0m\u001b[1;33m)\u001b[0m\u001b[1;33m)\u001b[0m\u001b[1;33m:\u001b[0m\u001b[1;33m\u001b[0m\u001b[0m\n\u001b[0;32m   2132\u001b[0m             \u001b[1;31m# either boolean or fancy integer index\u001b[0m\u001b[1;33m\u001b[0m\u001b[1;33m\u001b[0m\u001b[0m\n\u001b[1;32m-> 2133\u001b[1;33m             \u001b[1;32mreturn\u001b[0m \u001b[0mself\u001b[0m\u001b[1;33m.\u001b[0m\u001b[0m_getitem_array\u001b[0m\u001b[1;33m(\u001b[0m\u001b[0mkey\u001b[0m\u001b[1;33m)\u001b[0m\u001b[1;33m\u001b[0m\u001b[0m\n\u001b[0m\u001b[0;32m   2134\u001b[0m         \u001b[1;32melif\u001b[0m \u001b[0misinstance\u001b[0m\u001b[1;33m(\u001b[0m\u001b[0mkey\u001b[0m\u001b[1;33m,\u001b[0m \u001b[0mDataFrame\u001b[0m\u001b[1;33m)\u001b[0m\u001b[1;33m:\u001b[0m\u001b[1;33m\u001b[0m\u001b[0m\n\u001b[0;32m   2135\u001b[0m             \u001b[1;32mreturn\u001b[0m \u001b[0mself\u001b[0m\u001b[1;33m.\u001b[0m\u001b[0m_getitem_frame\u001b[0m\u001b[1;33m(\u001b[0m\u001b[0mkey\u001b[0m\u001b[1;33m)\u001b[0m\u001b[1;33m\u001b[0m\u001b[0m\n",
      "\u001b[1;32mc:\\users\\hp\\appdata\\local\\programs\\python\\python35\\lib\\site-packages\\pandas\\core\\frame.py\u001b[0m in \u001b[0;36m_getitem_array\u001b[1;34m(self, key)\u001b[0m\n\u001b[0;32m   2175\u001b[0m             \u001b[1;32mreturn\u001b[0m \u001b[0mself\u001b[0m\u001b[1;33m.\u001b[0m\u001b[0m_take\u001b[0m\u001b[1;33m(\u001b[0m\u001b[0mindexer\u001b[0m\u001b[1;33m,\u001b[0m \u001b[0maxis\u001b[0m\u001b[1;33m=\u001b[0m\u001b[1;36m0\u001b[0m\u001b[1;33m,\u001b[0m \u001b[0mconvert\u001b[0m\u001b[1;33m=\u001b[0m\u001b[1;32mFalse\u001b[0m\u001b[1;33m)\u001b[0m\u001b[1;33m\u001b[0m\u001b[0m\n\u001b[0;32m   2176\u001b[0m         \u001b[1;32melse\u001b[0m\u001b[1;33m:\u001b[0m\u001b[1;33m\u001b[0m\u001b[0m\n\u001b[1;32m-> 2177\u001b[1;33m             \u001b[0mindexer\u001b[0m \u001b[1;33m=\u001b[0m \u001b[0mself\u001b[0m\u001b[1;33m.\u001b[0m\u001b[0mloc\u001b[0m\u001b[1;33m.\u001b[0m\u001b[0m_convert_to_indexer\u001b[0m\u001b[1;33m(\u001b[0m\u001b[0mkey\u001b[0m\u001b[1;33m,\u001b[0m \u001b[0maxis\u001b[0m\u001b[1;33m=\u001b[0m\u001b[1;36m1\u001b[0m\u001b[1;33m)\u001b[0m\u001b[1;33m\u001b[0m\u001b[0m\n\u001b[0m\u001b[0;32m   2178\u001b[0m             \u001b[1;32mreturn\u001b[0m \u001b[0mself\u001b[0m\u001b[1;33m.\u001b[0m\u001b[0m_take\u001b[0m\u001b[1;33m(\u001b[0m\u001b[0mindexer\u001b[0m\u001b[1;33m,\u001b[0m \u001b[0maxis\u001b[0m\u001b[1;33m=\u001b[0m\u001b[1;36m1\u001b[0m\u001b[1;33m,\u001b[0m \u001b[0mconvert\u001b[0m\u001b[1;33m=\u001b[0m\u001b[1;32mTrue\u001b[0m\u001b[1;33m)\u001b[0m\u001b[1;33m\u001b[0m\u001b[0m\n\u001b[0;32m   2179\u001b[0m \u001b[1;33m\u001b[0m\u001b[0m\n",
      "\u001b[1;32mc:\\users\\hp\\appdata\\local\\programs\\python\\python35\\lib\\site-packages\\pandas\\core\\indexing.py\u001b[0m in \u001b[0;36m_convert_to_indexer\u001b[1;34m(self, obj, axis, is_setter)\u001b[0m\n\u001b[0;32m   1267\u001b[0m                 \u001b[1;32mif\u001b[0m \u001b[0mmask\u001b[0m\u001b[1;33m.\u001b[0m\u001b[0many\u001b[0m\u001b[1;33m(\u001b[0m\u001b[1;33m)\u001b[0m\u001b[1;33m:\u001b[0m\u001b[1;33m\u001b[0m\u001b[0m\n\u001b[0;32m   1268\u001b[0m                     raise KeyError('{mask} not in index'\n\u001b[1;32m-> 1269\u001b[1;33m                                    .format(mask=objarr[mask]))\n\u001b[0m\u001b[0;32m   1270\u001b[0m \u001b[1;33m\u001b[0m\u001b[0m\n\u001b[0;32m   1271\u001b[0m                 \u001b[1;32mreturn\u001b[0m \u001b[0m_values_from_object\u001b[0m\u001b[1;33m(\u001b[0m\u001b[0mindexer\u001b[0m\u001b[1;33m)\u001b[0m\u001b[1;33m\u001b[0m\u001b[0m\n",
      "\u001b[1;31mKeyError\u001b[0m: \"['number_inpatient'] not in index\""
     ]
    }
   ],
   "source": [
    "from sklearn.model_selection import train_test_split\n",
    "train,test = train_test_split(data1,test_size=0.2)\n",
    "trainx = pd.DataFrame(train[['number_inpatient']])\n",
    "trainy = train['readmitted']                           \n",
    "testx = pd.DataFrame(test[[ 'number_inpatient']])\n",
    "testy = test['readmitted']\n",
    "print(trainx.shape,trainy.shape,testx.shape,testy.shape)"
   ]
  },
  {
   "cell_type": "code",
   "execution_count": 132,
   "metadata": {},
   "outputs": [
    {
     "data": {
      "text/plain": [
       "0.5922852983988355"
      ]
     },
     "execution_count": 132,
     "metadata": {},
     "output_type": "execute_result"
    }
   ],
   "source": [
    "from sklearn import svm  \n",
    "C = 1.0  # SVM regularization parameter\n",
    " # SVC with linear kernel\n",
    "svc = svm.SVC(kernel='linear', C=C).fit(trainx, trainy)\n",
    "y_pred = svc.predict(testx)\n",
    "accuracy_score(testy, y_pred, normalize=True, sample_weight=None)"
   ]
  },
  {
   "cell_type": "code",
   "execution_count": 133,
   "metadata": {},
   "outputs": [
    {
     "data": {
      "text/plain": [
       "0.6109170305676855"
      ]
     },
     "execution_count": 133,
     "metadata": {},
     "output_type": "execute_result"
    }
   ],
   "source": [
    " from sklearn import svm  \n",
    "C = 20.0  # SVM regularization parameter\n",
    " # SVC with linear kernel\n",
    "lin_svc = svm.LinearSVC(C=C).fit(trainx, trainy)\n",
    "y_pred = lin_svc.predict(testx)\n",
    "accuracy_score(testy, y_pred, normalize=True, sample_weight=None)"
   ]
  },
  {
   "cell_type": "code",
   "execution_count": 134,
   "metadata": {},
   "outputs": [
    {
     "data": {
      "text/plain": [
       "0.6109170305676855"
      ]
     },
     "execution_count": 134,
     "metadata": {},
     "output_type": "execute_result"
    }
   ],
   "source": [
    "from sklearn import svm  \n",
    "C = 20.0  # SVM regularization parameter\n",
    " # SVC with linear kernel\n",
    "rbf_svc = svm.SVC(kernel='rbf', gamma=0.7, C=C).fit(trainx, trainy)\n",
    "y_pred = rbf_svc.predict(testx)\n",
    "accuracy_score(testy, y_pred, normalize=True, sample_weight=None)"
   ]
  },
  {
   "cell_type": "code",
   "execution_count": 140,
   "metadata": {},
   "outputs": [
    {
     "data": {
      "text/plain": [
       "0.5561863173216886"
      ]
     },
     "execution_count": 140,
     "metadata": {},
     "output_type": "execute_result"
    }
   ],
   "source": [
    " from sklearn import svm  \n",
    "C = 1.0  # SVM regularization parameter\n",
    " # SVC with linear kernel\n",
    "svc = svm.SVC(kernel='poly',degree=3, C=C).fit(trainx, trainy)\n",
    "svc.score(testx,testy)\n",
    "#y_pred = svc.predict(testx)\n",
    "#accuracy_score(testy, y_pred, normalize=True, sample_weight=None)"
   ]
  }
 ],
 "metadata": {
  "kernelspec": {
   "display_name": "Python 3",
   "language": "python",
   "name": "python3"
  },
  "language_info": {
   "codemirror_mode": {
    "name": "ipython",
    "version": 3
   },
   "file_extension": ".py",
   "mimetype": "text/x-python",
   "name": "python",
   "nbconvert_exporter": "python",
   "pygments_lexer": "ipython3",
   "version": "3.5.3"
  }
 },
 "nbformat": 4,
 "nbformat_minor": 2
}
